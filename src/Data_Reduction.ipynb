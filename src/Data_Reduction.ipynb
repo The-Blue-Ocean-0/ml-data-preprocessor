{
 "cells": [
  {
   "cell_type": "code",
   "execution_count": 1,
   "metadata": {},
   "outputs": [
    {
     "name": "stdout",
     "output_type": "stream",
     "text": [
      "샘플링된 데이터가 저장되었습니다\n"
     ]
    }
   ],
   "source": [
    "# src/select_samples.py\n",
    "\n",
    "import pandas as pd\n",
    "\n",
    "# 데이터 불러오기\n",
    "df = pd.read_csv('../data/url_metadata_cleaned.csv')\n",
    "\n",
    "# url_type이 3인 행 제거\n",
    "df = df[df[\"url_type\"] != 3]\n",
    "\n",
    "# url_type별로 20000개씩 랜덤 샘플링\n",
    "sampled_df = (\n",
    "    df[df[\"url_type\"].isin([0, 1, 2])]\n",
    "    .groupby(\"url_type\")\n",
    "    .sample(n=20000, random_state=42)\n",
    "    .reset_index(drop=True)\n",
    ")\n",
    "\n",
    "# 새로운 CSV로 저장\n",
    "sampled_df.to_csv('../data/url_metadata_cleaned_reduction.csv', index=False)\n",
    "\n",
    "print(\"샘플링된 데이터가 저장되었습니다\")\n"
   ]
  }
 ],
 "metadata": {
  "kernelspec": {
   "display_name": "study",
   "language": "python",
   "name": "python3"
  },
  "language_info": {
   "codemirror_mode": {
    "name": "ipython",
    "version": 3
   },
   "file_extension": ".py",
   "mimetype": "text/x-python",
   "name": "python",
   "nbconvert_exporter": "python",
   "pygments_lexer": "ipython3",
   "version": "3.12.8"
  }
 },
 "nbformat": 4,
 "nbformat_minor": 2
}
