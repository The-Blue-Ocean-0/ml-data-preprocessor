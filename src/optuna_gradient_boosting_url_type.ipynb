{
 "cells": [
  {
   "cell_type": "code",
   "execution_count": 1,
   "id": "3f888473",
   "metadata": {},
   "outputs": [],
   "source": [
    "\n",
    "import pandas as pd\n",
    "import numpy as np\n",
    "from sklearn.model_selection import train_test_split, cross_val_score\n",
    "from sklearn.ensemble import GradientBoostingClassifier\n",
    "from sklearn.metrics import classification_report, confusion_matrix\n",
    "import matplotlib.pyplot as plt\n",
    "import seaborn as sns\n",
    "import optuna\n"
   ]
  },
  {
   "cell_type": "code",
   "execution_count": 2,
   "id": "3d052f2e",
   "metadata": {},
   "outputs": [],
   "source": [
    "\n",
    "# ファイル読み込み\n",
    "df = pd.read_csv('../data/combined_batches_cleaned_26k_3.csv')\n",
    "\n",
    "# 不要な文字列列を削除\n",
    "df = df.drop(columns=['url'])\n",
    "\n",
    "# ブール値をintに変換\n",
    "df = df.astype({col: int for col in df.select_dtypes('bool').columns})\n",
    "\n",
    "# 欠損値を0で埋める\n",
    "df.fillna(0, inplace=True)\n",
    "\n",
    "# 特徴量とラベルに分離\n",
    "X = df.drop(columns=['url_type'])\n",
    "y = df['url_type']\n",
    "\n",
    "# データ分割\n",
    "X_train, X_test, y_train, y_test = train_test_split(X, y, test_size=0.2, random_state=42)\n"
   ]
  },
  {
   "cell_type": "code",
   "execution_count": null,
   "id": "b908854f",
   "metadata": {},
   "outputs": [
    {
     "name": "stderr",
     "output_type": "stream",
     "text": [
      "[I 2025-06-09 11:57:33,164] A new study created in memory with name: no-name-8b3fb760-5a6f-4647-b19a-0ca1fab8cd27\n",
      "[I 2025-06-09 12:12:51,327] Trial 0 finished with value: 0.8827083333333334 and parameters: {'n_estimators': 388, 'learning_rate': 0.23507347530057654, 'max_depth': 9, 'subsample': 0.802795164584618, 'min_samples_split': 16, 'min_samples_leaf': 14}. Best is trial 0 with value: 0.8827083333333334.\n",
      "[I 2025-06-09 12:21:07,115] Trial 1 finished with value: 0.8691826923076924 and parameters: {'n_estimators': 440, 'learning_rate': 0.15870087674438801, 'max_depth': 4, 'subsample': 0.856275629941169, 'min_samples_split': 20, 'min_samples_leaf': 2}. Best is trial 0 with value: 0.8827083333333334.\n",
      "[I 2025-06-09 12:26:22,429] Trial 2 finished with value: 0.8740224358974359 and parameters: {'n_estimators': 170, 'learning_rate': 0.18029766706856493, 'max_depth': 6, 'subsample': 0.9593993313892302, 'min_samples_split': 17, 'min_samples_leaf': 15}. Best is trial 0 with value: 0.8827083333333334.\n",
      "[I 2025-06-09 12:32:05,087] Trial 3 finished with value: 0.8746314102564104 and parameters: {'n_estimators': 322, 'learning_rate': 0.196924280814818, 'max_depth': 6, 'subsample': 0.5329029774067673, 'min_samples_split': 18, 'min_samples_leaf': 13}. Best is trial 0 with value: 0.8827083333333334.\n",
      "[I 2025-06-09 12:35:07,146] Trial 4 finished with value: 0.837900641025641 and parameters: {'n_estimators': 208, 'learning_rate': 0.07184344680617336, 'max_depth': 3, 'subsample': 0.888950007987076, 'min_samples_split': 20, 'min_samples_leaf': 14}. Best is trial 0 with value: 0.8827083333333334.\n",
      "[I 2025-06-09 12:47:30,361] Trial 5 finished with value: 0.8803365384615384 and parameters: {'n_estimators': 487, 'learning_rate': 0.18761968619503847, 'max_depth': 9, 'subsample': 0.5307529282562788, 'min_samples_split': 14, 'min_samples_leaf': 18}. Best is trial 0 with value: 0.8827083333333334.\n",
      "[I 2025-06-09 12:58:03,798] Trial 6 finished with value: 0.8816346153846154 and parameters: {'n_estimators': 259, 'learning_rate': 0.23525642003640765, 'max_depth': 8, 'subsample': 0.9519375091779376, 'min_samples_split': 11, 'min_samples_leaf': 8}. Best is trial 0 with value: 0.8827083333333334.\n",
      "[I 2025-06-09 13:09:11,409] Trial 7 finished with value: 0.8793910256410257 and parameters: {'n_estimators': 465, 'learning_rate': 0.130116933051273, 'max_depth': 7, 'subsample': 0.6147053140318918, 'min_samples_split': 2, 'min_samples_leaf': 1}. Best is trial 0 with value: 0.8827083333333334.\n",
      "[I 2025-06-09 13:12:44,047] Trial 8 finished with value: 0.8586698717948718 and parameters: {'n_estimators': 336, 'learning_rate': 0.1838723924283396, 'max_depth': 3, 'subsample': 0.6270581142391285, 'min_samples_split': 19, 'min_samples_leaf': 18}. Best is trial 0 with value: 0.8827083333333334.\n",
      "[I 2025-06-09 13:19:11,341] Trial 9 finished with value: 0.8780448717948719 and parameters: {'n_estimators': 206, 'learning_rate': 0.16284571343595172, 'max_depth': 7, 'subsample': 0.8296318551593247, 'min_samples_split': 3, 'min_samples_leaf': 7}. Best is trial 0 with value: 0.8827083333333334.\n",
      "[I 2025-06-09 13:35:05,448] Trial 10 finished with value: 0.8830128205128206 and parameters: {'n_estimators': 388, 'learning_rate': 0.2823713309552971, 'max_depth': 10, 'subsample': 0.730359114357791, 'min_samples_split': 7, 'min_samples_leaf': 10}. Best is trial 10 with value: 0.8830128205128206.\n",
      "[I 2025-06-09 13:50:56,214] Trial 11 finished with value: 0.8827083333333333 and parameters: {'n_estimators': 386, 'learning_rate': 0.28933055905900446, 'max_depth': 10, 'subsample': 0.7394223519226389, 'min_samples_split': 7, 'min_samples_leaf': 10}. Best is trial 10 with value: 0.8830128205128206.\n",
      "[I 2025-06-09 14:10:54,182] Trial 12 finished with value: 0.8829807692307692 and parameters: {'n_estimators': 393, 'learning_rate': 0.29661582392260005, 'max_depth': 10, 'subsample': 0.7487854979570592, 'min_samples_split': 9, 'min_samples_leaf': 12}. Best is trial 10 with value: 0.8830128205128206.\n",
      "[I 2025-06-09 14:30:16,278] Trial 13 finished with value: 0.8836858974358974 and parameters: {'n_estimators': 386, 'learning_rate': 0.2974535643426909, 'max_depth': 10, 'subsample': 0.7041946680099025, 'min_samples_split': 8, 'min_samples_leaf': 6}. Best is trial 13 with value: 0.8836858974358974.\n",
      "[I 2025-06-09 14:34:25,561] Trial 14 finished with value: 0.8755288461538462 and parameters: {'n_estimators': 101, 'learning_rate': 0.25406250941783076, 'max_depth': 9, 'subsample': 0.6745115220554472, 'min_samples_split': 6, 'min_samples_leaf': 5}. Best is trial 13 with value: 0.8836858974358974.\n"
     ]
    }
   ],
   "source": [
    "\n",
    "def objective(trial):\n",
    "    params = {\n",
    "        'n_estimators': trial.suggest_int('n_estimators', 100, 500),\n",
    "        'learning_rate': trial.suggest_float('learning_rate', 0.01, 0.3),\n",
    "        'max_depth': trial.suggest_int('max_depth', 3, 10),\n",
    "        'subsample': trial.suggest_float('subsample', 0.5, 1.0),\n",
    "        'min_samples_split': trial.suggest_int('min_samples_split', 2, 20),\n",
    "        'min_samples_leaf': trial.suggest_int('min_samples_leaf', 1, 20),\n",
    "    }\n",
    "    model = GradientBoostingClassifier(**params, random_state=42)\n",
    "    return cross_val_score(model, X_train, y_train, cv=3, scoring='accuracy').mean()\n",
    "\n",
    "study = optuna.create_study(direction='maximize')\n",
    "study.optimize(objective, n_trials=50)\n",
    "\n",
    "print(\"Best parameters:\", study.best_params)\n"
   ]
  },
  {
   "cell_type": "code",
   "execution_count": null,
   "id": "dd5d3c26",
   "metadata": {},
   "outputs": [],
   "source": [
    "\n",
    "best_params = study.best_params\n",
    "best_model = GradientBoostingClassifier(**best_params, random_state=42)\n",
    "best_model.fit(X_train, y_train)\n",
    "\n",
    "y_pred = best_model.predict(X_test)"
   ]
  },
  {
   "cell_type": "code",
   "execution_count": null,
   "id": "cc734892",
   "metadata": {},
   "outputs": [],
   "source": [
    "\n",
    "# 評価レポート\n",
    "print(\"Classification Report:\\n\", classification_report(y_test, y_pred))\n",
    "\n",
    "# 混同行列\n",
    "conf_matrix = confusion_matrix(y_test, y_pred)\n",
    "plt.figure(figsize=(8,6))\n",
    "sns.heatmap(conf_matrix, annot=True, fmt='d', cmap='Blues')\n",
    "plt.title('Confusion Matrix')\n",
    "plt.xlabel('Predicted')\n",
    "plt.ylabel('Actual')\n",
    "plt.show()\n"
   ]
  },
  {
   "cell_type": "code",
   "execution_count": null,
   "id": "740aaaec",
   "metadata": {},
   "outputs": [],
   "source": [
    "\n",
    "importances = best_model.feature_importances_\n",
    "features = X.columns\n",
    "\n",
    "importance_df = pd.DataFrame({'Feature': features, 'Importance': importances})\n",
    "importance_df.sort_values(by='Importance', ascending=False, inplace=True)\n",
    "\n",
    "plt.figure(figsize=(10,6))\n",
    "sns.barplot(x='Importance', y='Feature', data=importance_df)\n",
    "plt.title('Feature Importances')\n",
    "plt.tight_layout()\n",
    "plt.show()\n"
   ]
  }
 ],
 "metadata": {
  "kernelspec": {
   "display_name": "Python 3",
   "language": "python",
   "name": "python3"
  },
  "language_info": {
   "codemirror_mode": {
    "name": "ipython",
    "version": 3
   },
   "file_extension": ".py",
   "mimetype": "text/x-python",
   "name": "python",
   "nbconvert_exporter": "python",
   "pygments_lexer": "ipython3",
   "version": "3.10.2"
  }
 },
 "nbformat": 4,
 "nbformat_minor": 5
}
