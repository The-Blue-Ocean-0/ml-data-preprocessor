{
 "cells": [
  {
   "cell_type": "code",
   "execution_count": 10,
   "metadata": {},
   "outputs": [
    {
     "name": "stdout",
     "output_type": "stream",
     "text": [
      "컬럼 이름: ['url', 'url_type', 'url_len', 'letters_count', 'digits_count', 'special_chars_count', 'shortened', 'is_domain_in_url', 'secure_http', 'have_ip', 'url_region', 'root_domain', 'redirect_count', 'timeout', 'has_meta_refresh', 'duration_sec', 'meta_count', 'link_count', 'title_count', 'has_title', 'has_meta_description', 'has_og_image', 'has_og_title', 'has_link_stylesheet']\n"
     ]
    }
   ],
   "source": [
    "import pandas as pd\n",
    "\n",
    "# 1. CSV 파일 불러오기\n",
    "df = pd.read_csv('../data/url_metadata_cleaned.csv')\n",
    "\n",
    "# 2. 대상 URL 열이름 확인 (예: 'url')\n",
    "print(\"컬럼 이름:\", df.columns.tolist())\n",
    "# 필요시: df.rename(columns={'oldname': 'url'}, inplace=True)"
   ]
  },
  {
   "cell_type": "code",
   "execution_count": 11,
   "metadata": {},
   "outputs": [
    {
     "name": "stderr",
     "output_type": "stream",
     "text": [
      "C:\\Users\\kimdong\\AppData\\Local\\Temp\\ipykernel_18224\\1969135483.py:1: DtypeWarning: Columns (13) have mixed types. Specify dtype option on import or set low_memory=False.\n",
      "  df2 = pd.read_csv('../data/merged_output.csv')\n"
     ]
    }
   ],
   "source": [
    "df2 = pd.read_csv('../data/merged_output.csv')"
   ]
  },
  {
   "cell_type": "code",
   "execution_count": 12,
   "metadata": {},
   "outputs": [],
   "source": [
    "# 3. Drive-by download 의심 패턴 정의\n",
    "drive_by_keywords = ['.js', '.exe', '.apk', '.swf', '.jar', '.dll']\n",
    "\n",
    "# 4. URL이 어떤 이유로 드라이브 바이로 판단되는지 기록\n",
    "def detect_drive_by(url):\n",
    "    reasons = [kw for kw in drive_by_keywords if kw in url.lower()]\n",
    "    return ', '.join(reasons) if reasons else None  \n",
    "\n",
    "# 5. 결과 컬럼 추가\n",
    "df['drive_by_reason'] = df['url'].apply(detect_drive_by)"
   ]
  },
  {
   "cell_type": "code",
   "execution_count": 13,
   "metadata": {},
   "outputs": [],
   "source": [
    "# 6. 의심 URL만 필터링\n",
    "drive_by_df = df[df['drive_by_reason'].notnull()]"
   ]
  },
  {
   "cell_type": "code",
   "execution_count": 14,
   "metadata": {},
   "outputs": [
    {
     "data": {
      "text/plain": [
       "drive_by_reason\n",
       ".js             1361\n",
       "script           763\n",
       ".exe             620\n",
       "dll              126\n",
       ".apk              36\n",
       ".js, script       23\n",
       ".jar               6\n",
       ".swf               5\n",
       ".exe, script       5\n",
       "script, dll        5\n",
       "onclick            1\n",
       ".js, .exe          1\n",
       "Name: count, dtype: int64"
      ]
     },
     "execution_count": 14,
     "metadata": {},
     "output_type": "execute_result"
    }
   ],
   "source": [
    "\n",
    "drive_by_df['drive_by_reason'].value_counts()"
   ]
  },
  {
   "cell_type": "code",
   "execution_count": null,
   "metadata": {},
   "outputs": [
    {
     "data": {
      "text/plain": [
       "drive_by_reason\n",
       ".exe            5769\n",
       ".js             2122\n",
       "script          1201\n",
       "dll              503\n",
       ".apk             203\n",
       "onclick           50\n",
       ".js, script       43\n",
       ".swf              33\n",
       ".jar              20\n",
       ".exe, dll         10\n",
       "script, dll        9\n",
       ".exe, script       7\n",
       ".js, dll           6\n",
       "onload             5\n",
       ".exe, .apk         1\n",
       ".js, .exe          1\n",
       ".js, .jar          1\n",
       "Name: count, dtype: int64"
      ]
     },
     "execution_count": 15,
     "metadata": {},
     "output_type": "execute_result"
    }
   ],
   "source": [
    "df2['drive_by_reason'] = df2['url'].apply(detect_drive_by)\n",
    "drive_by_df2 = df2[df2['drive_by_reason'].notnull()]\n",
    "\n",
    "drive_by_df2['drive_by_reason'].value_counts()"
   ]
  },
  {
   "cell_type": "code",
   "execution_count": 18,
   "metadata": {},
   "outputs": [
    {
     "data": {
      "text/plain": [
       "np.int64(2952)"
      ]
     },
     "execution_count": 18,
     "metadata": {},
     "output_type": "execute_result"
    }
   ],
   "source": [
    "drive_by_df['drive_by_reason'].value_counts().sum()\n"
   ]
  },
  {
   "cell_type": "code",
   "execution_count": 17,
   "metadata": {},
   "outputs": [
    {
     "data": {
      "text/plain": [
       "np.int64(9984)"
      ]
     },
     "execution_count": 17,
     "metadata": {},
     "output_type": "execute_result"
    }
   ],
   "source": [
    "drive_by_df2['drive_by_reason'].value_counts().sum()"
   ]
  },
  {
   "cell_type": "code",
   "execution_count": 19,
   "metadata": {},
   "outputs": [
    {
     "name": "stdout",
     "output_type": "stream",
     "text": [
      "head_elements\n",
      "False    7032\n",
      "True     2952\n",
      "Name: count, dtype: int64\n"
     ]
    }
   ],
   "source": [
    "# drive_by_reason 컬럼이 결측치가 아닌 행 중에서\n",
    "# head_elements 컬럼에 값이 있는지 확인\n",
    "has_head_elements = df2[df2['drive_by_reason'].notna()]['head_elements'].notna()\n",
    "\n",
    "# 결과 출력\n",
    "print(has_head_elements.value_counts())\n"
   ]
  }
 ],
 "metadata": {
  "kernelspec": {
   "display_name": "study",
   "language": "python",
   "name": "python3"
  },
  "language_info": {
   "codemirror_mode": {
    "name": "ipython",
    "version": 3
   },
   "file_extension": ".py",
   "mimetype": "text/x-python",
   "name": "python",
   "nbconvert_exporter": "python",
   "pygments_lexer": "ipython3",
   "version": "3.12.8"
  }
 },
 "nbformat": 4,
 "nbformat_minor": 2
}
