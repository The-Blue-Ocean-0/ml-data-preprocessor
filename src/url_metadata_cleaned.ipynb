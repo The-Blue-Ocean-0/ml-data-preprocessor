{
 "cells": [
  {
   "cell_type": "code",
   "execution_count": 2,
   "id": "1a022f06",
   "metadata": {},
   "outputs": [],
   "source": [
    "import pandas as pd"
   ]
  },
  {
   "cell_type": "code",
   "execution_count": null,
   "id": "ee660cab",
   "metadata": {},
   "outputs": [
    {
     "name": "stderr",
     "output_type": "stream",
     "text": [
      "C:\\Users\\taka2\\AppData\\Local\\Temp\\ipykernel_28740\\235589160.py:4: DtypeWarning: Columns (13) have mixed types. Specify dtype option on import or set low_memory=False.\n",
      "  df = pd.read_csv('../data/cleaned_metadata_output.csv')\n"
     ]
    }
   ],
   "source": [
    "# セル2: CSVファイルの読み込み（パスは適宜変更）\n",
    "df = pd.read_csv('../data/metadata_preprocessed.csv')"
   ]
  },
  {
   "cell_type": "markdown",
   "id": "91215d7e",
   "metadata": {},
   "source": [
    "### 불필요한 컬럼 및 전처리 필요한 컬럼\n",
    "- original_url,pri_domain,final_url 불필요해 보임 삭제\n",
    "- type 는 url_type로 숫자로 가능 -> type 삭제\n",
    "- url_region로 string이라 더미변수로 변한해서 전처리 필요\n",
    "- redirect_chain도 당장 할수 있는게 없음 -> 삭제\n",
    "- head_elemants는 분리를 해서 처리함 -> 삭제\n",
    "- meta_refrech_url는 has_mata_refresh로 처리해서 필요없음 -> 삭제\n",
    "- title_test, meta_description,og_title,og_image,link_stylesheets는 있냐 없냐로 true, flase로 처리 \n",
    "### 시작화로 사용 가능한 값\n",
    "- url_region는 어느 나라가 type걸로 많은지 시작적으로 표현 가능\n",
    "- root_domain는 단어로 시각화...?\n",
    "- title_test, meta_description,og_title,og_image,link_stylesheets는 단어로 분리 하고 시작화 및 영량을 얼마나 주는지 확인"
   ]
  },
  {
   "cell_type": "code",
   "execution_count": 2,
   "id": "3c44458c",
   "metadata": {},
   "outputs": [
    {
     "name": "stdout",
     "output_type": "stream",
     "text": [
      "<class 'pandas.core.frame.DataFrame'>\n",
      "RangeIndex: 371357 entries, 0 to 371356\n",
      "Data columns (total 35 columns):\n",
      " #   Column               Non-Null Count   Dtype  \n",
      "---  ------               --------------   -----  \n",
      " 0   Unnamed: 0           371357 non-null  int64  \n",
      " 1   url                  371357 non-null  object \n",
      " 2   type                 371357 non-null  object \n",
      " 3   original_url         371357 non-null  object \n",
      " 4   url_type             371357 non-null  int64  \n",
      " 5   url_len              371357 non-null  int64  \n",
      " 6   pri_domain           371357 non-null  object \n",
      " 7   letters_count        371357 non-null  int64  \n",
      " 8   digits_count         371357 non-null  int64  \n",
      " 9   special_chars_count  371357 non-null  int64  \n",
      " 10  shortened            371357 non-null  int64  \n",
      " 11  is_domain_in_url     371357 non-null  int64  \n",
      " 12  secure_http          371357 non-null  int64  \n",
      " 13  have_ip              371357 non-null  object \n",
      " 14  url_region           371357 non-null  object \n",
      " 15  root_domain          371227 non-null  object \n",
      " 16  original_url.1       371357 non-null  object \n",
      " 17  final_url            371357 non-null  object \n",
      " 18  redirect_chain       303032 non-null  object \n",
      " 19  redirect_count       371357 non-null  int64  \n",
      " 20  head_elements        371357 non-null  object \n",
      " 21  timeout              371357 non-null  bool   \n",
      " 22  has_meta_refresh     371357 non-null  bool   \n",
      " 23  meta_refresh_url     7196 non-null    object \n",
      " 24  duration_sec         371357 non-null  float64\n",
      " 25  meta_count           371357 non-null  float64\n",
      " 26  link_count           371357 non-null  float64\n",
      " 27  script_count         371357 non-null  float64\n",
      " 28  title_count          371357 non-null  float64\n",
      " 29  title_text           354878 non-null  object \n",
      " 30  meta_description     154993 non-null  object \n",
      " 31  og_title             159458 non-null  object \n",
      " 32  og_image             116031 non-null  object \n",
      " 33  script_srcs          371357 non-null  object \n",
      " 34  link_stylesheets     371357 non-null  object \n",
      "dtypes: bool(2), float64(5), int64(10), object(18)\n",
      "memory usage: 94.2+ MB\n"
     ]
    }
   ],
   "source": [
    "df.info()"
   ]
  },
  {
   "cell_type": "code",
   "execution_count": 3,
   "id": "f9675960",
   "metadata": {},
   "outputs": [
    {
     "data": {
      "application/vnd.microsoft.datawrangler.viewer.v0+json": {
       "columns": [
        {
         "name": "index",
         "rawType": "int64",
         "type": "integer"
        },
        {
         "name": "Unnamed: 0",
         "rawType": "int64",
         "type": "integer"
        },
        {
         "name": "url",
         "rawType": "object",
         "type": "string"
        },
        {
         "name": "type",
         "rawType": "object",
         "type": "string"
        },
        {
         "name": "original_url",
         "rawType": "object",
         "type": "string"
        },
        {
         "name": "url_type",
         "rawType": "int64",
         "type": "integer"
        },
        {
         "name": "url_len",
         "rawType": "int64",
         "type": "integer"
        },
        {
         "name": "pri_domain",
         "rawType": "object",
         "type": "string"
        },
        {
         "name": "letters_count",
         "rawType": "int64",
         "type": "integer"
        },
        {
         "name": "digits_count",
         "rawType": "int64",
         "type": "integer"
        },
        {
         "name": "special_chars_count",
         "rawType": "int64",
         "type": "integer"
        },
        {
         "name": "shortened",
         "rawType": "int64",
         "type": "integer"
        },
        {
         "name": "is_domain_in_url",
         "rawType": "int64",
         "type": "integer"
        },
        {
         "name": "secure_http",
         "rawType": "int64",
         "type": "integer"
        },
        {
         "name": "have_ip",
         "rawType": "object",
         "type": "string"
        },
        {
         "name": "url_region",
         "rawType": "object",
         "type": "string"
        },
        {
         "name": "root_domain",
         "rawType": "object",
         "type": "string"
        },
        {
         "name": "original_url.1",
         "rawType": "object",
         "type": "string"
        },
        {
         "name": "final_url",
         "rawType": "object",
         "type": "string"
        },
        {
         "name": "redirect_chain",
         "rawType": "object",
         "type": "string"
        },
        {
         "name": "redirect_count",
         "rawType": "int64",
         "type": "integer"
        },
        {
         "name": "head_elements",
         "rawType": "object",
         "type": "string"
        },
        {
         "name": "timeout",
         "rawType": "bool",
         "type": "boolean"
        },
        {
         "name": "has_meta_refresh",
         "rawType": "bool",
         "type": "boolean"
        },
        {
         "name": "meta_refresh_url",
         "rawType": "object",
         "type": "unknown"
        },
        {
         "name": "duration_sec",
         "rawType": "float64",
         "type": "float"
        },
        {
         "name": "meta_count",
         "rawType": "float64",
         "type": "float"
        },
        {
         "name": "link_count",
         "rawType": "float64",
         "type": "float"
        },
        {
         "name": "script_count",
         "rawType": "float64",
         "type": "float"
        },
        {
         "name": "title_count",
         "rawType": "float64",
         "type": "float"
        },
        {
         "name": "title_text",
         "rawType": "object",
         "type": "string"
        },
        {
         "name": "meta_description",
         "rawType": "object",
         "type": "unknown"
        },
        {
         "name": "og_title",
         "rawType": "object",
         "type": "unknown"
        },
        {
         "name": "og_image",
         "rawType": "object",
         "type": "unknown"
        },
        {
         "name": "script_srcs",
         "rawType": "object",
         "type": "string"
        },
        {
         "name": "link_stylesheets",
         "rawType": "object",
         "type": "string"
        }
       ],
       "conversionMethod": "pd.DataFrame",
       "ref": "7699d6fc-47b2-4a1b-aad5-0de48b5d1bbc",
       "rows": [
        [
         "0",
         "2",
         "bopsecrets.org/rexroth/cr/1.htm",
         "benign",
         "bopsecrets.org/rexroth/cr/1.htm",
         "0",
         "31",
         "bopsecrets.org",
         "25",
         "1",
         "5",
         "0",
         "0",
         "0",
         "0",
         "Global",
         "bopsecrets",
         "http://bopsecrets.org/rexroth/cr/1.htm",
         "https://bopsecrets.org/rexroth/cr/1.htm",
         "[{\"url\": \"http://bopsecrets.org/rexroth/cr/1.htm\", \"status\": 301, \"location\": \"https://bopsecrets.org/rexroth/cr/1.htm\"}]",
         "1",
         "[{'tag': 'meta', 'attributes': {'http-equiv': 'content-type', 'content': 'text/html; charset=utf-8'}, 'text': ''}, {'tag': 'title', 'attributes': {}, 'text': 'Classics Revisited (1)'}, {'tag': 'meta', 'attributes': {'name': 'author', 'content': 'Kenneth Rexroth'}, 'text': ''}, {'tag': 'meta', 'attributes': {'name': 'keywords', 'content': ''}, 'text': ''}, {'tag': 'meta', 'attributes': {'name': 'description', 'content': ''}, 'text': ''}, {'tag': 'meta', 'attributes': {'http-equiv': 'Content-Type', 'content': 'text/html; charset=utf-8'}, 'text': ''}, {'tag': 'meta', 'attributes': {'http-equiv': 'Content-Language', 'content': 'en-us'}, 'text': ''}, {'tag': 'meta', 'attributes': {'name': 'viewport', 'content': 'width=device-width, initial-scale=1.0'}, 'text': ''}, {'tag': 'link', 'attributes': {'rel': 'stylesheet', 'href': '../../css/rexroth.css'}, 'text': ''}]",
         "False",
         "False",
         null,
         "6.41",
         "7.0",
         "1.0",
         "0.0",
         "1.0",
         "Classics Revisited (1)",
         null,
         null,
         null,
         "[]",
         "['../../css/rexroth.css']"
        ],
        [
         "1",
         "6",
         "espn.go.com/nba/player/_/id/3457/brandon-rush",
         "benign",
         "espn.go.com/nba/player/_/id/3457/brandon-rush",
         "0",
         "45",
         "espn.go.com",
         "31",
         "4",
         "10",
         "0",
         "0",
         "0",
         "0",
         "Global",
         "go",
         "http://espn.go.com/nba/player/_/id/3457/brandon-rush",
         "https://www.espn.com/nba/player/_/id/3457/brandon-rush",
         "[{\"url\": \"http://espn.go.com/nba/player/_/id/3457/brandon-rush\", \"status\": 301, \"location\": \"https://www.espn.com/nba/player/_/id/3457/brandon-rush\"}]",
         "1",
         "[{'tag': 'meta', 'attributes': {'charset': 'utf-8'}, 'text': ''}, {'tag': 'title', 'attributes': {}, 'text': 'Brandon Rush - Maccabi Haifa Forward - ESPN'}, {'tag': 'meta', 'attributes': {'data-react-helmet': 'true', 'name': 'description', 'content': 'View the profile of Maccabi Haifa Forward Brandon Rush on ESPN. Get the latest news, live stats and game highlights.'}, 'text': ''}, {'tag': 'meta', 'attributes': {'data-react-helmet': 'true', 'property': 'fb:app_id', 'content': '116656161708917'}, 'text': ''}, {'tag': 'meta', 'attributes': {'data-react-helmet': 'true', 'property': 'og:site_name', 'content': 'ESPN'}, 'text': ''}, {'tag': 'meta', 'attributes': {'data-react-helmet': 'true', 'property': 'og:url', 'content': 'https://www.espn.com/nba/player/_/id/3457/brandon-rush'}, 'text': ''}, {'tag': 'meta', 'attributes': {'data-react-helmet': 'true', 'property': 'og:title', 'content': 'Brandon Rush - Maccabi Haifa Forward - ESPN'}, 'text': ''}, {'tag': 'meta', 'attributes': {'data-react-helmet': 'true', 'property': 'og:description', 'content': 'View the profile of Maccabi Haifa Forward Brandon Rush on ESPN. Get the latest news, live stats and game highlights.'}, 'text': ''}, {'tag': 'meta', 'attributes': {'data-react-helmet': 'true', 'property': 'og:image', 'content': 'https://a.espncdn.com/combiner/i?img=/i/headshots/nba/players/full/3457.png'}, 'text': ''}, {'tag': 'meta', 'attributes': {'data-react-helmet': 'true', 'property': 'og:image:width', 'content': '500'}, 'text': ''}, {'tag': 'meta', 'attributes': {'data-react-helmet': 'true', 'property': 'og:image:height', 'content': '500'}, 'text': ''}, {'tag': 'meta', 'attributes': {'data-react-helmet': 'true', 'property': 'og:type', 'content': 'athlete'}, 'text': ''}, {'tag': 'meta', 'attributes': {'data-react-helmet': 'true', 'name': 'twitter:site', 'content': 'espn'}, 'text': ''}, {'tag': 'meta', 'attributes': {'data-react-helmet': 'true', 'name': 'twitter:url', 'content': 'https://www.espn.com/nba/player/_/id/3457/brandon-rush'}, 'text': ''}, {'tag': 'meta', 'attributes': {'data-react-helmet': 'true', 'name': 'twitter:title', 'content': 'Brandon Rush - Maccabi Haifa Forward - ESPN'}, 'text': ''}, {'tag': 'meta', 'attributes': {'data-react-helmet': 'true', 'name': 'twitter:description', 'content': 'View the profile of Maccabi Haifa Forward Brandon Rush on ESPN. Get the latest news, live stats and game highlights.'}, 'text': ''}, {'tag': 'meta', 'attributes': {'data-react-helmet': 'true', 'name': 'twitter:card', 'content': 'summary'}, 'text': ''}, {'tag': 'meta', 'attributes': {'data-react-helmet': 'true', 'name': 'twitter:image', 'content': 'https://a.espncdn.com/combiner/i?img=/i/headshots/nba/players/full/3457.png'}, 'text': ''}, {'tag': 'meta', 'attributes': {'data-react-helmet': 'true', 'name': 'twitter:app:name:iphone', 'content': 'ESPN'}, 'text': ''}, {'tag': 'meta', 'attributes': {'data-react-helmet': 'true', 'name': 'twitter:app:id:iphone', 'content': '317469184'}, 'text': ''}, {'tag': 'meta', 'attributes': {'data-react-helmet': 'true', 'name': 'twitter:app:name:googleplay', 'content': 'ESPN'}, 'text': ''}, {'tag': 'meta', 'attributes': {'data-react-helmet': 'true', 'name': 'twitter:app:id:googleplay', 'content': 'com.espn.score_center'}, 'text': ''}, {'tag': 'meta', 'attributes': {'data-react-helmet': 'true', 'name': 'title', 'content': 'Brandon Rush - Maccabi Haifa Forward - ESPN'}, 'text': ''}, {'tag': 'meta', 'attributes': {'data-react-helmet': 'true', 'name': 'medium', 'content': 'website'}, 'text': ''}, {'tag': 'meta', 'attributes': {'name': 'viewport', 'content': 'initial-scale=1.0, maximum-scale=1.0, user-scalable=no'}, 'text': ''}, {'tag': 'meta', 'attributes': {'http-equiv': 'x-ua-compatible', 'content': 'IE=edge'}, 'text': ''}, {'tag': 'meta', 'attributes': {'property': 'og:locale', 'content': 'en_US'}, 'text': ''}, {'tag': 'link', 'attributes': {'href': '//cdn1.espn.net', 'rel': 'preconnect'}, 'text': ''}, {'tag': 'link', 'attributes': {'href': 'https://tredir.espn.com', 'rel': 'preconnect', 'crossorigin': ''}, 'text': ''}, {'tag': 'link', 'attributes': {'href': 'https://cdn.registerdisney.go.com', 'rel': 'preconnect', 'crossorigin': ''}, 'text': ''}, {'tag': 'link', 'attributes': {'href': 'https://fan.api.espn.com', 'rel': 'preconnect', 'crossorigin': ''}, 'text': ''}, {'tag': 'link', 'attributes': {'href': 'https://cdn.espn.com', 'rel': 'preconnect', 'crossorigin': ''}, 'text': ''}, {'tag': 'link', 'attributes': {'href': 'https://a.espncdn.com', 'rel': 'preconnect', 'crossorigin': ''}, 'text': ''}, {'tag': 'link', 'attributes': {'href': 'https://site.web.api.espn.com', 'rel': 'preconnect', 'crossorigin': ''}, 'text': ''}, {'tag': 'link', 'attributes': {'rel': 'mask-icon', 'sizes': 'any', 'href': 'https://a.espncdn.com/prod/assets/icons/E.svg', 'color': '#990000'}, 'text': ''}, {'tag': 'link', 'attributes': {'rel': 'shortcut icon', 'href': 'https://a.espncdn.com/favicon.ico'}, 'text': ''}, {'tag': 'link', 'attributes': {'rel': 'apple-touch-icon', 'href': 'https://a.espncdn.com/wireless/mw5/r1/images/bookmark-icons-v2/espn-icon-57x57.png'}, 'text': ''}, {'tag': 'link', 'attributes': {'rel': 'apple-touch-icon-precomposed', 'href': 'https://a.espncdn.com/wireless/mw5/r1/images/bookmark-icons-v2/espn-icon-57x57.png'}, 'text': ''}, {'tag': 'link', 'attributes': {'rel': 'apple-touch-icon-precomposed', 'sizes': '72x72', 'href': 'https://a.espncdn.com/wireless/mw5/r1/images/bookmark-icons-v2/espn-icon-72x72.png'}, 'text': ''}, {'tag': 'link', 'attributes': {'rel': 'apple-touch-icon-precomposed', 'sizes': '114x114', 'href': 'https://a.espncdn.com/wireless/mw5/r1/images/bookmark-icons-v2/espn-icon-114x114.png'}, 'text': ''}, {'tag': 'link', 'attributes': {'rel': 'apple-touch-icon-precomposed', 'sizes': '152x152', 'href': 'https://a.espncdn.com/wireless/mw5/r1/images/bookmark-icons-v2/espn-icon-152x152.png'}, 'text': ''}, {'tag': 'link', 'attributes': {'rel': 'manifest', 'href': '/manifest.json'}, 'text': ''}, {'tag': 'link', 'attributes': {'data-react-helmet': 'true', 'rel': 'stylesheet', 'href': '//cdn1.espn.net/fitt/e875a0841ebc-release-04-16-2025.2.0.2278/client/espnfitt/css/fusion-f48af051.css'}, 'text': ''}, {'tag': 'link', 'attributes': {'data-react-helmet': 'true', 'rel': 'stylesheet', 'href': '//cdn1.espn.net/fitt/e875a0841ebc-release-04-16-2025.2.0.2278/client/espnfitt/css/2113-e3c2d6ec.css'}, 'text': ''}, {'tag': 'link', 'attributes': {'data-react-helmet': 'true', 'rel': 'stylesheet', 'href': '//cdn1.espn.net/fitt/e875a0841ebc-release-04-16-2025.2.0.2278/client/espnfitt/css/espnfitt-46f8a12e.css'}, 'text': ''}, {'tag': 'link', 'attributes': {'data-react-helmet': 'true', 'rel': 'stylesheet', 'href': '//cdn1.espn.net/fitt/e875a0841ebc-release-04-16-2025.2.0.2278/client/espnfitt/css/2708-4fc82bee.css'}, 'text': ''}, {'tag': 'link', 'attributes': {'data-react-helmet': 'true', 'rel': 'stylesheet', 'href': '//cdn1.espn.net/fitt/e875a0841ebc-release-04-16-2025.2.0.2278/client/espnfitt/css/9290-7c3cc97e.css'}, 'text': ''}, {'tag': 'link', 'attributes': {'data-react-helmet': 'true', 'rel': 'stylesheet', 'href': '//cdn1.espn.net/fitt/e875a0841ebc-release-04-16-2025.2.0.2278/client/espnfitt/css/8285-acda6118.css'}, 'text': ''}, {'tag': 'link', 'attributes': {'data-react-helmet': 'true', 'rel': 'stylesheet', 'href': '//cdn1.espn.net/fitt/e875a0841ebc-release-04-16-2025.2.0.2278/client/espnfitt/css/9561-be3816e8.css'}, 'text': ''}, {'tag': 'link', 'attributes': {'data-react-helmet': 'true', 'rel': 'stylesheet', 'href': '//cdn1.espn.net/fitt/e875a0841ebc-release-04-16-2025.2.0.2278/client/espnfitt/css/3659-69e28bc4.css'}, 'text': ''}, {'tag': 'link', 'attributes': {'data-react-helmet': 'true', 'rel': 'stylesheet', 'href': '//cdn1.espn.net/fitt/e875a0841ebc-release-04-16-2025.2.0.2278/client/espnfitt/css/157-7cd2324d.css'}, 'text': ''}, {'tag': 'link', 'attributes': {'data-react-helmet': 'true', 'rel': 'stylesheet', 'href': '//cdn1.espn.net/fitt/e875a0841ebc-release-04-16-2025.2.0.2278/client/espnfitt/css/player.basketball-f6eecd15.css'}, 'text': ''}, {'tag': 'link', 'attributes': {'data-react-helmet': 'true', 'rel': 'canonical', 'href': 'https://www.espn.com/nba/player/_/id/3457/brandon-rush'}, 'text': ''}, {'tag': 'link', 'attributes': {'data-react-helmet': 'true', 'rel': 'preload', 'as': 'font', 'type': 'font/woff2', 'href': 'https://a.espncdn.com/fonts/_Publico/PublicoBanner-Extrabold-Web.woff2', 'crossorigin': 'true'}, 'text': ''}, {'tag': 'link', 'attributes': {'data-react-helmet': 'true', 'rel': 'preload', 'as': 'font', 'type': 'font/woff2', 'href': 'https://a.espncdn.com/fonts/_BentonSans/BentonSansBlack.woff2', 'crossorigin': 'true'}, 'text': ''}, {'tag': 'link', 'attributes': {'data-react-helmet': 'true', 'rel': 'preload', 'as': 'font', 'type': 'font/woff2', 'href': 'https://a.espncdn.com/fonts/_BentonSansCond/BentonSansCondBold.woff2', 'crossorigin': 'true'}, 'text': ''}, {'tag': 'link', 'attributes': {'data-react-helmet': 'true', 'rel': 'preload', 'as': 'font', 'type': 'font/woff2', 'href': 'https://a.espncdn.com/fonts/_PlayoffProCond/PlayoffProCondBold.woff2', 'crossorigin': 'true'}, 'text': ''}, {'tag': 'link', 'attributes': {'data-react-helmet': 'true', 'rel': 'preload', 'as': 'font', 'type': 'font/woff2', 'href': 'https://a.espncdn.com/fonts/_PlayoffProCond/PlayoffProCondBlack.woff2', 'crossorigin': 'true'}, 'text': ''}, {'tag': 'link', 'attributes': {'data-react-helmet': 'true', 'rel': 'preload', 'as': 'font', 'type': 'font/woff2', 'href': 'https://a.espncdn.com/fonts/_BentonSans/BentonSansBold.woff2', 'crossorigin': 'true'}, 'text': ''}, {'tag': 'link', 'attributes': {'data-react-helmet': 'true', 'rel': 'preload', 'as': 'font', 'type': 'font/woff2', 'href': 'https://a.espncdn.com/fonts/_BentonSans/BentonSansMedium.woff2', 'crossorigin': 'true'}, 'text': ''}, {'tag': 'link', 'attributes': {'data-react-helmet': 'true', 'rel': 'preload', 'as': 'font', 'type': 'font/woff2', 'href': 'https://a.espncdn.com/fonts/_BentonSans/BentonSansRegular.woff2', 'crossorigin': 'true'}, 'text': ''}, {'tag': 'link', 'attributes': {'data-react-helmet': 'true', 'rel': 'preload', 'as': 'font', 'type': 'font/woff2', 'href': 'https://a.espncdn.com/fonts/_Tungsten/Tungsten-Bold.woff2', 'crossorigin': 'true'}, 'text': ''}, {'tag': 'link', 'attributes': {'data-react-helmet': 'true', 'rel': 'alternate', 'hreflang': 'en-us', 'href': 'https://www.espn.com/nba/player/_/id/3457/brandon-rush'}, 'text': ''}, {'tag': 'link', 'attributes': {'data-react-helmet': 'true', 'rel': 'alternate', 'hreflang': 'pt-br', 'href': 'https://www.espn.com.br/nba/jogador/_/id/3457/brandon-rush'}, 'text': ''}, {'tag': 'link', 'attributes': {'data-react-helmet': 'true', 'rel': 'alternate', 'hreflang': 'en-in', 'href': 'https://www.espn.in/nba/player/_/id/3457/brandon-rush'}, 'text': ''}, {'tag': 'link', 'attributes': {'data-react-helmet': 'true', 'rel': 'alternate', 'hreflang': 'en-za', 'href': 'https://africa.espn.com/nba/player/_/id/3457/brandon-rush'}, 'text': ''}, {'tag': 'link', 'attributes': {'data-react-helmet': 'true', 'rel': 'alternate', 'hreflang': 'en-au', 'href': 'https://www.espn.com.au/nba/player/_/id/3457/brandon-rush'}, 'text': ''}, {'tag': 'link', 'attributes': {'data-react-helmet': 'true', 'rel': 'alternate', 'hreflang': 'es-ve', 'href': 'https://www.espn.com.ve/basquetbol/nba/jugador/_/id/3457/brandon-rush'}, 'text': ''}, {'tag': 'link', 'attributes': {'data-react-helmet': 'true', 'rel': 'alternate', 'hreflang': 'es-cl', 'href': 'https://www.espn.cl/basquetbol/nba/jugador/_/id/3457/brandon-rush'}, 'text': ''}, {'tag': 'link', 'attributes': {'data-react-helmet': 'true', 'rel': 'alternate', 'hreflang': 'es-mx', 'href': 'https://www.espn.com.mx/basquetbol/nba/jugador/_/id/3457/brandon-rush'}, 'text': ''}, {'tag': 'link', 'attributes': {'data-react-helmet': 'true', 'rel': 'alternate', 'hreflang': 'es-co', 'href': 'https://www.espn.com.co/basquetbol/nba/jugador/_/id/3457/brandon-rush'}, 'text': ''}, {'tag': 'link', 'attributes': {'data-react-helmet': 'true', 'rel': 'alternate', 'hreflang': 'es-pe', 'href': 'https://www.espn.com.pe/basquetbol/nba/jugador/_/id/3457/brandon-rush'}, 'text': ''}, {'tag': 'link', 'attributes': {'data-react-helmet': 'true', 'rel': 'alternate', 'hreflang': 'es-ar', 'href': 'https://www.espn.com.ar/basquetbol/nba/jugador/_/id/3457/brandon-rush'}, 'text': ''}, {'tag': 'link', 'attributes': {'data-react-helmet': 'true', 'rel': 'alternate', 'hreflang': 'es-us', 'href': 'https://espndeportes.espn.com/basquetbol/nba/jugador/_/id/3457/brandon-rush'}, 'text': ''}, {'tag': 'link', 'attributes': {'data-react-helmet': 'true', 'rel': 'alternate', 'hreflang': 'en-ph', 'href': 'https://www.espn.ph/nba/player/_/id/3457/brandon-rush'}, 'text': ''}, {'tag': 'link', 'attributes': {'data-react-helmet': 'true', 'rel': 'alternate', 'hreflang': 'en-gb', 'href': 'https://www.espn.co.uk/nba/player/_/id/3457/brandon-rush'}, 'text': ''}, {'tag': 'link', 'attributes': {'data-react-helmet': 'true', 'rel': 'alternate', 'hreflang': 'en-sg', 'href': 'https://www.espn.com.sg/nba/player/_/id/3457/brandon-rush'}, 'text': ''}, {'tag': 'link', 'attributes': {'data-react-helmet': 'true', 'rel': 'alternate', 'hreflang': 'es-gt', 'href': 'https://www.espn.com.gt/basquetbol/nba/jugador/_/id/3457/brandon-rush'}, 'text': ''}, {'tag': 'link', 'attributes': {'data-react-helmet': 'true', 'rel': 'alternate', 'hreflang': 'es-uy', 'href': 'https://www.espn.com.uy/basquetbol/nba/jugador/_/id/3457/brandon-rush'}, 'text': ''}, {'tag': 'link', 'attributes': {'data-react-helmet': 'true', 'rel': 'alternate', 'hreflang': 'es-do', 'href': 'https://www.espn.com.do/basquetbol/nba/jugador/_/id/3457/brandon-rush'}, 'text': ''}, {'tag': 'link', 'attributes': {'data-react-helmet': 'true', 'rel': 'alternate', 'hreflang': 'es-ec', 'href': 'https://www.espn.com.ec/basquetbol/nba/jugador/_/id/3457/brandon-rush'}, 'text': ''}, {'tag': 'link', 'attributes': {'data-react-helmet': 'true', 'rel': 'alternate', 'hreflang': 'es-pa', 'href': 'https://www.espn.com.pa/basquetbol/nba/jugador/_/id/3457/brandon-rush'}, 'text': ''}, {'tag': 'link', 'attributes': {'data-react-helmet': 'true', 'rel': 'alternate', 'hreflang': 'es-cr', 'href': 'https://www.espn.co.cr/basquetbol/nba/jugador/_/id/3457/brandon-rush'}, 'text': ''}, {'tag': 'link', 'attributes': {'data-react-helmet': 'true', 'rel': 'alternate', 'hreflang': 'nl-nl', 'href': 'https://www.espn.nl/nba/speler/_/id/3457/brandon-rush'}, 'text': ''}, {'tag': 'link', 'attributes': {'rel': 'prefetch', 'href': '//cdn1.espn.net/fitt/e875a0841ebc-release-04-16-2025.2.0.2278/client/espnfitt/_manifest.js', 'as': 'script'}, 'text': ''}, {'tag': 'link', 'attributes': {'rel': 'prefetch', 'href': '//cdn1.espn.net/fitt/e875a0841ebc-release-04-16-2025.2.0.2278/client/espnfitt/espn-en-daa310cc.js', 'as': 'script'}, 'text': ''}, {'tag': 'link', 'attributes': {'rel': 'prefetch', 'href': '//cdn1.espn.net/fitt/e875a0841ebc-release-04-16-2025.2.0.2278/client/espnfitt/espnfitt-790cb30d.js', 'as': 'script'}, 'text': ''}, {'tag': 'link', 'attributes': {'rel': 'prefetch', 'href': '//cdn1.espn.net/fitt/e875a0841ebc-release-04-16-2025.2.0.2278/client/espnfitt/player.basketball-63a39c44.js', 'as': 'script'}, 'text': ''}, {'tag': 'noscript', 'attributes': {}, 'text': '<style type=\"text/css\">\\n                div.HeaderScoreboardContainer, div.Ad, div.sponsored-content { display: none !important; }\\n                .page-container,\\n                .Nav__Primary .Nav__Primary__Menu .Nav__Primary__Menu__Item a,\\n                .Nav__Primary .Nav__Primary__Menu .Nav__Primary__Menu__Item .Nav__Primary__Menu__Link,\\n                .Nav__Secondary .Nav__Secondary__Menu .Nav__Secondary__Menu__Title .Nav__Secondary__Menu__Link,\\n                .Nav__Secondary .Nav__Secondary__Menu .Nav__Secondary__Menu__Item .Nav__Secondary__Menu__Link {\\n                    opacity: 1;\\n                }\\n            </style>'}, {'tag': 'meta', 'attributes': {'http-equiv': 'origin-trial', 'content': 'A+uXoByCfR5HCRAl94AWMQ8Y7DHd3670DSOPWj55vVOoaN/cUpF/r0yk6KbxjLIyaxJ2H3/YX4ZxkiI3srY5oQwAAABreyJvcmlnaW4iOiJodHRwczovL2Nkbi50YWJvb2xhLmNvbTo0NDMiLCJmZWF0dXJlIjoiU2NoZWR1bGVyWWllbGQiLCJleHBpcnkiOjE3MDk2ODMxOTksImlzVGhpcmRQYXJ0eSI6dHJ1ZX0='}, 'text': ''}, {'tag': 'meta', 'attributes': {'http-equiv': 'origin-trial', 'content': 'AlK2UR5SkAlj8jjdEc9p3F3xuFYlF6LYjAML3EOqw1g26eCwWPjdmecULvBH5MVPoqKYrOfPhYVL71xAXI1IBQoAAAB8eyJvcmlnaW4iOiJodHRwczovL2RvdWJsZWNsaWNrLm5ldDo0NDMiLCJmZWF0dXJlIjoiV2ViVmlld1hSZXF1ZXN0ZWRXaXRoRGVwcmVjYXRpb24iLCJleHBpcnkiOjE3NTgwNjcxOTksImlzU3ViZG9tYWluIjp0cnVlfQ=='}, 'text': ''}, {'tag': 'meta', 'attributes': {'http-equiv': 'origin-trial', 'content': 'Amm8/NmvvQfhwCib6I7ZsmUxiSCfOxWxHayJwyU1r3gRIItzr7bNQid6O8ZYaE1GSQTa69WwhPC9flq/oYkRBwsAAACCeyJvcmlnaW4iOiJodHRwczovL2dvb2dsZXN5bmRpY2F0aW9uLmNvbTo0NDMiLCJmZWF0dXJlIjoiV2ViVmlld1hSZXF1ZXN0ZWRXaXRoRGVwcmVjYXRpb24iLCJleHBpcnkiOjE3NTgwNjcxOTksImlzU3ViZG9tYWluIjp0cnVlfQ=='}, 'text': ''}, {'tag': 'meta', 'attributes': {'http-equiv': 'origin-trial', 'content': 'A9wSqI5i0iwGdf6L1CERNdmsTPgVu44ewj8QxTBYgsv1LCPUVF7YmWOvTappqB1139jAymxUW/RO8zmMqo4zlAAAAACNeyJvcmlnaW4iOiJodHRwczovL2RvdWJsZWNsaWNrLm5ldDo0NDMiLCJmZWF0dXJlIjoiRmxlZGdlQmlkZGluZ0FuZEF1Y3Rpb25TZXJ2ZXIiLCJleHBpcnkiOjE3MzY4MTI4MDAsImlzU3ViZG9tYWluIjp0cnVlLCJpc1RoaXJkUGFydHkiOnRydWV9'}, 'text': ''}, {'tag': 'meta', 'attributes': {'http-equiv': 'origin-trial', 'content': 'A+d7vJfYtay4OUbdtRPZA3y7bKQLsxaMEPmxgfhBGqKXNrdkCQeJlUwqa6EBbSfjwFtJWTrWIioXeMW+y8bWAgQAAACTeyJvcmlnaW4iOiJodHRwczovL2dvb2dsZXN5bmRpY2F0aW9uLmNvbTo0NDMiLCJmZWF0dXJlIjoiRmxlZGdlQmlkZGluZ0FuZEF1Y3Rpb25TZXJ2ZXIiLCJleHBpcnkiOjE3MzY4MTI4MDAsImlzU3ViZG9tYWluIjp0cnVlLCJpc1RoaXJkUGFydHkiOnRydWV9'}, 'text': ''}, {'tag': 'link', 'attributes': {'href': 'https://securepubads.g.doubleclick.net/pagead/managed/dict/m202504170101/gpt', 'rel': 'compression-dictionary'}, 'text': ''}]",
         "False",
         "False",
         null,
         "88.17",
         "31.0",
         "62.0",
         "0.0",
         "1.0",
         "Brandon Rush - Maccabi Haifa Forward - ESPN",
         "View the profile of Maccabi Haifa Forward Brandon Rush on ESPN. Get the latest news, live stats and game highlights.",
         "Brandon Rush - Maccabi Haifa Forward - ESPN",
         "https://a.espncdn.com/combiner/i?img=/i/headshots/nba/players/full/3457.png",
         "[]",
         "['//cdn1.espn.net/fitt/e875a0841ebc-release-04-16-2025.2.0.2278/client/espnfitt/css/fusion-f48af051.css', '//cdn1.espn.net/fitt/e875a0841ebc-release-04-16-2025.2.0.2278/client/espnfitt/css/2113-e3c2d6ec.css', '//cdn1.espn.net/fitt/e875a0841ebc-release-04-16-2025.2.0.2278/client/espnfitt/css/espnfitt-46f8a12e.css', '//cdn1.espn.net/fitt/e875a0841ebc-release-04-16-2025.2.0.2278/client/espnfitt/css/2708-4fc82bee.css', '//cdn1.espn.net/fitt/e875a0841ebc-release-04-16-2025.2.0.2278/client/espnfitt/css/9290-7c3cc97e.css', '//cdn1.espn.net/fitt/e875a0841ebc-release-04-16-2025.2.0.2278/client/espnfitt/css/8285-acda6118.css', '//cdn1.espn.net/fitt/e875a0841ebc-release-04-16-2025.2.0.2278/client/espnfitt/css/9561-be3816e8.css', '//cdn1.espn.net/fitt/e875a0841ebc-release-04-16-2025.2.0.2278/client/espnfitt/css/3659-69e28bc4.css', '//cdn1.espn.net/fitt/e875a0841ebc-release-04-16-2025.2.0.2278/client/espnfitt/css/157-7cd2324d.css', '//cdn1.espn.net/fitt/e875a0841ebc-release-04-16-2025.2.0.2278/client/espnfitt/css/player.basketball-f6eecd15.css']"
        ],
        [
         "2",
         "7",
         "yourbittorrent.com/?q=anthony-hamilton-soulife",
         "benign",
         "yourbittorrent.com/?q=anthony-hamilton-soulife",
         "0",
         "46",
         "yourbittorrent.com",
         "40",
         "0",
         "6",
         "0",
         "0",
         "0",
         "0",
         "Global",
         "yourbittorrent",
         "http://yourbittorrent.com/?q=anthony-hamilton-soulife",
         "https://yourbittorrent.com/?q=anthony-hamilton-soulife",
         "[{\"url\": \"http://yourbittorrent.com/?q=anthony-hamilton-soulife\", \"status\": 307, \"location\": \"https://yourbittorrent.com/?q=anthony-hamilton-soulife\"}]",
         "1",
         "[{'tag': 'meta', 'attributes': {'charset': 'utf-8'}, 'text': ''}, {'tag': 'title', 'attributes': {}, 'text': 'YourBittorrent'}, {'tag': 'meta', 'attributes': {'name': 'viewport', 'content': 'width=device-width, initial-scale=1'}, 'text': ''}, {'tag': 'meta', 'attributes': {'http-equiv': 'X-UA-Compatible', 'content': 'IE=edge'}, 'text': ''}, {'tag': 'link', 'attributes': {'rel': 'apple-touch-icon', 'sizes': '180x180', 'href': '/apple-touch-icon.png'}, 'text': ''}, {'tag': 'link', 'attributes': {'rel': 'icon', 'type': 'image/png', 'href': '/favicon-32x32.png', 'sizes': '32x32'}, 'text': ''}, {'tag': 'link', 'attributes': {'rel': 'icon', 'type': 'image/png', 'href': '/favicon-16x16.png', 'sizes': '16x16'}, 'text': ''}, {'tag': 'link', 'attributes': {'rel': 'manifest', 'href': '/manifest.json'}, 'text': ''}, {'tag': 'link', 'attributes': {'rel': 'mask-icon', 'href': '/safari-pinned-tab.svg', 'color': '#f11b01'}, 'text': ''}, {'tag': 'meta', 'attributes': {'name': 'theme-color', 'content': '#ffffff'}, 'text': ''}, {'tag': 'link', 'attributes': {'rel': 'alternate', 'type': 'application/rss+xml', 'href': '/rss.xml'}, 'text': ''}, {'tag': 'link', 'attributes': {'rel': 'search', 'type': 'application/opensearchdescription+xml', 'title': 'YourBittorrent', 'href': '/opensearch.xml'}, 'text': ''}, {'tag': 'link', 'attributes': {'href': 'https://y.t0r.site/static/style4.1.css', 'rel': 'stylesheet'}, 'text': ''}, {'tag': 'link', 'attributes': {'rel': 'stylesheet', 'href': 'https://y.t0r.site/static/fontawesome.css'}, 'text': ''}, {'tag': 'link', 'attributes': {'rel': 'preload', 'as': 'script', 'href': 'https://y.t0r.site/static/js.js'}, 'text': ''}, {'tag': 'link', 'attributes': {'rel': 'preload', 'as': 'script', 'href': '//clickdescentchristmas.com/11/7e/e9/117ee989d839244c0f878259c0affb1f.js'}, 'text': ''}]",
         "False",
         "False",
         null,
         "21.12",
         "4.0",
         "11.0",
         "0.0",
         "1.0",
         "YourBittorrent",
         null,
         null,
         null,
         "[]",
         "['https://y.t0r.site/static/style4.1.css', 'https://y.t0r.site/static/fontawesome.css']"
        ],
        [
         "3",
         "9",
         "allmusic.com/album/crazy-from-the-heat-r16990",
         "benign",
         "allmusic.com/album/crazy-from-the-heat-r16990",
         "0",
         "45",
         "allmusic.com",
         "33",
         "5",
         "7",
         "0",
         "0",
         "0",
         "0",
         "Global",
         "allmusic",
         "http://allmusic.com/album/crazy-from-the-heat-r16990",
         "https://www.allmusic.com/album/crazy-from-the-heat-mw0000191692",
         "[{\"url\": \"http://allmusic.com/album/crazy-from-the-heat-r16990\", \"status\": 301, \"location\": \"https://allmusic.com/album/crazy-from-the-heat-r16990\"}, {\"url\": \"https://allmusic.com/album/crazy-from-the-heat-r16990\", \"status\": 301, \"location\": \"https://www.allmusic.com/album/crazy-from-the-heat-r16990\"}, {\"url\": \"https://www.allmusic.com/album/crazy-from-the-heat-r16990\", \"status\": 301, \"location\": \"https://www.allmusic.com/album/crazy-from-the-heat-mw0000191692\"}, {\"url\": \"https://tps30.doubleverify.com/visit.jpg?ctx=2908533&cmp=2736444&sid=24324&plc=DV-RTHM20170324001&advid=2908534&region=30&btadsrv=rhythmone&app=appid&sup=sspid&DVP_DV_TT=2&DVP_DV_CT=1&DVP_APPID=NotApplicable&DVP_SSPID=NotApplicable&DVP_PUBID=NotApplicable&DVP_PP_BUNDLE_ID=NotApplicable&DVP_RO_SSPID=NotApplicable&DVP_PP_ORTB_PUB_ID=NotApplicable&DVP_RO_SITEID=NotApplicable&DVP_RO_TRAFFIC=NotApplicable&DVP_PP_DEAL_ID=NotApplicable&DVPX_PP_IMP_ID=NotApplicable&DVPX_PP_UID=NotApplicable&DVP_RO_CDID=NotApplicable&DVPX_PP_AUCTION_UA=Mozilla%2F5.0+%28Windows+NT+10.0%3B+Win64%3B+x64%29+AppleWebKit%2F537.36+%28KHTML%2C+like+Gecko%29+Chrome%2F120.0.0.0+Safari%2F537.36&DVP_PP_AUCTION_IP=10.128.0.33&turl=AllMusic.com&dvtagver=6.1.img\", \"status\": 302, \"location\": \"https://tps-dn-ae1.doubleverify.com/event.jpg?impid=f54fa8bc6b974574bb480f24cf03b93d&consid=&api=2&rc=true\"}, {\"url\": \"https://sb.scorecardresearch.com/b?c1=2&c2=6685975&cs_it=b1&cv=4.12.0%2B2412121612&ns__t=1745229263811&ns_c=UTF-8&cs_cfg=1001110&c7=https%3A%2F%2Fwww.allmusic.com%2Falbum%2Fcrazy-from-the-heat-mw0000191692&c8=Crazy%20from%20the%20Heat%20-%20David%20Lee%20Roth%20%7C%20Album%20%7C%20AllMusic&c9=\", \"status\": 302, \"location\": \"/b2?c1=2&c2=6685975&cs_it=b1&cv=4.12.0%2B2412121612&ns__t=1745229263811&ns_c=UTF-8&cs_cfg=1001110&c7=https%3A%2F%2Fwww.allmusic.com%2Falbum%2Fcrazy-from-the-heat-mw0000191692&c8=Crazy%20from%20the%20Heat%20-%20David%20Lee%20Roth%20%7C%20Album%20%7C%20AllMusic&c9=\"}]",
         "5",
         "[{'tag': 'title', 'attributes': {}, 'text': 'Crazy from the Heat - David Lee Roth | Album | AllMusic'}, {'tag': 'meta', 'attributes': {'name': 'title', 'content': 'Crazy from the Heat - David Lee Roth | Album | AllMusic'}, 'text': ''}, {'tag': 'meta', 'attributes': {'name': 'description', 'content': 'Crazy from the Heat by David Lee Roth released in 1985. Find album reviews, track lists, credits, awards and more at AllMusic.'}, 'text': ''}, {'tag': 'meta', 'attributes': {'name': 'image', 'content': 'https://fastly-s3.allmusic.com/release/mr0000308822/front/400/aUU-kvN7mqk1YZXupnrRBphUoDg0hsvx4F4sL4oO-nA=.jpg'}, 'text': ''}, {'tag': 'meta', 'attributes': {'charset': 'UTF-8'}, 'text': ''}, {'tag': 'meta', 'attributes': {'name': 'apple-mobile-web-app-capable', 'content': 'no'}, 'text': ''}, {'tag': 'meta', 'attributes': {'name': 'viewport', 'content': 'width=device-width, initial-scale=1.0'}, 'text': ''}, {'tag': 'meta', 'attributes': {'name': 'application-name', 'content': 'AllMusic'}, 'text': ''}, {'tag': 'link', 'attributes': {'rel': 'alternate', 'type': 'application/rss+xml', 'title': 'RSS', 'href': '/rss'}, 'text': ''}, {'tag': 'meta', 'attributes': {'property': 'og:site_name', 'content': 'AllMusic'}, 'text': ''}, {'tag': 'meta', 'attributes': {'property': 'fb:app_id', 'content': '415271808519760'}, 'text': ''}, {'tag': 'meta', 'attributes': {'property': 'og:title', 'content': 'Crazy from the Heat - David Lee Roth | Album | AllMusic'}, 'text': ''}, {'tag': 'meta', 'attributes': {'name': 'twitter:title', 'content': 'Crazy from the Heat - David Lee Roth | Album | AllMusic'}, 'text': ''}, {'tag': 'meta', 'attributes': {'property': 'og:description', 'content': 'Crazy from the Heat by David Lee Roth released in 1985. Find album reviews, track lists, credits, awards and more at AllMusic.'}, 'text': ''}, {'tag': 'meta', 'attributes': {'name': 'twitter:description', 'content': 'Crazy from the Heat by David Lee Roth released in 1985. Find album reviews, track lists, credits, awards and more at AllMusic.'}, 'text': ''}, {'tag': 'meta', 'attributes': {'property': 'og:image', 'content': 'https://fastly-s3.allmusic.com/release/mr0000308822/front/400/aUU-kvN7mqk1YZXupnrRBphUoDg0hsvx4F4sL4oO-nA=.jpg'}, 'text': ''}, {'tag': 'meta', 'attributes': {'name': 'twitter:card', 'content': 'summary'}, 'text': ''}, {'tag': 'meta', 'attributes': {'name': 'twitter:image', 'content': 'https://fastly-s3.allmusic.com/release/mr0000308822/front/400/aUU-kvN7mqk1YZXupnrRBphUoDg0hsvx4F4sL4oO-nA=.jpg'}, 'text': ''}, {'tag': 'meta', 'attributes': {'property': 'og:type', 'content': 'music.album'}, 'text': ''}, {'tag': 'meta', 'attributes': {'property': 'og:url', 'content': 'https://www.allmusic.com/album/crazy-from-the-heat-mw0000191692'}, 'text': ''}, {'tag': 'meta', 'attributes': {'name': 'spotim-ads', 'content': 'disable-all'}, 'text': ''}, {'tag': 'link', 'attributes': {'rel': 'canonical', 'href': 'https://www.allmusic.com/album/crazy-from-the-heat-mw0000191692'}, 'text': ''}, {'tag': 'link', 'attributes': {'rel': 'preload', 'href': 'https://fastly-gce.allmusic.com/dist/css/pages/album/album-b368821d43.css', 'as': 'style', 'crossorigin': 'anonymous'}, 'text': ''}, {'tag': 'link', 'attributes': {'rel': 'preload', 'href': 'https://fastly-gce.allmusic.com/dist/js/setup-6cd9d545ad.js', 'as': 'script', 'crossorigin': 'anonymous'}, 'text': ''}, {'tag': 'link', 'attributes': {'rel': 'preload', 'href': 'https://fastly-gce.allmusic.com/dist/js/global-428b3b4946.js', 'as': 'script', 'crossorigin': 'anonymous'}, 'text': ''}, {'tag': 'link', 'attributes': {'rel': 'preload', 'href': 'https://fastly-gce.allmusic.com/dist/js/album-c0bb153be7.js', 'as': 'script', 'crossorigin': 'anonymous'}, 'text': ''}, {'tag': 'link', 'attributes': {'rel': 'preload', 'href': 'https://fastly-gce.allmusic.com/images/rating/user-0.svg', 'as': 'image', 'crossorigin': 'anonymous'}, 'text': ''}, {'tag': 'link', 'attributes': {'rel': 'preload', 'href': 'https://fastly-gce.allmusic.com/images/rating/user-1.svg', 'as': 'image', 'crossorigin': 'anonymous'}, 'text': ''}, {'tag': 'link', 'attributes': {'rel': 'preload', 'href': 'https://fastly-gce.allmusic.com/images/rating/user-2.svg', 'as': 'image', 'crossorigin': 'anonymous'}, 'text': ''}, {'tag': 'link', 'attributes': {'rel': 'preload', 'href': 'https://fastly-gce.allmusic.com/images/rating/user-3.svg', 'as': 'image', 'crossorigin': 'anonymous'}, 'text': ''}, {'tag': 'link', 'attributes': {'rel': 'preload', 'href': 'https://fastly-gce.allmusic.com/images/rating/user-4.svg', 'as': 'image', 'crossorigin': 'anonymous'}, 'text': ''}, {'tag': 'link', 'attributes': {'rel': 'preload', 'href': 'https://fastly-gce.allmusic.com/images/rating/user-5.svg', 'as': 'image', 'crossorigin': 'anonymous'}, 'text': ''}, {'tag': 'link', 'attributes': {'rel': 'preload', 'href': 'https://fastly-gce.allmusic.com/images/rating/user-6.svg', 'as': 'image', 'crossorigin': 'anonymous'}, 'text': ''}, {'tag': 'link', 'attributes': {'rel': 'preload', 'href': 'https://fastly-gce.allmusic.com/images/rating/user-7.svg', 'as': 'image', 'crossorigin': 'anonymous'}, 'text': ''}, {'tag': 'link', 'attributes': {'rel': 'preload', 'href': 'https://fastly-gce.allmusic.com/images/rating/user-8.svg', 'as': 'image', 'crossorigin': 'anonymous'}, 'text': ''}, {'tag': 'link', 'attributes': {'rel': 'preload', 'href': 'https://fastly-gce.allmusic.com/images/rating/user-9.svg', 'as': 'image', 'crossorigin': 'anonymous'}, 'text': ''}, {'tag': 'link', 'attributes': {'rel': 'preload', 'href': 'https://fastly-gce.allmusic.com/images/rating/user-10.svg', 'as': 'image', 'crossorigin': 'anonymous'}, 'text': ''}, {'tag': 'link', 'attributes': {'rel': 'preload', 'href': 'https://fastly-gce.allmusic.com/images/allmusic-logo-wordmark.svg', 'as': 'image', 'crossorigin': 'anonymous'}, 'text': ''}, {'tag': 'link', 'attributes': {'rel': 'preload', 'href': 'https://fastly-gce.allmusic.com/images/allmusic-logo-wordmark-mobile.svg', 'as': 'image', 'crossorigin': 'anonymous'}, 'text': ''}, {'tag': 'link', 'attributes': {'rel': 'prefetch', 'href': 'https://fastly-gce.allmusic.com/images/allmusic_tower_color.svg'}, 'text': ''}, {'tag': 'link', 'attributes': {'rel': 'preload', 'href': 'https://fastly-gce.allmusic.com/images/nav-down-arrow.svg', 'as': 'image', 'crossorigin': 'anonymous'}, 'text': ''}, {'tag': 'link', 'attributes': {'rel': 'prefetch', 'href': 'https://fastly-gce.allmusic.com/images/gear_off.svg'}, 'text': ''}, {'tag': 'link', 'attributes': {'rel': 'prefetch', 'href': 'https://fastly-gce.allmusic.com/images/gear_on.svg'}, 'text': ''}, {'tag': 'link', 'attributes': {'rel': 'prefetch', 'href': 'https://fastly-gce.allmusic.com/images/flag_off.svg'}, 'text': ''}, {'tag': 'link', 'attributes': {'rel': 'prefetch', 'href': 'https://fastly-gce.allmusic.com/images/flag_on.svg'}, 'text': ''}, {'tag': 'link', 'attributes': {'rel': 'preload', 'href': 'https://fastly-gce.allmusic.com/images/facebook-logo-off.svg', 'as': 'image', 'crossorigin': 'anonymous'}, 'text': ''}, {'tag': 'link', 'attributes': {'rel': 'prefetch', 'href': 'https://fastly-gce.allmusic.com/images/facebook-logo-on.svg'}, 'text': ''}, {'tag': 'link', 'attributes': {'rel': 'preload', 'href': 'https://fastly-gce.allmusic.com/images/twitter_off.svg', 'as': 'image', 'crossorigin': 'anonymous'}, 'text': ''}, {'tag': 'link', 'attributes': {'rel': 'prefetch', 'href': 'https://fastly-gce.allmusic.com/images/twitter_on.svg'}, 'text': ''}, {'tag': 'link', 'attributes': {'rel': 'preload', 'href': 'https://fastly-gce.allmusic.com/images/tumblr-logo-off.svg', 'as': 'image', 'crossorigin': 'anonymous'}, 'text': ''}, {'tag': 'link', 'attributes': {'rel': 'prefetch', 'href': 'https://fastly-gce.allmusic.com/images/tumblr-logo-on.svg'}, 'text': ''}, {'tag': 'link', 'attributes': {'rel': 'preload', 'href': 'https://fastly-gce.allmusic.com/images/pinterest-logo-off.svg', 'as': 'image', 'crossorigin': 'anonymous'}, 'text': ''}, {'tag': 'link', 'attributes': {'rel': 'prefetch', 'href': 'https://fastly-gce.allmusic.com/images/pinterest-logo-on.svg'}, 'text': ''}, {'tag': 'link', 'attributes': {'rel': 'preload', 'href': 'https://fastly-gce.allmusic.com/images/rss_off.svg', 'as': 'image', 'crossorigin': 'anonymous'}, 'text': ''}, {'tag': 'link', 'attributes': {'rel': 'prefetch', 'href': 'https://fastly-gce.allmusic.com/images/rss_on.svg'}, 'text': ''}, {'tag': 'link', 'attributes': {'rel': 'preload', 'href': 'https://fastly-gce.allmusic.com/images/looking-glass.svg', 'as': 'image', 'crossorigin': 'anonymous'}, 'text': ''}, {'tag': 'link', 'attributes': {'rel': 'prefetch', 'href': 'https://fastly-gce.allmusic.com/images/hamburger-menu.svg'}, 'text': ''}, {'tag': 'link', 'attributes': {'rel': 'icon', 'type': 'image/png', 'href': 'https://fastly-gce.allmusic.com/images/favicon/favicon-196x196.png?v=47BXOjEqB', 'sizes': '196x196'}, 'text': ''}, {'tag': 'link', 'attributes': {'rel': 'icon', 'href': 'https://fastly-gce.allmusic.com/images/favicon/favicon-96x96.png?v=47BXOjEqB', 'type': 'image/png', 'sizes': '96x96'}, 'text': ''}, {'tag': 'link', 'attributes': {'rel': 'icon', 'href': 'https://fastly-gce.allmusic.com/images/favicon/favicon-32x32.png?v=47BXOjEqB', 'type': 'image/png', 'sizes': '32x32'}, 'text': ''}, {'tag': 'link', 'attributes': {'rel': 'icon', 'href': 'https://fastly-gce.allmusic.com/images/favicon/favicon-16x16.png?v=47BXOjEqB', 'type': 'image/png', 'sizes': '16x16'}, 'text': ''}, {'tag': 'link', 'attributes': {'rel': 'shortcut icon', 'href': 'https://fastly-gce.allmusic.com/images/favicon/favicon.ico?v=47BXOjEqB', 'type': 'image/x-icon'}, 'text': ''}, {'tag': 'link', 'attributes': {'rel': 'apple-touch-icon-precomposed', 'sizes': '120x120', 'href': 'https://fastly-gce.allmusic.com/images/favicon/ios/apple-touch-icon-120x120.png?v=47BXOjEqB'}, 'text': ''}, {'tag': 'link', 'attributes': {'rel': 'apple-touch-icon-precomposed', 'sizes': '76x76', 'href': 'https://fastly-gce.allmusic.com/images/favicon/ios/apple-touch-icon-76x76.png?v=47BXOjEqB'}, 'text': ''}, {'tag': 'link', 'attributes': {'rel': 'apple-touch-icon-precomposed', 'sizes': '152x152', 'href': 'https://fastly-gce.allmusic.com/images/favicon/ios/apple-touch-icon-152x152.png?v=47BXOjEqB'}, 'text': ''}, {'tag': 'link', 'attributes': {'rel': 'apple-touch-icon-precomposed', 'sizes': '180x180', 'href': 'https://fastly-gce.allmusic.com/images/favicon/ios/apple-touch-icon-180x180.png?v=47BXOjEqB'}, 'text': ''}, {'tag': 'meta', 'attributes': {'name': 'apple-mobile-web-app-title', 'content': 'AllMusic'}, 'text': ''}, {'tag': 'link', 'attributes': {'rel': 'preconnect', 'href': 'https://fonts.googleapis.com'}, 'text': ''}, {'tag': 'link', 'attributes': {'rel': 'preconnect', 'href': 'https://fonts.gstatic.com', 'crossorigin': ''}, 'text': ''}, {'tag': 'link', 'attributes': {'href': 'https://fonts.googleapis.com/css2?family=Bevan:ital@0;1&family=Kameron:wght@400..700&display=swap', 'rel': 'stylesheet'}, 'text': ''}, {'tag': 'link', 'attributes': {'type': 'text/css', 'rel': 'stylesheet', 'href': 'https://fastly-gce.allmusic.com/dist/css/pages/album/album-b368821d43.css', 'crossorigin': 'anonymous'}, 'text': ''}, {'tag': 'meta', 'attributes': {'name': 'alexaVerifyID', 'content': 'SfgYrX5roRNK_iy-Mr_tFkRlY7M'}, 'text': ''}, {'tag': 'meta', 'attributes': {'name': 'google-adsense-account', 'content': 'ca-pub-7469247490545938'}, 'text': ''}, {'tag': 'meta', 'attributes': {'http-equiv': 'origin-trial', 'content': 'AlK2UR5SkAlj8jjdEc9p3F3xuFYlF6LYjAML3EOqw1g26eCwWPjdmecULvBH5MVPoqKYrOfPhYVL71xAXI1IBQoAAAB8eyJvcmlnaW4iOiJodHRwczovL2RvdWJsZWNsaWNrLm5ldDo0NDMiLCJmZWF0dXJlIjoiV2ViVmlld1hSZXF1ZXN0ZWRXaXRoRGVwcmVjYXRpb24iLCJleHBpcnkiOjE3NTgwNjcxOTksImlzU3ViZG9tYWluIjp0cnVlfQ=='}, 'text': ''}, {'tag': 'meta', 'attributes': {'http-equiv': 'origin-trial', 'content': 'Amm8/NmvvQfhwCib6I7ZsmUxiSCfOxWxHayJwyU1r3gRIItzr7bNQid6O8ZYaE1GSQTa69WwhPC9flq/oYkRBwsAAACCeyJvcmlnaW4iOiJodHRwczovL2dvb2dsZXN5bmRpY2F0aW9uLmNvbTo0NDMiLCJmZWF0dXJlIjoiV2ViVmlld1hSZXF1ZXN0ZWRXaXRoRGVwcmVjYXRpb24iLCJleHBpcnkiOjE3NTgwNjcxOTksImlzU3ViZG9tYWluIjp0cnVlfQ=='}, 'text': ''}, {'tag': 'meta', 'attributes': {'http-equiv': 'origin-trial', 'content': 'A9wSqI5i0iwGdf6L1CERNdmsTPgVu44ewj8QxTBYgsv1LCPUVF7YmWOvTappqB1139jAymxUW/RO8zmMqo4zlAAAAACNeyJvcmlnaW4iOiJodHRwczovL2RvdWJsZWNsaWNrLm5ldDo0NDMiLCJmZWF0dXJlIjoiRmxlZGdlQmlkZGluZ0FuZEF1Y3Rpb25TZXJ2ZXIiLCJleHBpcnkiOjE3MzY4MTI4MDAsImlzU3ViZG9tYWluIjp0cnVlLCJpc1RoaXJkUGFydHkiOnRydWV9'}, 'text': ''}, {'tag': 'meta', 'attributes': {'http-equiv': 'origin-trial', 'content': 'A+d7vJfYtay4OUbdtRPZA3y7bKQLsxaMEPmxgfhBGqKXNrdkCQeJlUwqa6EBbSfjwFtJWTrWIioXeMW+y8bWAgQAAACTeyJvcmlnaW4iOiJodHRwczovL2dvb2dsZXN5bmRpY2F0aW9uLmNvbTo0NDMiLCJmZWF0dXJlIjoiRmxlZGdlQmlkZGluZ0FuZEF1Y3Rpb25TZXJ2ZXIiLCJleHBpcnkiOjE3MzY4MTI4MDAsImlzU3ViZG9tYWluIjp0cnVlLCJpc1RoaXJkUGFydHkiOnRydWV9'}, 'text': ''}, {'tag': 'link', 'attributes': {'rel': 'stylesheet', 'href': 'https://config.playwire.com/1024482/v2/websites/73599/styles.css'}, 'text': ''}, {'tag': 'meta', 'attributes': {'http-equiv': 'origin-trial', 'content': 'AlK2UR5SkAlj8jjdEc9p3F3xuFYlF6LYjAML3EOqw1g26eCwWPjdmecULvBH5MVPoqKYrOfPhYVL71xAXI1IBQoAAAB8eyJvcmlnaW4iOiJodHRwczovL2RvdWJsZWNsaWNrLm5ldDo0NDMiLCJmZWF0dXJlIjoiV2ViVmlld1hSZXF1ZXN0ZWRXaXRoRGVwcmVjYXRpb24iLCJleHBpcnkiOjE3NTgwNjcxOTksImlzU3ViZG9tYWluIjp0cnVlfQ=='}, 'text': ''}, {'tag': 'meta', 'attributes': {'http-equiv': 'origin-trial', 'content': 'Amm8/NmvvQfhwCib6I7ZsmUxiSCfOxWxHayJwyU1r3gRIItzr7bNQid6O8ZYaE1GSQTa69WwhPC9flq/oYkRBwsAAACCeyJvcmlnaW4iOiJodHRwczovL2dvb2dsZXN5bmRpY2F0aW9uLmNvbTo0NDMiLCJmZWF0dXJlIjoiV2ViVmlld1hSZXF1ZXN0ZWRXaXRoRGVwcmVjYXRpb24iLCJleHBpcnkiOjE3NTgwNjcxOTksImlzU3ViZG9tYWluIjp0cnVlfQ=='}, 'text': ''}, {'tag': 'meta', 'attributes': {'http-equiv': 'origin-trial', 'content': 'A9wSqI5i0iwGdf6L1CERNdmsTPgVu44ewj8QxTBYgsv1LCPUVF7YmWOvTappqB1139jAymxUW/RO8zmMqo4zlAAAAACNeyJvcmlnaW4iOiJodHRwczovL2RvdWJsZWNsaWNrLm5ldDo0NDMiLCJmZWF0dXJlIjoiRmxlZGdlQmlkZGluZ0FuZEF1Y3Rpb25TZXJ2ZXIiLCJleHBpcnkiOjE3MzY4MTI4MDAsImlzU3ViZG9tYWluIjp0cnVlLCJpc1RoaXJkUGFydHkiOnRydWV9'}, 'text': ''}, {'tag': 'meta', 'attributes': {'http-equiv': 'origin-trial', 'content': 'A+d7vJfYtay4OUbdtRPZA3y7bKQLsxaMEPmxgfhBGqKXNrdkCQeJlUwqa6EBbSfjwFtJWTrWIioXeMW+y8bWAgQAAACTeyJvcmlnaW4iOiJodHRwczovL2dvb2dsZXN5bmRpY2F0aW9uLmNvbTo0NDMiLCJmZWF0dXJlIjoiRmxlZGdlQmlkZGluZ0FuZEF1Y3Rpb25TZXJ2ZXIiLCJleHBpcnkiOjE3MzY4MTI4MDAsImlzU3ViZG9tYWluIjp0cnVlLCJpc1RoaXJkUGFydHkiOnRydWV9'}, 'text': ''}, {'tag': 'link', 'attributes': {'href': 'https://securepubads.g.doubleclick.net/pagead/managed/dict/m202504170101/gpt', 'rel': 'compression-dictionary'}, 'text': ''}]",
         "False",
         "False",
         null,
         "131.85",
         "30.0",
         "52.0",
         "0.0",
         "1.0",
         "Crazy from the Heat - David Lee Roth | Album | AllMusic",
         "Crazy from the Heat by David Lee Roth released in 1985. Find album reviews, track lists, credits, awards and more at AllMusic.",
         "Crazy from the Heat - David Lee Roth | Album | AllMusic",
         "https://fastly-s3.allmusic.com/release/mr0000308822/front/400/aUU-kvN7mqk1YZXupnrRBphUoDg0hsvx4F4sL4oO-nA=.jpg",
         "[]",
         "['https://fonts.googleapis.com/css2?family=Bevan:ital@0;1&family=Kameron:wght@400..700&display=swap', 'https://fastly-gce.allmusic.com/dist/css/pages/album/album-b368821d43.css', 'https://config.playwire.com/1024482/v2/websites/73599/styles.css']"
        ],
        [
         "4",
         "10",
         "corporationwiki.com/Ohio/Columbus/frank-s-benson-P3333917.aspx",
         "benign",
         "corporationwiki.com/Ohio/Columbus/frank-s-benson-P3333917.aspx",
         "0",
         "62",
         "corporationwiki.com",
         "47",
         "7",
         "8",
         "0",
         "0",
         "0",
         "0",
         "Global",
         "corporationwiki",
         "http://corporationwiki.com/Ohio/Columbus/frank-s-benson-P3333917.aspx",
         "https://www.corporationwiki.com/Ohio/Columbus/frank-s-benson-7779789.aspx",
         "[{\"url\": \"http://corporationwiki.com/Ohio/Columbus/frank-s-benson-P3333917.aspx\", \"status\": 301, \"location\": \"http://www.corporationwiki.com/Ohio/Columbus/frank-s-benson-P3333917.aspx\"}, {\"url\": \"http://www.corporationwiki.com/Ohio/Columbus/frank-s-benson-P3333917.aspx\", \"status\": 301, \"location\": \"https://www.corporationwiki.com/Ohio/Columbus/frank-s-benson-P3333917.aspx\"}, {\"url\": \"https://www.corporationwiki.com/Ohio/Columbus/frank-s-benson-P3333917.aspx\", \"status\": 301, \"location\": \"https://www.corporationwiki.com/Ohio/Columbus/frank-s-benson-7779789.aspx\"}]",
         "3",
         "[{'tag': 'link', 'attributes': {'rel': 'preconnect', 'href': '//ap.lijit.com', 'crossorigin': ''}, 'text': ''}, {'tag': 'link', 'attributes': {'rel': 'preconnect', 'href': '//cdn.corporationwiki.com', 'crossorigin': ''}, 'text': ''}, {'tag': 'link', 'attributes': {'rel': 'preconnect', 'href': '//netdna.bootstrapcdn.com', 'crossorigin': ''}, 'text': ''}, {'tag': 'link', 'attributes': {'rel': 'preconnect', 'href': '//fonts.googleapis.com', 'crossorigin': ''}, 'text': ''}, {'tag': 'link', 'attributes': {'rel': 'preconnect', 'href': '//ajax.googleapis.com', 'crossorigin': ''}, 'text': ''}, {'tag': 'link', 'attributes': {'rel': 'preconnect', 'href': '//go.ezoic.net', 'crossorigin': ''}, 'text': ''}, {'tag': 'link', 'attributes': {'rel': 'preload', 'as': 'script', 'href': '//securepubads.g.doubleclick.net/tag/js/gpt.js'}, 'text': ''}, {'tag': 'link', 'attributes': {'rel': 'preload', 'as': 'script', 'href': '//go.ezodn.com/hb/dall.js?cb=195-4-119'}, 'text': ''}, {'tag': 'base', 'attributes': {'href': 'https://www.corporationwiki.com/Ohio/Columbus/frank-s-benson-7779789.aspx'}, 'text': ''}, {'tag': 'meta', 'attributes': {'charset': 'utf-8'}, 'text': ''}, {'tag': 'meta', 'attributes': {'property': 'env', 'content': 'web6'}, 'text': ''}, {'tag': 'meta', 'attributes': {'http-equiv': 'x-ua-compatible', 'content': 'IE=edge'}, 'text': ''}, {'tag': 'meta', 'attributes': {'name': 'viewport', 'content': 'width=device-width,initial-scale=1,maximum-scale=1,user-scalable=0'}, 'text': ''}, {'tag': 'link', 'attributes': {'rel': 'canonical', 'href': 'https://www.corporationwiki.com/Ohio/Columbus/frank-s-benson-7779789.aspx'}, 'text': ''}, {'tag': 'title', 'attributes': {}, 'text': 'Frank Benson - Director for Clp Holding Corporation'}, {'tag': 'meta', 'attributes': {'name': 'description', 'content': \"View Frank S Benson's profile for company associations, background information, and partnerships. Search our database of over 100 million company and executive profiles.\"}, 'text': ''}, {'tag': 'meta', 'attributes': {'property': 'og:description', 'content': \"View Frank S Benson's profile for company associations, background information, and partnerships. Search our database of over 100 million company and executive profiles.\"}, 'text': ''}, {'tag': 'meta', 'attributes': {'name': 'twitter:description', 'content': \"View Frank S Benson's profile for company associations, background information, and partnerships. Search our database of over 100 million company and executive profiles.\"}, 'text': ''}, {'tag': 'meta', 'attributes': {'property': 'og:type', 'content': 'company'}, 'text': ''}, {'tag': 'meta', 'attributes': {'property': 'og:site_name', 'content': 'Corporation Wiki'}, 'text': ''}, {'tag': 'meta', 'attributes': {'property': 'og:title', 'content': 'Frank Benson - Director for Clp Holding Corporation'}, 'text': ''}, {'tag': 'meta', 'attributes': {'property': 'og:url', 'content': 'https://www.corporationwiki.com/Ohio/Columbus/frank-s-benson-7779789.aspx'}, 'text': ''}, {'tag': 'meta', 'attributes': {'property': 'og:image', 'content': 'https://cdn.corporationwiki.com/profiles/graph/19580410.png'}, 'text': ''}, {'tag': 'meta', 'attributes': {'property': 'og:image:width', 'content': '1200'}, 'text': ''}, {'tag': 'meta', 'attributes': {'property': 'og:image:height', 'content': '630'}, 'text': ''}, {'tag': 'meta', 'attributes': {'name': 'twitter:image', 'content': 'https://cdn.corporationwiki.com/profiles/graph/19580410.png'}, 'text': ''}, {'tag': 'meta', 'attributes': {'property': 'fb:app_id', 'content': '184372048280618'}, 'text': ''}, {'tag': 'meta', 'attributes': {'name': 'twitter:card', 'content': 'summary_large_image'}, 'text': ''}, {'tag': 'meta', 'attributes': {'name': 'twitter:site', 'content': 'Corporation Wiki'}, 'text': ''}, {'tag': 'meta', 'attributes': {'name': 'twitter:creator', 'content': 'corporationwiki'}, 'text': ''}, {'tag': 'meta', 'attributes': {'name': 'twitter:title', 'content': 'Frank Benson - Director for Clp Holding Corporation'}, 'text': ''}, {'tag': 'link', 'attributes': {'href': 'https://cdn.corporationwiki.com/public/css/bundle.css?v=F6F09E6870C25FC0EB548B1764B734C7', 'rel': 'stylesheet'}, 'text': ''}, {'tag': 'link', 'attributes': {'href': '//netdna.bootstrapcdn.com/font-awesome/4.6.3/css/font-awesome.css', 'rel': 'stylesheet'}, 'text': ''}, {'tag': 'link', 'attributes': {'href': 'https://cdn.corporationwiki.com/public/css/bootstrap-table-bundle.css?v=F6F09E6870C25FC0EB548B1764B734C7', 'rel': 'stylesheet'}, 'text': ''}, {'tag': 'link', 'attributes': {'rel': 'stylesheet', 'id': 'avia-google-webfont', 'href': 'https://fonts.googleapis.com/css?family=Arvo:400|Gruppo:400|Open+Sans:400,600&display=optional', 'media': 'all', 'ezfontsrc': '//fonts.googleapis.com/css?display=optional&family=Gruppo%7COpen+Sans%3A400%2C600%7CArvo', 'as': 'style'}, 'text': ''}, {'tag': 'meta', 'attributes': {'name': 'ir-site-verification-token', 'value': '-686025146'}, 'text': ''}, {'tag': 'meta', 'attributes': {'http-equiv': 'origin-trial', 'content': 'AlK2UR5SkAlj8jjdEc9p3F3xuFYlF6LYjAML3EOqw1g26eCwWPjdmecULvBH5MVPoqKYrOfPhYVL71xAXI1IBQoAAAB8eyJvcmlnaW4iOiJodHRwczovL2RvdWJsZWNsaWNrLm5ldDo0NDMiLCJmZWF0dXJlIjoiV2ViVmlld1hSZXF1ZXN0ZWRXaXRoRGVwcmVjYXRpb24iLCJleHBpcnkiOjE3NTgwNjcxOTksImlzU3ViZG9tYWluIjp0cnVlfQ=='}, 'text': ''}, {'tag': 'meta', 'attributes': {'http-equiv': 'origin-trial', 'content': 'Amm8/NmvvQfhwCib6I7ZsmUxiSCfOxWxHayJwyU1r3gRIItzr7bNQid6O8ZYaE1GSQTa69WwhPC9flq/oYkRBwsAAACCeyJvcmlnaW4iOiJodHRwczovL2dvb2dsZXN5bmRpY2F0aW9uLmNvbTo0NDMiLCJmZWF0dXJlIjoiV2ViVmlld1hSZXF1ZXN0ZWRXaXRoRGVwcmVjYXRpb24iLCJleHBpcnkiOjE3NTgwNjcxOTksImlzU3ViZG9tYWluIjp0cnVlfQ=='}, 'text': ''}, {'tag': 'meta', 'attributes': {'http-equiv': 'origin-trial', 'content': 'A9wSqI5i0iwGdf6L1CERNdmsTPgVu44ewj8QxTBYgsv1LCPUVF7YmWOvTappqB1139jAymxUW/RO8zmMqo4zlAAAAACNeyJvcmlnaW4iOiJodHRwczovL2RvdWJsZWNsaWNrLm5ldDo0NDMiLCJmZWF0dXJlIjoiRmxlZGdlQmlkZGluZ0FuZEF1Y3Rpb25TZXJ2ZXIiLCJleHBpcnkiOjE3MzY4MTI4MDAsImlzU3ViZG9tYWluIjp0cnVlLCJpc1RoaXJkUGFydHkiOnRydWV9'}, 'text': ''}, {'tag': 'meta', 'attributes': {'http-equiv': 'origin-trial', 'content': 'A+d7vJfYtay4OUbdtRPZA3y7bKQLsxaMEPmxgfhBGqKXNrdkCQeJlUwqa6EBbSfjwFtJWTrWIioXeMW+y8bWAgQAAACTeyJvcmlnaW4iOiJodHRwczovL2dvb2dsZXN5bmRpY2F0aW9uLmNvbTo0NDMiLCJmZWF0dXJlIjoiRmxlZGdlQmlkZGluZ0FuZEF1Y3Rpb25TZXJ2ZXIiLCJleHBpcnkiOjE3MzY4MTI4MDAsImlzU3ViZG9tYWluIjp0cnVlLCJpc1RoaXJkUGFydHkiOnRydWV9'}, 'text': ''}, {'tag': 'link', 'attributes': {'href': 'https://securepubads.g.doubleclick.net/pagead/managed/dict/m202504170101/gpt', 'rel': 'compression-dictionary'}, 'text': ''}, {'tag': 'meta', 'attributes': {'http-equiv': 'origin-trial', 'content': 'A3vKT9yxRPjmXN3DpIiz58f5JykcWHjUo/W7hvmtjgh9jPpQgem9VbADiNovG8NkO6mRmk70Kex8/KUqAYWVWAEAAACLeyJvcmlnaW4iOiJodHRwczovL2dvb2dsZXN5bmRpY2F0aW9uLmNvbTo0NDMiLCJmZWF0dXJlIjoiUHJpdmFjeVNhbmRib3hBZHNBUElzIiwiZXhwaXJ5IjoxNjk1MTY3OTk5LCJpc1N1YmRvbWFpbiI6dHJ1ZSwiaXNUaGlyZFBhcnR5Ijp0cnVlfQ=='}, 'text': ''}, {'tag': 'link', 'attributes': {'rel': 'stylesheet', 'type': 'text/css', 'href': '//cdnjs.cloudflare.com/ajax/libs/cookieconsent2/1.0.10/dark-bottom.css'}, 'text': ''}, {'tag': 'meta', 'attributes': {'http-equiv': 'origin-trial', 'content': 'A3vKT9yxRPjmXN3DpIiz58f5JykcWHjUo/W7hvmtjgh9jPpQgem9VbADiNovG8NkO6mRmk70Kex8/KUqAYWVWAEAAACLeyJvcmlnaW4iOiJodHRwczovL2dvb2dsZXN5bmRpY2F0aW9uLmNvbTo0NDMiLCJmZWF0dXJlIjoiUHJpdmFjeVNhbmRib3hBZHNBUElzIiwiZXhwaXJ5IjoxNjk1MTY3OTk5LCJpc1N1YmRvbWFpbiI6dHJ1ZSwiaXNUaGlyZFBhcnR5Ijp0cnVlfQ=='}, 'text': ''}]",
         "False",
         "False",
         null,
         "170.81",
         "27.0",
         "15.0",
         "0.0",
         "1.0",
         "Frank Benson - Director for Clp Holding Corporation",
         "View Frank S Benson's profile for company associations, background information, and partnerships. Search our database of over 100 million company and executive profiles.",
         "Frank Benson - Director for Clp Holding Corporation",
         "https://cdn.corporationwiki.com/profiles/graph/19580410.png",
         "[]",
         "['https://cdn.corporationwiki.com/public/css/bundle.css?v=F6F09E6870C25FC0EB548B1764B734C7', '//netdna.bootstrapcdn.com/font-awesome/4.6.3/css/font-awesome.css', 'https://cdn.corporationwiki.com/public/css/bootstrap-table-bundle.css?v=F6F09E6870C25FC0EB548B1764B734C7', 'https://fonts.googleapis.com/css?family=Arvo:400|Gruppo:400|Open+Sans:400,600&display=optional', '//cdnjs.cloudflare.com/ajax/libs/cookieconsent2/1.0.10/dark-bottom.css']"
        ]
       ],
       "shape": {
        "columns": 35,
        "rows": 5
       }
      },
      "text/html": [
       "<div>\n",
       "<style scoped>\n",
       "    .dataframe tbody tr th:only-of-type {\n",
       "        vertical-align: middle;\n",
       "    }\n",
       "\n",
       "    .dataframe tbody tr th {\n",
       "        vertical-align: top;\n",
       "    }\n",
       "\n",
       "    .dataframe thead th {\n",
       "        text-align: right;\n",
       "    }\n",
       "</style>\n",
       "<table border=\"1\" class=\"dataframe\">\n",
       "  <thead>\n",
       "    <tr style=\"text-align: right;\">\n",
       "      <th></th>\n",
       "      <th>Unnamed: 0</th>\n",
       "      <th>url</th>\n",
       "      <th>type</th>\n",
       "      <th>original_url</th>\n",
       "      <th>url_type</th>\n",
       "      <th>url_len</th>\n",
       "      <th>pri_domain</th>\n",
       "      <th>letters_count</th>\n",
       "      <th>digits_count</th>\n",
       "      <th>special_chars_count</th>\n",
       "      <th>...</th>\n",
       "      <th>meta_count</th>\n",
       "      <th>link_count</th>\n",
       "      <th>script_count</th>\n",
       "      <th>title_count</th>\n",
       "      <th>title_text</th>\n",
       "      <th>meta_description</th>\n",
       "      <th>og_title</th>\n",
       "      <th>og_image</th>\n",
       "      <th>script_srcs</th>\n",
       "      <th>link_stylesheets</th>\n",
       "    </tr>\n",
       "  </thead>\n",
       "  <tbody>\n",
       "    <tr>\n",
       "      <th>0</th>\n",
       "      <td>2</td>\n",
       "      <td>bopsecrets.org/rexroth/cr/1.htm</td>\n",
       "      <td>benign</td>\n",
       "      <td>bopsecrets.org/rexroth/cr/1.htm</td>\n",
       "      <td>0</td>\n",
       "      <td>31</td>\n",
       "      <td>bopsecrets.org</td>\n",
       "      <td>25</td>\n",
       "      <td>1</td>\n",
       "      <td>5</td>\n",
       "      <td>...</td>\n",
       "      <td>7.0</td>\n",
       "      <td>1.0</td>\n",
       "      <td>0.0</td>\n",
       "      <td>1.0</td>\n",
       "      <td>Classics Revisited (1)</td>\n",
       "      <td>NaN</td>\n",
       "      <td>NaN</td>\n",
       "      <td>NaN</td>\n",
       "      <td>[]</td>\n",
       "      <td>['../../css/rexroth.css']</td>\n",
       "    </tr>\n",
       "    <tr>\n",
       "      <th>1</th>\n",
       "      <td>6</td>\n",
       "      <td>espn.go.com/nba/player/_/id/3457/brandon-rush</td>\n",
       "      <td>benign</td>\n",
       "      <td>espn.go.com/nba/player/_/id/3457/brandon-rush</td>\n",
       "      <td>0</td>\n",
       "      <td>45</td>\n",
       "      <td>espn.go.com</td>\n",
       "      <td>31</td>\n",
       "      <td>4</td>\n",
       "      <td>10</td>\n",
       "      <td>...</td>\n",
       "      <td>31.0</td>\n",
       "      <td>62.0</td>\n",
       "      <td>0.0</td>\n",
       "      <td>1.0</td>\n",
       "      <td>Brandon Rush - Maccabi Haifa Forward - ESPN</td>\n",
       "      <td>View the profile of Maccabi Haifa Forward Bran...</td>\n",
       "      <td>Brandon Rush - Maccabi Haifa Forward - ESPN</td>\n",
       "      <td>https://a.espncdn.com/combiner/i?img=/i/headsh...</td>\n",
       "      <td>[]</td>\n",
       "      <td>['//cdn1.espn.net/fitt/e875a0841ebc-release-04...</td>\n",
       "    </tr>\n",
       "    <tr>\n",
       "      <th>2</th>\n",
       "      <td>7</td>\n",
       "      <td>yourbittorrent.com/?q=anthony-hamilton-soulife</td>\n",
       "      <td>benign</td>\n",
       "      <td>yourbittorrent.com/?q=anthony-hamilton-soulife</td>\n",
       "      <td>0</td>\n",
       "      <td>46</td>\n",
       "      <td>yourbittorrent.com</td>\n",
       "      <td>40</td>\n",
       "      <td>0</td>\n",
       "      <td>6</td>\n",
       "      <td>...</td>\n",
       "      <td>4.0</td>\n",
       "      <td>11.0</td>\n",
       "      <td>0.0</td>\n",
       "      <td>1.0</td>\n",
       "      <td>YourBittorrent</td>\n",
       "      <td>NaN</td>\n",
       "      <td>NaN</td>\n",
       "      <td>NaN</td>\n",
       "      <td>[]</td>\n",
       "      <td>['https://y.t0r.site/static/style4.1.css', 'ht...</td>\n",
       "    </tr>\n",
       "    <tr>\n",
       "      <th>3</th>\n",
       "      <td>9</td>\n",
       "      <td>allmusic.com/album/crazy-from-the-heat-r16990</td>\n",
       "      <td>benign</td>\n",
       "      <td>allmusic.com/album/crazy-from-the-heat-r16990</td>\n",
       "      <td>0</td>\n",
       "      <td>45</td>\n",
       "      <td>allmusic.com</td>\n",
       "      <td>33</td>\n",
       "      <td>5</td>\n",
       "      <td>7</td>\n",
       "      <td>...</td>\n",
       "      <td>30.0</td>\n",
       "      <td>52.0</td>\n",
       "      <td>0.0</td>\n",
       "      <td>1.0</td>\n",
       "      <td>Crazy from the Heat - David Lee Roth | Album |...</td>\n",
       "      <td>Crazy from the Heat by David Lee Roth released...</td>\n",
       "      <td>Crazy from the Heat - David Lee Roth | Album |...</td>\n",
       "      <td>https://fastly-s3.allmusic.com/release/mr00003...</td>\n",
       "      <td>[]</td>\n",
       "      <td>['https://fonts.googleapis.com/css2?family=Bev...</td>\n",
       "    </tr>\n",
       "    <tr>\n",
       "      <th>4</th>\n",
       "      <td>10</td>\n",
       "      <td>corporationwiki.com/Ohio/Columbus/frank-s-bens...</td>\n",
       "      <td>benign</td>\n",
       "      <td>corporationwiki.com/Ohio/Columbus/frank-s-bens...</td>\n",
       "      <td>0</td>\n",
       "      <td>62</td>\n",
       "      <td>corporationwiki.com</td>\n",
       "      <td>47</td>\n",
       "      <td>7</td>\n",
       "      <td>8</td>\n",
       "      <td>...</td>\n",
       "      <td>27.0</td>\n",
       "      <td>15.0</td>\n",
       "      <td>0.0</td>\n",
       "      <td>1.0</td>\n",
       "      <td>Frank Benson - Director for Clp Holding Corpor...</td>\n",
       "      <td>View Frank S Benson's profile for company asso...</td>\n",
       "      <td>Frank Benson - Director for Clp Holding Corpor...</td>\n",
       "      <td>https://cdn.corporationwiki.com/profiles/graph...</td>\n",
       "      <td>[]</td>\n",
       "      <td>['https://cdn.corporationwiki.com/public/css/b...</td>\n",
       "    </tr>\n",
       "  </tbody>\n",
       "</table>\n",
       "<p>5 rows × 35 columns</p>\n",
       "</div>"
      ],
      "text/plain": [
       "   Unnamed: 0                                                url    type  \\\n",
       "0           2                    bopsecrets.org/rexroth/cr/1.htm  benign   \n",
       "1           6      espn.go.com/nba/player/_/id/3457/brandon-rush  benign   \n",
       "2           7     yourbittorrent.com/?q=anthony-hamilton-soulife  benign   \n",
       "3           9      allmusic.com/album/crazy-from-the-heat-r16990  benign   \n",
       "4          10  corporationwiki.com/Ohio/Columbus/frank-s-bens...  benign   \n",
       "\n",
       "                                        original_url  url_type  url_len  \\\n",
       "0                    bopsecrets.org/rexroth/cr/1.htm         0       31   \n",
       "1      espn.go.com/nba/player/_/id/3457/brandon-rush         0       45   \n",
       "2     yourbittorrent.com/?q=anthony-hamilton-soulife         0       46   \n",
       "3      allmusic.com/album/crazy-from-the-heat-r16990         0       45   \n",
       "4  corporationwiki.com/Ohio/Columbus/frank-s-bens...         0       62   \n",
       "\n",
       "            pri_domain  letters_count  digits_count  special_chars_count  ...  \\\n",
       "0       bopsecrets.org             25             1                    5  ...   \n",
       "1          espn.go.com             31             4                   10  ...   \n",
       "2   yourbittorrent.com             40             0                    6  ...   \n",
       "3         allmusic.com             33             5                    7  ...   \n",
       "4  corporationwiki.com             47             7                    8  ...   \n",
       "\n",
       "   meta_count  link_count  script_count title_count  \\\n",
       "0         7.0         1.0           0.0         1.0   \n",
       "1        31.0        62.0           0.0         1.0   \n",
       "2         4.0        11.0           0.0         1.0   \n",
       "3        30.0        52.0           0.0         1.0   \n",
       "4        27.0        15.0           0.0         1.0   \n",
       "\n",
       "                                          title_text  \\\n",
       "0                             Classics Revisited (1)   \n",
       "1        Brandon Rush - Maccabi Haifa Forward - ESPN   \n",
       "2                                     YourBittorrent   \n",
       "3  Crazy from the Heat - David Lee Roth | Album |...   \n",
       "4  Frank Benson - Director for Clp Holding Corpor...   \n",
       "\n",
       "                                    meta_description  \\\n",
       "0                                                NaN   \n",
       "1  View the profile of Maccabi Haifa Forward Bran...   \n",
       "2                                                NaN   \n",
       "3  Crazy from the Heat by David Lee Roth released...   \n",
       "4  View Frank S Benson's profile for company asso...   \n",
       "\n",
       "                                            og_title  \\\n",
       "0                                                NaN   \n",
       "1        Brandon Rush - Maccabi Haifa Forward - ESPN   \n",
       "2                                                NaN   \n",
       "3  Crazy from the Heat - David Lee Roth | Album |...   \n",
       "4  Frank Benson - Director for Clp Holding Corpor...   \n",
       "\n",
       "                                            og_image script_srcs  \\\n",
       "0                                                NaN          []   \n",
       "1  https://a.espncdn.com/combiner/i?img=/i/headsh...          []   \n",
       "2                                                NaN          []   \n",
       "3  https://fastly-s3.allmusic.com/release/mr00003...          []   \n",
       "4  https://cdn.corporationwiki.com/profiles/graph...          []   \n",
       "\n",
       "                                    link_stylesheets  \n",
       "0                          ['../../css/rexroth.css']  \n",
       "1  ['//cdn1.espn.net/fitt/e875a0841ebc-release-04...  \n",
       "2  ['https://y.t0r.site/static/style4.1.css', 'ht...  \n",
       "3  ['https://fonts.googleapis.com/css2?family=Bev...  \n",
       "4  ['https://cdn.corporationwiki.com/public/css/b...  \n",
       "\n",
       "[5 rows x 35 columns]"
      ]
     },
     "execution_count": 3,
     "metadata": {},
     "output_type": "execute_result"
    }
   ],
   "source": [
    "df.head()"
   ]
  },
  {
   "cell_type": "code",
   "execution_count": 6,
   "id": "819ed708",
   "metadata": {},
   "outputs": [],
   "source": [
    "# 以下のカラムは目的に不要と判断して削除\n",
    "cols_to_drop = [\n",
    "    'original_url',        # url と内容重複\n",
    "    'pri_domain',          # root_domain などと重複性あり\n",
    "    'final_url',           # redirect後のurlで今回不要\n",
    "    'type',                # url_type に変換可能\n",
    "    'redirect_chain',      # 当面利用しない\n",
    "    'head_elements',       # 分解処理済み\n",
    "    'meta_refresh_url',    # has_meta_refresh で代替可能\n",
    "    'script_count'         # クローリング不完全なため除外\n",
    "]\n",
    "\n",
    "df = df.drop(columns=cols_to_drop)"
   ]
  },
  {
   "cell_type": "markdown",
   "id": "b66530c2",
   "metadata": {},
   "source": [
    "### title_text, meta_description, og_title, og_image, link_stylesheets 를 boolen로 변환"
   ]
  },
  {
   "cell_type": "code",
   "execution_count": 9,
   "id": "e73233b2",
   "metadata": {},
   "outputs": [],
   "source": [
    "# 存在すれば True（=1）、なければ False（=0）\n",
    "df['has_title'] = df['title_text'].apply(\n",
    "    lambda x: isinstance(x, str) and x.strip() != ''\n",
    ")\n",
    "df['has_meta_description'] = df['meta_description'].notna()\n",
    "df['has_og_image'] = df['og_image'].notna()\n",
    "df['has_og_title'] = df['og_title'].notna()\n",
    "df['has_link_stylesheet'] = df['link_stylesheets'].apply(\n",
    "    lambda x: isinstance(x, str) and x.strip() != '[]'\n",
    ")"
   ]
  },
  {
   "cell_type": "markdown",
   "id": "36620aa5",
   "metadata": {},
   "source": [
    "### 더 이상 필요하지 않은 원시 컬럼 삭제"
   ]
  },
  {
   "cell_type": "code",
   "execution_count": 11,
   "id": "bfbb2dd3",
   "metadata": {},
   "outputs": [],
   "source": [
    "df = df.drop(columns=['title_text', 'meta_description', 'og_title', 'og_image', 'link_stylesheets'])"
   ]
  },
  {
   "cell_type": "code",
   "execution_count": 16,
   "id": "88a95e6e",
   "metadata": {},
   "outputs": [],
   "source": [
    "df = df.drop(columns=['script_srcs'])"
   ]
  },
  {
   "cell_type": "code",
   "execution_count": 18,
   "id": "1a89db6e",
   "metadata": {},
   "outputs": [
    {
     "name": "stdout",
     "output_type": "stream",
     "text": [
      "have_ip\n",
      "0       195478\n",
      "0       174749\n",
      "True      1130\n",
      "Name: count, dtype: int64\n"
     ]
    }
   ],
   "source": [
    "print(df['have_ip'].value_counts())"
   ]
  },
  {
   "cell_type": "code",
   "execution_count": 19,
   "id": "e5be9833",
   "metadata": {},
   "outputs": [],
   "source": [
    "# すべて文字列に変換して \"true\" という文字列だけを True にする（他は False）\n",
    "df['have_ip'] = df['have_ip'].astype(str).str.lower().eq('true')"
   ]
  },
  {
   "cell_type": "code",
   "execution_count": 20,
   "id": "a3e1d768",
   "metadata": {},
   "outputs": [
    {
     "name": "stdout",
     "output_type": "stream",
     "text": [
      "<class 'pandas.core.frame.DataFrame'>\n",
      "RangeIndex: 371357 entries, 0 to 371356\n",
      "Data columns (total 24 columns):\n",
      " #   Column                Non-Null Count   Dtype  \n",
      "---  ------                --------------   -----  \n",
      " 0   url                   371357 non-null  object \n",
      " 1   url_type              371357 non-null  int64  \n",
      " 2   url_len               371357 non-null  int64  \n",
      " 3   letters_count         371357 non-null  int64  \n",
      " 4   digits_count          371357 non-null  int64  \n",
      " 5   special_chars_count   371357 non-null  int64  \n",
      " 6   shortened             371357 non-null  int64  \n",
      " 7   is_domain_in_url      371357 non-null  int64  \n",
      " 8   secure_http           371357 non-null  int64  \n",
      " 9   have_ip               371357 non-null  bool   \n",
      " 10  url_region            371357 non-null  object \n",
      " 11  root_domain           371227 non-null  object \n",
      " 12  redirect_count        371357 non-null  int64  \n",
      " 13  timeout               371357 non-null  bool   \n",
      " 14  has_meta_refresh      371357 non-null  bool   \n",
      " 15  duration_sec          371357 non-null  float64\n",
      " 16  meta_count            371357 non-null  float64\n",
      " 17  link_count            371357 non-null  float64\n",
      " 18  title_count           371357 non-null  float64\n",
      " 19  has_title             371357 non-null  bool   \n",
      " 20  has_meta_description  371357 non-null  bool   \n",
      " 21  has_og_image          371357 non-null  bool   \n",
      " 22  has_og_title          371357 non-null  bool   \n",
      " 23  has_link_stylesheet   371357 non-null  bool   \n",
      "dtypes: bool(8), float64(4), int64(9), object(3)\n",
      "memory usage: 48.2+ MB\n"
     ]
    }
   ],
   "source": [
    "df.info()"
   ]
  },
  {
   "cell_type": "code",
   "execution_count": 21,
   "id": "fca39a19",
   "metadata": {},
   "outputs": [],
   "source": [
    "df.to_csv(\"../data/url_metadata_cleaned.csv\", index=False)"
   ]
  }
 ],
 "metadata": {
  "kernelspec": {
   "display_name": "Python 3",
   "language": "python",
   "name": "python3"
  },
  "language_info": {
   "codemirror_mode": {
    "name": "ipython",
    "version": 3
   },
   "file_extension": ".py",
   "mimetype": "text/x-python",
   "name": "python",
   "nbconvert_exporter": "python",
   "pygments_lexer": "ipython3",
   "version": "3.10.2"
  }
 },
 "nbformat": 4,
 "nbformat_minor": 5
}
