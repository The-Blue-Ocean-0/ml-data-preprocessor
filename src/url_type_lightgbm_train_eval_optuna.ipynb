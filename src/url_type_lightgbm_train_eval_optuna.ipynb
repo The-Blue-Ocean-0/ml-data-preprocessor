{
 "cells": [
  {
   "cell_type": "markdown",
   "id": "2e564fa6",
   "metadata": {},
   "source": [
    "## 전처리한 데이터 가지고 오기"
   ]
  },
  {
   "cell_type": "code",
   "execution_count": 1,
   "id": "af611fce",
   "metadata": {},
   "outputs": [
    {
     "name": "stdout",
     "output_type": "stream",
     "text": [
      "Note: you may need to restart the kernel to use updated packages.\n"
     ]
    }
   ],
   "source": [
    "%pip install -q lightgbm scikit-learn optuna"
   ]
  },
  {
   "cell_type": "code",
   "execution_count": 6,
   "id": "8ca96dc6",
   "metadata": {},
   "outputs": [],
   "source": [
    "# ライブラリのインポート\n",
    "import pandas as pd\n",
    "import lightgbm as lgb\n",
    "import optuna\n",
    "\n",
    "from sklearn.model_selection import train_test_split\n",
    "from sklearn.metrics import classification_report, confusion_matrix\n",
    "from lightgbm import early_stopping, log_evaluation"
   ]
  },
  {
   "cell_type": "code",
   "execution_count": 7,
   "id": "f8483f5a",
   "metadata": {},
   "outputs": [],
   "source": [
    "# データ読み込み\n",
    "df = pd.read_csv('../data/combined_batches_cleaned_26k_3.csv')"
   ]
  },
  {
   "cell_type": "code",
   "execution_count": 8,
   "id": "13a959ac",
   "metadata": {},
   "outputs": [
    {
     "name": "stdout",
     "output_type": "stream",
     "text": [
      "<class 'pandas.core.frame.DataFrame'>\n",
      "RangeIndex: 78000 entries, 0 to 77999\n",
      "Data columns (total 26 columns):\n",
      " #   Column                Non-Null Count  Dtype  \n",
      "---  ------                --------------  -----  \n",
      " 0   url                   78000 non-null  object \n",
      " 1   url_type              78000 non-null  int64  \n",
      " 2   url_len               78000 non-null  int64  \n",
      " 3   letters_count         78000 non-null  int64  \n",
      " 4   digits_count          78000 non-null  int64  \n",
      " 5   special_chars_count   78000 non-null  int64  \n",
      " 6   shortened             78000 non-null  int64  \n",
      " 7   is_domain_in_url      78000 non-null  int64  \n",
      " 8   secure_http           78000 non-null  int64  \n",
      " 9   redirect_count        78000 non-null  int64  \n",
      " 10  duration_sec          78000 non-null  float64\n",
      " 11  meta_count            78000 non-null  float64\n",
      " 12  link_count            78000 non-null  float64\n",
      " 13  title_count           78000 non-null  float64\n",
      " 14  has_title             78000 non-null  bool   \n",
      " 15  has_meta_description  78000 non-null  bool   \n",
      " 16  has_og_image          78000 non-null  bool   \n",
      " 17  has_og_title          78000 non-null  bool   \n",
      " 18  has_link_stylesheet   78000 non-null  bool   \n",
      " 19  performance_score     78000 non-null  float64\n",
      " 20  FCP                   78000 non-null  float64\n",
      " 21  LCP                   78000 non-null  float64\n",
      " 22  CLS                   78000 non-null  float64\n",
      " 23  TTFB                  78000 non-null  float64\n",
      " 24  SpeedIndex            78000 non-null  float64\n",
      " 25  TBT                   78000 non-null  float64\n",
      "dtypes: bool(5), float64(11), int64(9), object(1)\n",
      "memory usage: 12.9+ MB\n"
     ]
    },
    {
     "data": {
      "text/html": [
       "<div>\n",
       "<style scoped>\n",
       "    .dataframe tbody tr th:only-of-type {\n",
       "        vertical-align: middle;\n",
       "    }\n",
       "\n",
       "    .dataframe tbody tr th {\n",
       "        vertical-align: top;\n",
       "    }\n",
       "\n",
       "    .dataframe thead th {\n",
       "        text-align: right;\n",
       "    }\n",
       "</style>\n",
       "<table border=\"1\" class=\"dataframe\">\n",
       "  <thead>\n",
       "    <tr style=\"text-align: right;\">\n",
       "      <th></th>\n",
       "      <th>url</th>\n",
       "      <th>url_type</th>\n",
       "      <th>url_len</th>\n",
       "      <th>letters_count</th>\n",
       "      <th>digits_count</th>\n",
       "      <th>special_chars_count</th>\n",
       "      <th>shortened</th>\n",
       "      <th>is_domain_in_url</th>\n",
       "      <th>secure_http</th>\n",
       "      <th>redirect_count</th>\n",
       "      <th>...</th>\n",
       "      <th>has_og_image</th>\n",
       "      <th>has_og_title</th>\n",
       "      <th>has_link_stylesheet</th>\n",
       "      <th>performance_score</th>\n",
       "      <th>FCP</th>\n",
       "      <th>LCP</th>\n",
       "      <th>CLS</th>\n",
       "      <th>TTFB</th>\n",
       "      <th>SpeedIndex</th>\n",
       "      <th>TBT</th>\n",
       "    </tr>\n",
       "  </thead>\n",
       "  <tbody>\n",
       "    <tr>\n",
       "      <th>0</th>\n",
       "      <td>123people.com/c/george+beers</td>\n",
       "      <td>0</td>\n",
       "      <td>28</td>\n",
       "      <td>21</td>\n",
       "      <td>3</td>\n",
       "      <td>4</td>\n",
       "      <td>0</td>\n",
       "      <td>0</td>\n",
       "      <td>0</td>\n",
       "      <td>1</td>\n",
       "      <td>...</td>\n",
       "      <td>False</td>\n",
       "      <td>True</td>\n",
       "      <td>True</td>\n",
       "      <td>0.98</td>\n",
       "      <td>522.000000</td>\n",
       "      <td>642.000000</td>\n",
       "      <td>0.033901</td>\n",
       "      <td>944.0</td>\n",
       "      <td>1374.654466</td>\n",
       "      <td>0.0</td>\n",
       "    </tr>\n",
       "    <tr>\n",
       "      <th>1</th>\n",
       "      <td>biographi.ca/009004-119.01-e.php?&amp;id_nbr=8097</td>\n",
       "      <td>0</td>\n",
       "      <td>45</td>\n",
       "      <td>20</td>\n",
       "      <td>15</td>\n",
       "      <td>10</td>\n",
       "      <td>0</td>\n",
       "      <td>0</td>\n",
       "      <td>0</td>\n",
       "      <td>4</td>\n",
       "      <td>...</td>\n",
       "      <td>True</td>\n",
       "      <td>True</td>\n",
       "      <td>True</td>\n",
       "      <td>0.94</td>\n",
       "      <td>822.038853</td>\n",
       "      <td>1046.341351</td>\n",
       "      <td>0.034177</td>\n",
       "      <td>199.0</td>\n",
       "      <td>1866.525789</td>\n",
       "      <td>25.5</td>\n",
       "    </tr>\n",
       "    <tr>\n",
       "      <th>2</th>\n",
       "      <td>http://xhamster.com/movies/1515821/bisexual_cu...</td>\n",
       "      <td>0</td>\n",
       "      <td>94</td>\n",
       "      <td>77</td>\n",
       "      <td>7</td>\n",
       "      <td>17</td>\n",
       "      <td>0</td>\n",
       "      <td>1</td>\n",
       "      <td>0</td>\n",
       "      <td>2</td>\n",
       "      <td>...</td>\n",
       "      <td>True</td>\n",
       "      <td>True</td>\n",
       "      <td>True</td>\n",
       "      <td>0.50</td>\n",
       "      <td>1512.414532</td>\n",
       "      <td>5089.235989</td>\n",
       "      <td>0.012295</td>\n",
       "      <td>700.0</td>\n",
       "      <td>2208.209373</td>\n",
       "      <td>399.0</td>\n",
       "    </tr>\n",
       "    <tr>\n",
       "      <th>3</th>\n",
       "      <td>nannu.info/music/artists/shreya-ghoshal/</td>\n",
       "      <td>0</td>\n",
       "      <td>40</td>\n",
       "      <td>34</td>\n",
       "      <td>0</td>\n",
       "      <td>6</td>\n",
       "      <td>0</td>\n",
       "      <td>0</td>\n",
       "      <td>0</td>\n",
       "      <td>1</td>\n",
       "      <td>...</td>\n",
       "      <td>False</td>\n",
       "      <td>False</td>\n",
       "      <td>False</td>\n",
       "      <td>0.78</td>\n",
       "      <td>906.283111</td>\n",
       "      <td>1703.476934</td>\n",
       "      <td>0.071229</td>\n",
       "      <td>116.0</td>\n",
       "      <td>2767.985784</td>\n",
       "      <td>214.0</td>\n",
       "    </tr>\n",
       "    <tr>\n",
       "      <th>4</th>\n",
       "      <td>en.wikipedia.org/wiki/Walloons</td>\n",
       "      <td>0</td>\n",
       "      <td>30</td>\n",
       "      <td>26</td>\n",
       "      <td>0</td>\n",
       "      <td>4</td>\n",
       "      <td>0</td>\n",
       "      <td>0</td>\n",
       "      <td>0</td>\n",
       "      <td>1</td>\n",
       "      <td>...</td>\n",
       "      <td>True</td>\n",
       "      <td>True</td>\n",
       "      <td>True</td>\n",
       "      <td>0.96</td>\n",
       "      <td>504.000000</td>\n",
       "      <td>1032.000000</td>\n",
       "      <td>0.000892</td>\n",
       "      <td>355.0</td>\n",
       "      <td>1758.528203</td>\n",
       "      <td>11.5</td>\n",
       "    </tr>\n",
       "  </tbody>\n",
       "</table>\n",
       "<p>5 rows × 26 columns</p>\n",
       "</div>"
      ],
      "text/plain": [
       "                                                 url  url_type  url_len  \\\n",
       "0                       123people.com/c/george+beers         0       28   \n",
       "1      biographi.ca/009004-119.01-e.php?&id_nbr=8097         0       45   \n",
       "2  http://xhamster.com/movies/1515821/bisexual_cu...         0       94   \n",
       "3           nannu.info/music/artists/shreya-ghoshal/         0       40   \n",
       "4                     en.wikipedia.org/wiki/Walloons         0       30   \n",
       "\n",
       "   letters_count  digits_count  special_chars_count  shortened  \\\n",
       "0             21             3                    4          0   \n",
       "1             20            15                   10          0   \n",
       "2             77             7                   17          0   \n",
       "3             34             0                    6          0   \n",
       "4             26             0                    4          0   \n",
       "\n",
       "   is_domain_in_url  secure_http  redirect_count  ...  has_og_image  \\\n",
       "0                 0            0               1  ...         False   \n",
       "1                 0            0               4  ...          True   \n",
       "2                 1            0               2  ...          True   \n",
       "3                 0            0               1  ...         False   \n",
       "4                 0            0               1  ...          True   \n",
       "\n",
       "   has_og_title  has_link_stylesheet  performance_score          FCP  \\\n",
       "0          True                 True               0.98   522.000000   \n",
       "1          True                 True               0.94   822.038853   \n",
       "2          True                 True               0.50  1512.414532   \n",
       "3         False                False               0.78   906.283111   \n",
       "4          True                 True               0.96   504.000000   \n",
       "\n",
       "           LCP       CLS   TTFB   SpeedIndex    TBT  \n",
       "0   642.000000  0.033901  944.0  1374.654466    0.0  \n",
       "1  1046.341351  0.034177  199.0  1866.525789   25.5  \n",
       "2  5089.235989  0.012295  700.0  2208.209373  399.0  \n",
       "3  1703.476934  0.071229  116.0  2767.985784  214.0  \n",
       "4  1032.000000  0.000892  355.0  1758.528203   11.5  \n",
       "\n",
       "[5 rows x 26 columns]"
      ]
     },
     "execution_count": 8,
     "metadata": {},
     "output_type": "execute_result"
    }
   ],
   "source": [
    "df.info()\n",
    "df.head()"
   ]
  },
  {
   "cell_type": "markdown",
   "id": "f7bb9d3d",
   "metadata": {},
   "source": [
    "特徴量とラベルに分割"
   ]
  },
  {
   "cell_type": "code",
   "execution_count": 9,
   "id": "a3cc8b1f",
   "metadata": {},
   "outputs": [],
   "source": [
    "# 特徴量とラベルの分離\n",
    "y = df['url_type']  # ← 例：0=benign, 1=phishing, 2=malwareなど\n",
    "X = df.drop(columns=['url_type', 'url_len', 'letters_count'])\n",
    "X = X.select_dtypes(include=['int64', 'float64', 'bool'])"
   ]
  },
  {
   "cell_type": "markdown",
   "id": "92fac6f0",
   "metadata": {},
   "source": [
    "学習・検証データに分割"
   ]
  },
  {
   "cell_type": "code",
   "execution_count": 10,
   "id": "d8a81f2f",
   "metadata": {},
   "outputs": [],
   "source": [
    "X_train, X_test, y_train, y_test = train_test_split(\n",
    "    X, y, test_size=0.2, random_state=42, stratify=y\n",
    ")"
   ]
  },
  {
   "cell_type": "markdown",
   "id": "d6bde9e3",
   "metadata": {},
   "source": [
    "LightGBMデータ形式に変換"
   ]
  },
  {
   "cell_type": "code",
   "execution_count": 11,
   "id": "07aefa3e",
   "metadata": {},
   "outputs": [],
   "source": [
    "train_data = lgb.Dataset(X_train, label=y_train)\n",
    "test_data = lgb.Dataset(X_test, label=y_test)"
   ]
  },
  {
   "cell_type": "markdown",
   "id": "6c851e79",
   "metadata": {},
   "source": [
    "### Optunaによるハイパーパラメータチューニング"
   ]
  },
  {
   "cell_type": "code",
   "execution_count": 16,
   "id": "c429798e",
   "metadata": {},
   "outputs": [
    {
     "name": "stderr",
     "output_type": "stream",
     "text": [
      "[I 2025-06-09 10:48:18,786] A new study created in memory with name: no-name-2f6a56ec-120b-43e3-b565-692fed9d1b86\n"
     ]
    },
    {
     "name": "stdout",
     "output_type": "stream",
     "text": [
      "Training until validation scores don't improve for 10 rounds\n"
     ]
    },
    {
     "name": "stderr",
     "output_type": "stream",
     "text": [
      "[I 2025-06-09 10:48:19,519] Trial 0 finished with value: 0.8618589743589744 and parameters: {'learning_rate': 0.22989130861241608, 'num_leaves': 100, 'max_depth': 5, 'min_data_in_leaf': 58, 'feature_fraction': 0.6829292152702559, 'bagging_fraction': 0.6179793090321158, 'bagging_freq': 5}. Best is trial 0 with value: 0.8618589743589744.\n"
     ]
    },
    {
     "name": "stdout",
     "output_type": "stream",
     "text": [
      "Did not meet early stopping. Best iteration is:\n",
      "[100]\tvalid_0's multi_logloss: 0.326843\n",
      "Training until validation scores don't improve for 10 rounds\n"
     ]
    },
    {
     "name": "stderr",
     "output_type": "stream",
     "text": [
      "[I 2025-06-09 10:48:21,059] Trial 1 finished with value: 0.8628846153846154 and parameters: {'learning_rate': 0.039870921134595755, 'num_leaves': 83, 'max_depth': 12, 'min_data_in_leaf': 36, 'feature_fraction': 0.9850801820783551, 'bagging_fraction': 0.6600883632363351, 'bagging_freq': 4}. Best is trial 1 with value: 0.8628846153846154.\n"
     ]
    },
    {
     "name": "stdout",
     "output_type": "stream",
     "text": [
      "Did not meet early stopping. Best iteration is:\n",
      "[100]\tvalid_0's multi_logloss: 0.333004\n",
      "Training until validation scores don't improve for 10 rounds\n"
     ]
    },
    {
     "name": "stderr",
     "output_type": "stream",
     "text": [
      "[I 2025-06-09 10:48:22,252] Trial 2 finished with value: 0.8694871794871795 and parameters: {'learning_rate': 0.11711213341787839, 'num_leaves': 57, 'max_depth': 9, 'min_data_in_leaf': 100, 'feature_fraction': 0.8512238020264447, 'bagging_fraction': 0.7429294966510767, 'bagging_freq': 2}. Best is trial 2 with value: 0.8694871794871795.\n"
     ]
    },
    {
     "name": "stdout",
     "output_type": "stream",
     "text": [
      "Did not meet early stopping. Best iteration is:\n",
      "[100]\tvalid_0's multi_logloss: 0.303032\n",
      "Training until validation scores don't improve for 10 rounds\n"
     ]
    },
    {
     "name": "stderr",
     "output_type": "stream",
     "text": [
      "[I 2025-06-09 10:48:23,809] Trial 3 finished with value: 0.8812820512820513 and parameters: {'learning_rate': 0.2530907321184227, 'num_leaves': 114, 'max_depth': 13, 'min_data_in_leaf': 61, 'feature_fraction': 0.762952022068451, 'bagging_fraction': 0.7449443994787757, 'bagging_freq': 5}. Best is trial 3 with value: 0.8812820512820513.\n"
     ]
    },
    {
     "name": "stdout",
     "output_type": "stream",
     "text": [
      "Early stopping, best iteration is:\n",
      "[76]\tvalid_0's multi_logloss: 0.27657\n",
      "Training until validation scores don't improve for 10 rounds\n"
     ]
    },
    {
     "name": "stderr",
     "output_type": "stream",
     "text": [
      "[I 2025-06-09 10:48:25,150] Trial 4 finished with value: 0.8582692307692308 and parameters: {'learning_rate': 0.07095340022989267, 'num_leaves': 50, 'max_depth': 7, 'min_data_in_leaf': 16, 'feature_fraction': 0.7213717496760103, 'bagging_fraction': 0.9497385118957928, 'bagging_freq': 3}. Best is trial 3 with value: 0.8812820512820513.\n"
     ]
    },
    {
     "name": "stdout",
     "output_type": "stream",
     "text": [
      "Did not meet early stopping. Best iteration is:\n",
      "[100]\tvalid_0's multi_logloss: 0.33612\n",
      "Training until validation scores don't improve for 10 rounds\n"
     ]
    },
    {
     "name": "stderr",
     "output_type": "stream",
     "text": [
      "[I 2025-06-09 10:48:27,036] Trial 5 finished with value: 0.8817948717948718 and parameters: {'learning_rate': 0.1411873704449431, 'num_leaves': 119, 'max_depth': 10, 'min_data_in_leaf': 27, 'feature_fraction': 0.9417815845430605, 'bagging_fraction': 0.8457179582315819, 'bagging_freq': 6}. Best is trial 5 with value: 0.8817948717948718.\n"
     ]
    },
    {
     "name": "stdout",
     "output_type": "stream",
     "text": [
      "Did not meet early stopping. Best iteration is:\n",
      "[100]\tvalid_0's multi_logloss: 0.275652\n",
      "Training until validation scores don't improve for 10 rounds\n"
     ]
    },
    {
     "name": "stderr",
     "output_type": "stream",
     "text": [
      "[I 2025-06-09 10:48:27,834] Trial 6 finished with value: 0.8291666666666667 and parameters: {'learning_rate': 0.1766275481635632, 'num_leaves': 113, 'max_depth': 3, 'min_data_in_leaf': 65, 'feature_fraction': 0.931193207025335, 'bagging_fraction': 0.8590679570176794, 'bagging_freq': 2}. Best is trial 5 with value: 0.8817948717948718.\n"
     ]
    },
    {
     "name": "stdout",
     "output_type": "stream",
     "text": [
      "Did not meet early stopping. Best iteration is:\n",
      "[100]\tvalid_0's multi_logloss: 0.395297\n",
      "Training until validation scores don't improve for 10 rounds\n"
     ]
    },
    {
     "name": "stderr",
     "output_type": "stream",
     "text": [
      "[I 2025-06-09 10:48:28,881] Trial 7 finished with value: 0.8466025641025641 and parameters: {'learning_rate': 0.08970150045532711, 'num_leaves': 107, 'max_depth': 5, 'min_data_in_leaf': 24, 'feature_fraction': 0.806340099233382, 'bagging_fraction': 0.7004203107062938, 'bagging_freq': 5}. Best is trial 5 with value: 0.8817948717948718.\n"
     ]
    },
    {
     "name": "stdout",
     "output_type": "stream",
     "text": [
      "Did not meet early stopping. Best iteration is:\n",
      "[100]\tvalid_0's multi_logloss: 0.365111\n",
      "Training until validation scores don't improve for 10 rounds\n"
     ]
    },
    {
     "name": "stderr",
     "output_type": "stream",
     "text": [
      "[I 2025-06-09 10:48:30,748] Trial 8 finished with value: 0.8844871794871795 and parameters: {'learning_rate': 0.16375616669233814, 'num_leaves': 128, 'max_depth': 12, 'min_data_in_leaf': 22, 'feature_fraction': 0.8163855017213247, 'bagging_fraction': 0.892491857852717, 'bagging_freq': 7}. Best is trial 8 with value: 0.8844871794871795.\n"
     ]
    },
    {
     "name": "stdout",
     "output_type": "stream",
     "text": [
      "Did not meet early stopping. Best iteration is:\n",
      "[100]\tvalid_0's multi_logloss: 0.269208\n",
      "Training until validation scores don't improve for 10 rounds\n"
     ]
    },
    {
     "name": "stderr",
     "output_type": "stream",
     "text": [
      "[I 2025-06-09 10:48:31,514] Trial 9 finished with value: 0.7892307692307692 and parameters: {'learning_rate': 0.03620082596357113, 'num_leaves': 58, 'max_depth': 3, 'min_data_in_leaf': 39, 'feature_fraction': 0.6384439672031975, 'bagging_fraction': 0.962700202548263, 'bagging_freq': 1}. Best is trial 8 with value: 0.8844871794871795.\n"
     ]
    },
    {
     "name": "stdout",
     "output_type": "stream",
     "text": [
      "Did not meet early stopping. Best iteration is:\n",
      "[100]\tvalid_0's multi_logloss: 0.502817\n",
      "Training until validation scores don't improve for 10 rounds\n"
     ]
    },
    {
     "name": "stderr",
     "output_type": "stream",
     "text": [
      "[I 2025-06-09 10:48:33,045] Trial 10 finished with value: 0.8840384615384616 and parameters: {'learning_rate': 0.2926279024389892, 'num_leaves': 150, 'max_depth': 15, 'min_data_in_leaf': 10, 'feature_fraction': 0.8590098164924254, 'bagging_fraction': 0.8778391955721198, 'bagging_freq': 7}. Best is trial 8 with value: 0.8844871794871795.\n"
     ]
    },
    {
     "name": "stdout",
     "output_type": "stream",
     "text": [
      "Early stopping, best iteration is:\n",
      "[58]\tvalid_0's multi_logloss: 0.275136\n",
      "Training until validation scores don't improve for 10 rounds\n"
     ]
    },
    {
     "name": "stderr",
     "output_type": "stream",
     "text": [
      "[I 2025-06-09 10:48:35,372] Trial 11 finished with value: 0.8857692307692308 and parameters: {'learning_rate': 0.1901196435761378, 'num_leaves': 146, 'max_depth': 15, 'min_data_in_leaf': 12, 'feature_fraction': 0.8615237181545737, 'bagging_fraction': 0.8922445474591404, 'bagging_freq': 7}. Best is trial 11 with value: 0.8857692307692308.\n"
     ]
    },
    {
     "name": "stdout",
     "output_type": "stream",
     "text": [
      "Did not meet early stopping. Best iteration is:\n",
      "[100]\tvalid_0's multi_logloss: 0.271312\n",
      "Training until validation scores don't improve for 10 rounds\n"
     ]
    },
    {
     "name": "stderr",
     "output_type": "stream",
     "text": [
      "[I 2025-06-09 10:48:37,574] Trial 12 finished with value: 0.8872435897435897 and parameters: {'learning_rate': 0.18955968333161172, 'num_leaves': 150, 'max_depth': 15, 'min_data_in_leaf': 41, 'feature_fraction': 0.8636132740137323, 'bagging_fraction': 0.9140963895264709, 'bagging_freq': 7}. Best is trial 12 with value: 0.8872435897435897.\n"
     ]
    },
    {
     "name": "stdout",
     "output_type": "stream",
     "text": [
      "Did not meet early stopping. Best iteration is:\n",
      "[100]\tvalid_0's multi_logloss: 0.266764\n",
      "Training until validation scores don't improve for 10 rounds\n"
     ]
    },
    {
     "name": "stderr",
     "output_type": "stream",
     "text": [
      "[I 2025-06-09 10:48:39,567] Trial 13 finished with value: 0.8842307692307693 and parameters: {'learning_rate': 0.2143927553150687, 'num_leaves': 150, 'max_depth': 15, 'min_data_in_leaf': 76, 'feature_fraction': 0.9019449184316132, 'bagging_fraction': 0.8035363343846764, 'bagging_freq': 7}. Best is trial 12 with value: 0.8872435897435897.\n"
     ]
    },
    {
     "name": "stdout",
     "output_type": "stream",
     "text": [
      "Early stopping, best iteration is:\n",
      "[80]\tvalid_0's multi_logloss: 0.273181\n",
      "Training until validation scores don't improve for 10 rounds\n"
     ]
    },
    {
     "name": "stderr",
     "output_type": "stream",
     "text": [
      "[I 2025-06-09 10:48:40,638] Trial 14 finished with value: 0.8645512820512821 and parameters: {'learning_rate': 0.18721117810025747, 'num_leaves': 22, 'max_depth': 14, 'min_data_in_leaf': 45, 'feature_fraction': 0.8853268653797988, 'bagging_fraction': 0.9909601974800213, 'bagging_freq': 6}. Best is trial 12 with value: 0.8872435897435897.\n"
     ]
    },
    {
     "name": "stdout",
     "output_type": "stream",
     "text": [
      "Did not meet early stopping. Best iteration is:\n",
      "[100]\tvalid_0's multi_logloss: 0.314985\n",
      "Training until validation scores don't improve for 10 rounds\n"
     ]
    },
    {
     "name": "stderr",
     "output_type": "stream",
     "text": [
      "[I 2025-06-09 10:48:42,712] Trial 15 finished with value: 0.8833974358974359 and parameters: {'learning_rate': 0.25836778312734404, 'num_leaves': 136, 'max_depth': 10, 'min_data_in_leaf': 79, 'feature_fraction': 0.7547394781512375, 'bagging_fraction': 0.9247175359714702, 'bagging_freq': 6}. Best is trial 12 with value: 0.8872435897435897.\n"
     ]
    },
    {
     "name": "stdout",
     "output_type": "stream",
     "text": [
      "Did not meet early stopping. Best iteration is:\n",
      "[100]\tvalid_0's multi_logloss: 0.273221\n",
      "Training until validation scores don't improve for 10 rounds\n"
     ]
    },
    {
     "name": "stderr",
     "output_type": "stream",
     "text": [
      "[I 2025-06-09 10:48:44,508] Trial 16 finished with value: 0.8859615384615385 and parameters: {'learning_rate': 0.20138752673055674, 'num_leaves': 87, 'max_depth': 13, 'min_data_in_leaf': 47, 'feature_fraction': 0.9957630306379167, 'bagging_fraction': 0.820380433554179, 'bagging_freq': 7}. Best is trial 12 with value: 0.8872435897435897.\n"
     ]
    },
    {
     "name": "stdout",
     "output_type": "stream",
     "text": [
      "Did not meet early stopping. Best iteration is:\n",
      "[100]\tvalid_0's multi_logloss: 0.270345\n",
      "Training until validation scores don't improve for 10 rounds\n"
     ]
    },
    {
     "name": "stderr",
     "output_type": "stream",
     "text": [
      "[I 2025-06-09 10:48:46,285] Trial 17 finished with value: 0.879423076923077 and parameters: {'learning_rate': 0.13780846781099843, 'num_leaves': 88, 'max_depth': 12, 'min_data_in_leaf': 47, 'feature_fraction': 0.992539466639061, 'bagging_fraction': 0.8052917681662137, 'bagging_freq': 4}. Best is trial 12 with value: 0.8872435897435897.\n"
     ]
    },
    {
     "name": "stdout",
     "output_type": "stream",
     "text": [
      "Did not meet early stopping. Best iteration is:\n",
      "[100]\tvalid_0's multi_logloss: 0.279386\n",
      "Training until validation scores don't improve for 10 rounds\n"
     ]
    },
    {
     "name": "stderr",
     "output_type": "stream",
     "text": [
      "[I 2025-06-09 10:48:48,044] Trial 18 finished with value: 0.8828846153846154 and parameters: {'learning_rate': 0.2129710261230591, 'num_leaves': 76, 'max_depth': 13, 'min_data_in_leaf': 51, 'feature_fraction': 0.9557095075863911, 'bagging_fraction': 0.76003252590698, 'bagging_freq': 6}. Best is trial 12 with value: 0.8872435897435897.\n"
     ]
    },
    {
     "name": "stdout",
     "output_type": "stream",
     "text": [
      "Did not meet early stopping. Best iteration is:\n",
      "[100]\tvalid_0's multi_logloss: 0.276129\n",
      "Training until validation scores don't improve for 10 rounds\n"
     ]
    },
    {
     "name": "stderr",
     "output_type": "stream",
     "text": [
      "[I 2025-06-09 10:48:48,907] Trial 19 finished with value: 0.8693589743589744 and parameters: {'learning_rate': 0.2848242760757844, 'num_leaves': 21, 'max_depth': 11, 'min_data_in_leaf': 36, 'feature_fraction': 0.9132610483432138, 'bagging_fraction': 0.8351613754197781, 'bagging_freq': 5}. Best is trial 12 with value: 0.8872435897435897.\n"
     ]
    },
    {
     "name": "stdout",
     "output_type": "stream",
     "text": [
      "Did not meet early stopping. Best iteration is:\n",
      "[100]\tvalid_0's multi_logloss: 0.30299\n",
      "Training until validation scores don't improve for 10 rounds\n"
     ]
    },
    {
     "name": "stderr",
     "output_type": "stream",
     "text": [
      "[I 2025-06-09 10:48:50,429] Trial 20 finished with value: 0.8778846153846154 and parameters: {'learning_rate': 0.24504845657242144, 'num_leaves': 43, 'max_depth': 14, 'min_data_in_leaf': 74, 'feature_fraction': 0.6156037528400972, 'bagging_fraction': 0.928255532718956, 'bagging_freq': 7}. Best is trial 12 with value: 0.8872435897435897.\n"
     ]
    },
    {
     "name": "stdout",
     "output_type": "stream",
     "text": [
      "Did not meet early stopping. Best iteration is:\n",
      "[100]\tvalid_0's multi_logloss: 0.282827\n",
      "Training until validation scores don't improve for 10 rounds\n"
     ]
    },
    {
     "name": "stderr",
     "output_type": "stream",
     "text": [
      "[I 2025-06-09 10:48:52,797] Trial 21 finished with value: 0.8838461538461538 and parameters: {'learning_rate': 0.2003333262714386, 'num_leaves': 140, 'max_depth': 15, 'min_data_in_leaf': 34, 'feature_fraction': 0.8484049234022841, 'bagging_fraction': 0.8984245646184864, 'bagging_freq': 7}. Best is trial 12 with value: 0.8872435897435897.\n"
     ]
    },
    {
     "name": "stdout",
     "output_type": "stream",
     "text": [
      "Did not meet early stopping. Best iteration is:\n",
      "[93]\tvalid_0's multi_logloss: 0.269881\n",
      "Training until validation scores don't improve for 10 rounds\n"
     ]
    },
    {
     "name": "stderr",
     "output_type": "stream",
     "text": [
      "[I 2025-06-09 10:48:54,761] Trial 22 finished with value: 0.8832692307692308 and parameters: {'learning_rate': 0.1731625210907344, 'num_leaves': 128, 'max_depth': 14, 'min_data_in_leaf': 29, 'feature_fraction': 0.8821480446044184, 'bagging_fraction': 0.8278040052770227, 'bagging_freq': 6}. Best is trial 12 with value: 0.8872435897435897.\n"
     ]
    },
    {
     "name": "stdout",
     "output_type": "stream",
     "text": [
      "Did not meet early stopping. Best iteration is:\n",
      "[98]\tvalid_0's multi_logloss: 0.270834\n",
      "Training until validation scores don't improve for 10 rounds\n"
     ]
    },
    {
     "name": "stderr",
     "output_type": "stream",
     "text": [
      "[I 2025-06-09 10:48:56,779] Trial 23 finished with value: 0.8818589743589743 and parameters: {'learning_rate': 0.11047114221341246, 'num_leaves': 97, 'max_depth': 13, 'min_data_in_leaf': 14, 'feature_fraction': 0.764265134192015, 'bagging_fraction': 0.9059998066453682, 'bagging_freq': 7}. Best is trial 12 with value: 0.8872435897435897.\n"
     ]
    },
    {
     "name": "stdout",
     "output_type": "stream",
     "text": [
      "Did not meet early stopping. Best iteration is:\n",
      "[100]\tvalid_0's multi_logloss: 0.278374\n",
      "Training until validation scores don't improve for 10 rounds\n"
     ]
    },
    {
     "name": "stderr",
     "output_type": "stream",
     "text": [
      "[I 2025-06-09 10:48:59,522] Trial 24 finished with value: 0.8869871794871795 and parameters: {'learning_rate': 0.20065297674656352, 'num_leaves': 139, 'max_depth': 15, 'min_data_in_leaf': 68, 'feature_fraction': 0.9582243967279218, 'bagging_fraction': 0.9960747106711242, 'bagging_freq': 6}. Best is trial 12 with value: 0.8872435897435897.\n"
     ]
    },
    {
     "name": "stdout",
     "output_type": "stream",
     "text": [
      "Did not meet early stopping. Best iteration is:\n",
      "[100]\tvalid_0's multi_logloss: 0.267872\n",
      "Training until validation scores don't improve for 10 rounds\n"
     ]
    },
    {
     "name": "stderr",
     "output_type": "stream",
     "text": [
      "[I 2025-06-09 10:49:01,495] Trial 25 finished with value: 0.8773717948717948 and parameters: {'learning_rate': 0.1517733657847602, 'num_leaves': 129, 'max_depth': 8, 'min_data_in_leaf': 68, 'feature_fraction': 0.9603416989474204, 'bagging_fraction': 0.9996143687825653, 'bagging_freq': 6}. Best is trial 12 with value: 0.8872435897435897.\n"
     ]
    },
    {
     "name": "stdout",
     "output_type": "stream",
     "text": [
      "Did not meet early stopping. Best iteration is:\n",
      "[100]\tvalid_0's multi_logloss: 0.289313\n",
      "Training until validation scores don't improve for 10 rounds\n"
     ]
    },
    {
     "name": "stderr",
     "output_type": "stream",
     "text": [
      "[I 2025-06-09 10:49:03,436] Trial 26 finished with value: 0.8859615384615385 and parameters: {'learning_rate': 0.2221224383715284, 'num_leaves': 76, 'max_depth': 14, 'min_data_in_leaf': 91, 'feature_fraction': 0.9817633540168175, 'bagging_fraction': 0.9551154308955588, 'bagging_freq': 6}. Best is trial 12 with value: 0.8872435897435897.\n"
     ]
    },
    {
     "name": "stdout",
     "output_type": "stream",
     "text": [
      "Did not meet early stopping. Best iteration is:\n",
      "[100]\tvalid_0's multi_logloss: 0.271642\n",
      "Training until validation scores don't improve for 10 rounds\n"
     ]
    },
    {
     "name": "stderr",
     "output_type": "stream",
     "text": [
      "[I 2025-06-09 10:49:05,722] Trial 27 finished with value: 0.8856410256410256 and parameters: {'learning_rate': 0.2696394325278771, 'num_leaves': 136, 'max_depth': 11, 'min_data_in_leaf': 45, 'feature_fraction': 0.9190910627068921, 'bagging_fraction': 0.9750294115027098, 'bagging_freq': 5}. Best is trial 12 with value: 0.8872435897435897.\n"
     ]
    },
    {
     "name": "stdout",
     "output_type": "stream",
     "text": [
      "Early stopping, best iteration is:\n",
      "[82]\tvalid_0's multi_logloss: 0.271935\n",
      "Training until validation scores don't improve for 10 rounds\n"
     ]
    },
    {
     "name": "stderr",
     "output_type": "stream",
     "text": [
      "[I 2025-06-09 10:49:08,123] Trial 28 finished with value: 0.8858974358974359 and parameters: {'learning_rate': 0.24077969041135183, 'num_leaves': 120, 'max_depth': 13, 'min_data_in_leaf': 53, 'feature_fraction': 0.9969319136035084, 'bagging_fraction': 0.9380358289610327, 'bagging_freq': 7}. Best is trial 12 with value: 0.8872435897435897.\n"
     ]
    },
    {
     "name": "stdout",
     "output_type": "stream",
     "text": [
      "Did not meet early stopping. Best iteration is:\n",
      "[94]\tvalid_0's multi_logloss: 0.273003\n",
      "Training until validation scores don't improve for 10 rounds\n"
     ]
    },
    {
     "name": "stderr",
     "output_type": "stream",
     "text": [
      "[I 2025-06-09 10:49:10,323] Trial 29 finished with value: 0.8830769230769231 and parameters: {'learning_rate': 0.22877965773927877, 'num_leaves': 98, 'max_depth': 15, 'min_data_in_leaf': 84, 'feature_fraction': 0.9600873804186998, 'bagging_fraction': 0.7883173490928753, 'bagging_freq': 3}. Best is trial 12 with value: 0.8872435897435897.\n"
     ]
    },
    {
     "name": "stdout",
     "output_type": "stream",
     "text": [
      "Did not meet early stopping. Best iteration is:\n",
      "[93]\tvalid_0's multi_logloss: 0.273459\n",
      "🔧 Best parameters found by Optuna:\n",
      "{'learning_rate': 0.18955968333161172, 'num_leaves': 150, 'max_depth': 15, 'min_data_in_leaf': 41, 'feature_fraction': 0.8636132740137323, 'bagging_fraction': 0.9140963895264709, 'bagging_freq': 7}\n"
     ]
    }
   ],
   "source": [
    "def objective(trial):\n",
    "    param = {\n",
    "        'objective': 'multiclass',\n",
    "        'num_class': y.nunique(),\n",
    "        'metric': 'multi_logloss',\n",
    "        'learning_rate': trial.suggest_float('learning_rate', 0.01, 0.3),\n",
    "        'num_leaves': trial.suggest_int('num_leaves', 20, 150),\n",
    "        'max_depth': trial.suggest_int('max_depth', 3, 15),\n",
    "        'min_data_in_leaf': trial.suggest_int('min_data_in_leaf', 10, 100),\n",
    "        'feature_fraction': trial.suggest_float('feature_fraction', 0.6, 1.0),\n",
    "        'bagging_fraction': trial.suggest_float('bagging_fraction', 0.6, 1.0),\n",
    "        'bagging_freq': trial.suggest_int('bagging_freq', 1, 7),\n",
    "        'verbosity': -1,\n",
    "        'feature_pre_filter': False\n",
    "    }\n",
    "\n",
    "    # ここで Dataset を都度作成することで pre_filter 問題を回避\n",
    "    train_dataset = lgb.Dataset(X_train, label=y_train)\n",
    "    valid_dataset = lgb.Dataset(X_test, label=y_test)\n",
    "\n",
    "    model = lgb.train(\n",
    "        param,\n",
    "        train_dataset,\n",
    "        valid_sets=[valid_dataset],\n",
    "        num_boost_round=100,\n",
    "        callbacks=[\n",
    "            early_stopping(stopping_rounds=10),\n",
    "            log_evaluation(period=0)\n",
    "        ]\n",
    "    )\n",
    "\n",
    "    preds = model.predict(X_test)\n",
    "    pred_labels = preds.argmax(axis=1)\n",
    "    accuracy = (pred_labels == y_test).mean()\n",
    "    return accuracy\n",
    "\n",
    "\n",
    "study = optuna.create_study(direction='maximize')\n",
    "study.optimize(objective, n_trials=30)\n",
    "\n",
    "print(\"🔧 Best parameters found by Optuna:\")\n",
    "print(study.best_params)"
   ]
  },
  {
   "cell_type": "markdown",
   "id": "517afacb",
   "metadata": {},
   "source": [
    "ハイパーパラメータ設定とモデル学習"
   ]
  },
  {
   "cell_type": "code",
   "execution_count": 18,
   "id": "daed9b0f",
   "metadata": {},
   "outputs": [
    {
     "name": "stdout",
     "output_type": "stream",
     "text": [
      "Training until validation scores don't improve for 10 rounds\n",
      "[10]\ttraining's multi_logloss: 0.372402\tvalid_1's multi_logloss: 0.39825\n",
      "[20]\ttraining's multi_logloss: 0.267525\tvalid_1's multi_logloss: 0.316739\n",
      "[30]\ttraining's multi_logloss: 0.223031\tvalid_1's multi_logloss: 0.293348\n",
      "[40]\ttraining's multi_logloss: 0.194675\tvalid_1's multi_logloss: 0.282211\n",
      "[50]\ttraining's multi_logloss: 0.174483\tvalid_1's multi_logloss: 0.277141\n",
      "[60]\ttraining's multi_logloss: 0.156113\tvalid_1's multi_logloss: 0.272958\n",
      "[70]\ttraining's multi_logloss: 0.138121\tvalid_1's multi_logloss: 0.269513\n",
      "[80]\ttraining's multi_logloss: 0.124592\tvalid_1's multi_logloss: 0.268497\n",
      "[90]\ttraining's multi_logloss: 0.113153\tvalid_1's multi_logloss: 0.267401\n",
      "[100]\ttraining's multi_logloss: 0.101848\tvalid_1's multi_logloss: 0.266764\n",
      "Did not meet early stopping. Best iteration is:\n",
      "[100]\ttraining's multi_logloss: 0.101848\tvalid_1's multi_logloss: 0.266764\n"
     ]
    }
   ],
   "source": [
    "# Optunaのベストパラメータに固定設定を追加\n",
    "best_params = study.best_params\n",
    "best_params.update({\n",
    "    'objective': 'multiclass',\n",
    "    'num_class': y.nunique(),\n",
    "    'metric': 'multi_logloss',\n",
    "    'verbosity': -1,\n",
    "    'feature_pre_filter': False  # ← これがないと再びエラーになる\n",
    "})\n",
    "\n",
    "# 再度 Dataset を作り直す（安全のため）\n",
    "train_dataset = lgb.Dataset(X_train, label=y_train)\n",
    "valid_dataset = lgb.Dataset(X_test, label=y_test)\n",
    "\n",
    "# モデル再学習\n",
    "model = lgb.train(\n",
    "    best_params,\n",
    "    train_dataset,\n",
    "    valid_sets=[train_dataset, valid_dataset],\n",
    "    num_boost_round=100,\n",
    "    callbacks=[\n",
    "        early_stopping(stopping_rounds=10),\n",
    "        log_evaluation(period=10)\n",
    "    ]\n",
    ")\n"
   ]
  },
  {
   "cell_type": "markdown",
   "id": "5ef2e365",
   "metadata": {},
   "source": [
    "予測と評価"
   ]
  },
  {
   "cell_type": "code",
   "execution_count": 19,
   "id": "9abd7786",
   "metadata": {},
   "outputs": [
    {
     "name": "stdout",
     "output_type": "stream",
     "text": [
      "📊 Classification Report\n",
      "              precision    recall  f1-score   support\n",
      "\n",
      "           0       0.86      0.85      0.86      5200\n",
      "           1       0.95      0.99      0.97      5200\n",
      "           2       0.85      0.82      0.83      5200\n",
      "\n",
      "    accuracy                           0.89     15600\n",
      "   macro avg       0.89      0.89      0.89     15600\n",
      "weighted avg       0.89      0.89      0.89     15600\n",
      "\n",
      "🧩 Confusion Matrix\n",
      "[[4438   26  736]\n",
      " [   6 5159   35]\n",
      " [ 705  251 4244]]\n"
     ]
    }
   ],
   "source": [
    "y_pred_proba = model.predict(X_test)\n",
    "y_pred = y_pred_proba.argmax(axis=1)\n",
    "print(\"📊 Classification Report\")\n",
    "print(classification_report(y_test, y_pred))\n",
    "\n",
    "print(\"🧩 Confusion Matrix\")\n",
    "print(confusion_matrix(y_test, y_pred))"
   ]
  },
  {
   "cell_type": "markdown",
   "id": "d6c4610d",
   "metadata": {},
   "source": [
    "重要な特徴量を可視化"
   ]
  },
  {
   "cell_type": "code",
   "execution_count": 20,
   "id": "14605774",
   "metadata": {},
   "outputs": [
    {
     "data": {
      "text/plain": [
       "<Axes: title={'center': 'Feature importance'}, xlabel='Feature importance', ylabel='Features'>"
      ]
     },
     "execution_count": 20,
     "metadata": {},
     "output_type": "execute_result"
    },
    {
     "data": {
      "image/png": "[encoded data removed]",
      "text/plain": [
       "<Figure size 640x480 with 1 Axes>"
      ]
     },
     "metadata": {},
     "output_type": "display_data"
    }
   ],
   "source": [
    "lgb.plot_importance(model, max_num_features=20)"
   ]
  }
 ],
 "metadata": {
  "kernelspec": {
   "display_name": "Python 3",
   "language": "python",
   "name": "python3"
  },
  "language_info": {
   "codemirror_mode": {
    "name": "ipython",
    "version": 3
   },
   "file_extension": ".py",
   "mimetype": "text/x-python",
   "name": "python",
   "nbconvert_exporter": "python",
   "pygments_lexer": "ipython3",
   "version": "3.10.2"
  }
 },
 "nbformat": 4,
 "nbformat_minor": 5
}
