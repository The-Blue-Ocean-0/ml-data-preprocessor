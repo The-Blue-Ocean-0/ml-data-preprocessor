{
 "cells": [
  {
   "cell_type": "markdown",
   "id": "2e564fa6",
   "metadata": {},
   "source": [
    "## 전처리한 데이터 가지고 오기"
   ]
  },
  {
   "cell_type": "code",
   "execution_count": 2,
   "id": "af611fce",
   "metadata": {},
   "outputs": [
    {
     "name": "stdout",
     "output_type": "stream",
     "text": [
      "Note: you may need to restart the kernel to use updated packages.\n"
     ]
    },
    {
     "name": "stderr",
     "output_type": "stream",
     "text": [
      "WARNING: You are using pip version 21.2.4; however, version 25.1.1 is available.\n",
      "You should consider upgrading via the 'c:\\Users\\taka2\\.pyenv\\pyenv-win\\versions\\3.10.2\\python.exe -m pip install --upgrade pip' command.\n"
     ]
    }
   ],
   "source": [
    "%pip install -q lightgbm scikit-learn"
   ]
  },
  {
   "cell_type": "code",
   "execution_count": 3,
   "id": "8ca96dc6",
   "metadata": {},
   "outputs": [],
   "source": [
    "import pandas as pd\n",
    "import lightgbm as lgb\n",
    "from sklearn.model_selection import train_test_split\n",
    "from sklearn.metrics import classification_report, confusion_matrix"
   ]
  },
  {
   "cell_type": "code",
   "execution_count": 4,
   "id": "f8483f5a",
   "metadata": {},
   "outputs": [],
   "source": [
    "df = pd.read_csv('../data/url_metadata_cleaned.csv')"
   ]
  },
  {
   "cell_type": "code",
   "execution_count": 5,
   "id": "13a959ac",
   "metadata": {},
   "outputs": [
    {
     "name": "stdout",
     "output_type": "stream",
     "text": [
      "<class 'pandas.core.frame.DataFrame'>\n",
      "RangeIndex: 371357 entries, 0 to 371356\n",
      "Data columns (total 24 columns):\n",
      " #   Column                Non-Null Count   Dtype  \n",
      "---  ------                --------------   -----  \n",
      " 0   url                   371357 non-null  object \n",
      " 1   url_type              371357 non-null  int64  \n",
      " 2   url_len               371357 non-null  int64  \n",
      " 3   letters_count         371357 non-null  int64  \n",
      " 4   digits_count          371357 non-null  int64  \n",
      " 5   special_chars_count   371357 non-null  int64  \n",
      " 6   shortened             371357 non-null  int64  \n",
      " 7   is_domain_in_url      371357 non-null  int64  \n",
      " 8   secure_http           371357 non-null  int64  \n",
      " 9   have_ip               371357 non-null  bool   \n",
      " 10  url_region            371357 non-null  object \n",
      " 11  root_domain           371227 non-null  object \n",
      " 12  redirect_count        371357 non-null  int64  \n",
      " 13  timeout               371357 non-null  bool   \n",
      " 14  has_meta_refresh      371357 non-null  bool   \n",
      " 15  duration_sec          371357 non-null  float64\n",
      " 16  meta_count            371357 non-null  float64\n",
      " 17  link_count            371357 non-null  float64\n",
      " 18  title_count           371357 non-null  float64\n",
      " 19  has_title             371357 non-null  bool   \n",
      " 20  has_meta_description  371357 non-null  bool   \n",
      " 21  has_og_image          371357 non-null  bool   \n",
      " 22  has_og_title          371357 non-null  bool   \n",
      " 23  has_link_stylesheet   371357 non-null  bool   \n",
      "dtypes: bool(8), float64(4), int64(9), object(3)\n",
      "memory usage: 48.2+ MB\n"
     ]
    },
    {
     "data": {
      "application/vnd.microsoft.datawrangler.viewer.v0+json": {
       "columns": [
        {
         "name": "index",
         "rawType": "int64",
         "type": "integer"
        },
        {
         "name": "url",
         "rawType": "object",
         "type": "string"
        },
        {
         "name": "url_type",
         "rawType": "int64",
         "type": "integer"
        },
        {
         "name": "url_len",
         "rawType": "int64",
         "type": "integer"
        },
        {
         "name": "letters_count",
         "rawType": "int64",
         "type": "integer"
        },
        {
         "name": "digits_count",
         "rawType": "int64",
         "type": "integer"
        },
        {
         "name": "special_chars_count",
         "rawType": "int64",
         "type": "integer"
        },
        {
         "name": "shortened",
         "rawType": "int64",
         "type": "integer"
        },
        {
         "name": "is_domain_in_url",
         "rawType": "int64",
         "type": "integer"
        },
        {
         "name": "secure_http",
         "rawType": "int64",
         "type": "integer"
        },
        {
         "name": "have_ip",
         "rawType": "bool",
         "type": "boolean"
        },
        {
         "name": "url_region",
         "rawType": "object",
         "type": "string"
        },
        {
         "name": "root_domain",
         "rawType": "object",
         "type": "string"
        },
        {
         "name": "redirect_count",
         "rawType": "int64",
         "type": "integer"
        },
        {
         "name": "timeout",
         "rawType": "bool",
         "type": "boolean"
        },
        {
         "name": "has_meta_refresh",
         "rawType": "bool",
         "type": "boolean"
        },
        {
         "name": "duration_sec",
         "rawType": "float64",
         "type": "float"
        },
        {
         "name": "meta_count",
         "rawType": "float64",
         "type": "float"
        },
        {
         "name": "link_count",
         "rawType": "float64",
         "type": "float"
        },
        {
         "name": "title_count",
         "rawType": "float64",
         "type": "float"
        },
        {
         "name": "has_title",
         "rawType": "bool",
         "type": "boolean"
        },
        {
         "name": "has_meta_description",
         "rawType": "bool",
         "type": "boolean"
        },
        {
         "name": "has_og_image",
         "rawType": "bool",
         "type": "boolean"
        },
        {
         "name": "has_og_title",
         "rawType": "bool",
         "type": "boolean"
        },
        {
         "name": "has_link_stylesheet",
         "rawType": "bool",
         "type": "boolean"
        }
       ],
       "conversionMethod": "pd.DataFrame",
       "ref": "1c019e92-84ff-409e-82fe-79c425d57f95",
       "rows": [
        [
         "0",
         "bopsecrets.org/rexroth/cr/1.htm",
         "0",
         "31",
         "25",
         "1",
         "5",
         "0",
         "0",
         "0",
         "False",
         "Global",
         "bopsecrets",
         "1",
         "False",
         "False",
         "6.41",
         "7.0",
         "1.0",
         "1.0",
         "True",
         "False",
         "False",
         "False",
         "True"
        ],
        [
         "1",
         "espn.go.com/nba/player/_/id/3457/brandon-rush",
         "0",
         "45",
         "31",
         "4",
         "10",
         "0",
         "0",
         "0",
         "False",
         "Global",
         "go",
         "1",
         "False",
         "False",
         "88.17",
         "31.0",
         "62.0",
         "1.0",
         "True",
         "True",
         "True",
         "True",
         "True"
        ],
        [
         "2",
         "yourbittorrent.com/?q=anthony-hamilton-soulife",
         "0",
         "46",
         "40",
         "0",
         "6",
         "0",
         "0",
         "0",
         "False",
         "Global",
         "yourbittorrent",
         "1",
         "False",
         "False",
         "21.12",
         "4.0",
         "11.0",
         "1.0",
         "True",
         "False",
         "False",
         "False",
         "True"
        ],
        [
         "3",
         "allmusic.com/album/crazy-from-the-heat-r16990",
         "0",
         "45",
         "33",
         "5",
         "7",
         "0",
         "0",
         "0",
         "False",
         "Global",
         "allmusic",
         "5",
         "False",
         "False",
         "131.85",
         "30.0",
         "52.0",
         "1.0",
         "True",
         "True",
         "True",
         "True",
         "True"
        ],
        [
         "4",
         "corporationwiki.com/Ohio/Columbus/frank-s-benson-P3333917.aspx",
         "0",
         "62",
         "47",
         "7",
         "8",
         "0",
         "0",
         "0",
         "False",
         "Global",
         "corporationwiki",
         "3",
         "False",
         "False",
         "170.81",
         "27.0",
         "15.0",
         "1.0",
         "True",
         "True",
         "True",
         "True",
         "True"
        ]
       ],
       "shape": {
        "columns": 24,
        "rows": 5
       }
      },
      "text/html": [
       "<div>\n",
       "<style scoped>\n",
       "    .dataframe tbody tr th:only-of-type {\n",
       "        vertical-align: middle;\n",
       "    }\n",
       "\n",
       "    .dataframe tbody tr th {\n",
       "        vertical-align: top;\n",
       "    }\n",
       "\n",
       "    .dataframe thead th {\n",
       "        text-align: right;\n",
       "    }\n",
       "</style>\n",
       "<table border=\"1\" class=\"dataframe\">\n",
       "  <thead>\n",
       "    <tr style=\"text-align: right;\">\n",
       "      <th></th>\n",
       "      <th>url</th>\n",
       "      <th>url_type</th>\n",
       "      <th>url_len</th>\n",
       "      <th>letters_count</th>\n",
       "      <th>digits_count</th>\n",
       "      <th>special_chars_count</th>\n",
       "      <th>shortened</th>\n",
       "      <th>is_domain_in_url</th>\n",
       "      <th>secure_http</th>\n",
       "      <th>have_ip</th>\n",
       "      <th>...</th>\n",
       "      <th>has_meta_refresh</th>\n",
       "      <th>duration_sec</th>\n",
       "      <th>meta_count</th>\n",
       "      <th>link_count</th>\n",
       "      <th>title_count</th>\n",
       "      <th>has_title</th>\n",
       "      <th>has_meta_description</th>\n",
       "      <th>has_og_image</th>\n",
       "      <th>has_og_title</th>\n",
       "      <th>has_link_stylesheet</th>\n",
       "    </tr>\n",
       "  </thead>\n",
       "  <tbody>\n",
       "    <tr>\n",
       "      <th>0</th>\n",
       "      <td>bopsecrets.org/rexroth/cr/1.htm</td>\n",
       "      <td>0</td>\n",
       "      <td>31</td>\n",
       "      <td>25</td>\n",
       "      <td>1</td>\n",
       "      <td>5</td>\n",
       "      <td>0</td>\n",
       "      <td>0</td>\n",
       "      <td>0</td>\n",
       "      <td>False</td>\n",
       "      <td>...</td>\n",
       "      <td>False</td>\n",
       "      <td>6.41</td>\n",
       "      <td>7.0</td>\n",
       "      <td>1.0</td>\n",
       "      <td>1.0</td>\n",
       "      <td>True</td>\n",
       "      <td>False</td>\n",
       "      <td>False</td>\n",
       "      <td>False</td>\n",
       "      <td>True</td>\n",
       "    </tr>\n",
       "    <tr>\n",
       "      <th>1</th>\n",
       "      <td>espn.go.com/nba/player/_/id/3457/brandon-rush</td>\n",
       "      <td>0</td>\n",
       "      <td>45</td>\n",
       "      <td>31</td>\n",
       "      <td>4</td>\n",
       "      <td>10</td>\n",
       "      <td>0</td>\n",
       "      <td>0</td>\n",
       "      <td>0</td>\n",
       "      <td>False</td>\n",
       "      <td>...</td>\n",
       "      <td>False</td>\n",
       "      <td>88.17</td>\n",
       "      <td>31.0</td>\n",
       "      <td>62.0</td>\n",
       "      <td>1.0</td>\n",
       "      <td>True</td>\n",
       "      <td>True</td>\n",
       "      <td>True</td>\n",
       "      <td>True</td>\n",
       "      <td>True</td>\n",
       "    </tr>\n",
       "    <tr>\n",
       "      <th>2</th>\n",
       "      <td>yourbittorrent.com/?q=anthony-hamilton-soulife</td>\n",
       "      <td>0</td>\n",
       "      <td>46</td>\n",
       "      <td>40</td>\n",
       "      <td>0</td>\n",
       "      <td>6</td>\n",
       "      <td>0</td>\n",
       "      <td>0</td>\n",
       "      <td>0</td>\n",
       "      <td>False</td>\n",
       "      <td>...</td>\n",
       "      <td>False</td>\n",
       "      <td>21.12</td>\n",
       "      <td>4.0</td>\n",
       "      <td>11.0</td>\n",
       "      <td>1.0</td>\n",
       "      <td>True</td>\n",
       "      <td>False</td>\n",
       "      <td>False</td>\n",
       "      <td>False</td>\n",
       "      <td>True</td>\n",
       "    </tr>\n",
       "    <tr>\n",
       "      <th>3</th>\n",
       "      <td>allmusic.com/album/crazy-from-the-heat-r16990</td>\n",
       "      <td>0</td>\n",
       "      <td>45</td>\n",
       "      <td>33</td>\n",
       "      <td>5</td>\n",
       "      <td>7</td>\n",
       "      <td>0</td>\n",
       "      <td>0</td>\n",
       "      <td>0</td>\n",
       "      <td>False</td>\n",
       "      <td>...</td>\n",
       "      <td>False</td>\n",
       "      <td>131.85</td>\n",
       "      <td>30.0</td>\n",
       "      <td>52.0</td>\n",
       "      <td>1.0</td>\n",
       "      <td>True</td>\n",
       "      <td>True</td>\n",
       "      <td>True</td>\n",
       "      <td>True</td>\n",
       "      <td>True</td>\n",
       "    </tr>\n",
       "    <tr>\n",
       "      <th>4</th>\n",
       "      <td>corporationwiki.com/Ohio/Columbus/frank-s-bens...</td>\n",
       "      <td>0</td>\n",
       "      <td>62</td>\n",
       "      <td>47</td>\n",
       "      <td>7</td>\n",
       "      <td>8</td>\n",
       "      <td>0</td>\n",
       "      <td>0</td>\n",
       "      <td>0</td>\n",
       "      <td>False</td>\n",
       "      <td>...</td>\n",
       "      <td>False</td>\n",
       "      <td>170.81</td>\n",
       "      <td>27.0</td>\n",
       "      <td>15.0</td>\n",
       "      <td>1.0</td>\n",
       "      <td>True</td>\n",
       "      <td>True</td>\n",
       "      <td>True</td>\n",
       "      <td>True</td>\n",
       "      <td>True</td>\n",
       "    </tr>\n",
       "  </tbody>\n",
       "</table>\n",
       "<p>5 rows × 24 columns</p>\n",
       "</div>"
      ],
      "text/plain": [
       "                                                 url  url_type  url_len  \\\n",
       "0                    bopsecrets.org/rexroth/cr/1.htm         0       31   \n",
       "1      espn.go.com/nba/player/_/id/3457/brandon-rush         0       45   \n",
       "2     yourbittorrent.com/?q=anthony-hamilton-soulife         0       46   \n",
       "3      allmusic.com/album/crazy-from-the-heat-r16990         0       45   \n",
       "4  corporationwiki.com/Ohio/Columbus/frank-s-bens...         0       62   \n",
       "\n",
       "   letters_count  digits_count  special_chars_count  shortened  \\\n",
       "0             25             1                    5          0   \n",
       "1             31             4                   10          0   \n",
       "2             40             0                    6          0   \n",
       "3             33             5                    7          0   \n",
       "4             47             7                    8          0   \n",
       "\n",
       "   is_domain_in_url  secure_http  have_ip  ... has_meta_refresh duration_sec  \\\n",
       "0                 0            0    False  ...            False         6.41   \n",
       "1                 0            0    False  ...            False        88.17   \n",
       "2                 0            0    False  ...            False        21.12   \n",
       "3                 0            0    False  ...            False       131.85   \n",
       "4                 0            0    False  ...            False       170.81   \n",
       "\n",
       "   meta_count  link_count  title_count  has_title  has_meta_description  \\\n",
       "0         7.0         1.0          1.0       True                 False   \n",
       "1        31.0        62.0          1.0       True                  True   \n",
       "2         4.0        11.0          1.0       True                 False   \n",
       "3        30.0        52.0          1.0       True                  True   \n",
       "4        27.0        15.0          1.0       True                  True   \n",
       "\n",
       "   has_og_image  has_og_title  has_link_stylesheet  \n",
       "0         False         False                 True  \n",
       "1          True          True                 True  \n",
       "2         False         False                 True  \n",
       "3          True          True                 True  \n",
       "4          True          True                 True  \n",
       "\n",
       "[5 rows x 24 columns]"
      ]
     },
     "execution_count": 5,
     "metadata": {},
     "output_type": "execute_result"
    }
   ],
   "source": [
    "df.info()\n",
    "df.head()"
   ]
  },
  {
   "cell_type": "markdown",
   "id": "f7bb9d3d",
   "metadata": {},
   "source": [
    "特徴量とラベルに分割"
   ]
  },
  {
   "cell_type": "code",
   "execution_count": 6,
   "id": "a3cc8b1f",
   "metadata": {},
   "outputs": [],
   "source": [
    "# 予測対象（目的変数）\n",
    "y = df['url_type']  # ← 例：0=benign, 1=phishing, 2=malwareなど\n",
    "\n",
    "# 特徴量（不要列を除く）\n",
    "X = df.drop(columns=['url_type'])\n",
    "\n",
    "X = X.select_dtypes(exclude=['object'])  # 数値型のみ使用（文字列は除外）"
   ]
  },
  {
   "cell_type": "markdown",
   "id": "92fac6f0",
   "metadata": {},
   "source": [
    "学習・検証データに分割"
   ]
  },
  {
   "cell_type": "code",
   "execution_count": 7,
   "id": "d8a81f2f",
   "metadata": {},
   "outputs": [],
   "source": [
    "X_train, X_test, y_train, y_test = train_test_split(\n",
    "    X, y, test_size=0.2, random_state=42, stratify=y\n",
    ")"
   ]
  },
  {
   "cell_type": "markdown",
   "id": "d6bde9e3",
   "metadata": {},
   "source": [
    "LightGBMデータ形式に変換"
   ]
  },
  {
   "cell_type": "code",
   "execution_count": 8,
   "id": "07aefa3e",
   "metadata": {},
   "outputs": [],
   "source": [
    "train_data = lgb.Dataset(X_train, label=y_train)\n",
    "test_data = lgb.Dataset(X_test, label=y_test)"
   ]
  },
  {
   "cell_type": "markdown",
   "id": "517afacb",
   "metadata": {},
   "source": [
    "ハイパーパラメータ設定とモデル学習"
   ]
  },
  {
   "cell_type": "code",
   "execution_count": 10,
   "id": "daed9b0f",
   "metadata": {},
   "outputs": [
    {
     "name": "stdout",
     "output_type": "stream",
     "text": [
      "Training until validation scores don't improve for 10 rounds\n",
      "[10]\ttraining's multi_logloss: 0.380679\tvalid_1's multi_logloss: 0.38101\n",
      "[20]\ttraining's multi_logloss: 0.312213\tvalid_1's multi_logloss: 0.313551\n",
      "[30]\ttraining's multi_logloss: 0.284629\tvalid_1's multi_logloss: 0.287337\n",
      "[40]\ttraining's multi_logloss: 0.269159\tvalid_1's multi_logloss: 0.272938\n",
      "[50]\ttraining's multi_logloss: 0.259988\tvalid_1's multi_logloss: 0.264921\n",
      "[60]\ttraining's multi_logloss: 0.252647\tvalid_1's multi_logloss: 0.25985\n",
      "[70]\ttraining's multi_logloss: 0.246947\tvalid_1's multi_logloss: 0.255181\n",
      "[80]\ttraining's multi_logloss: 0.242166\tvalid_1's multi_logloss: 0.251404\n",
      "[90]\ttraining's multi_logloss: 0.237809\tvalid_1's multi_logloss: 0.247856\n",
      "[100]\ttraining's multi_logloss: 0.233863\tvalid_1's multi_logloss: 0.245029\n",
      "Did not meet early stopping. Best iteration is:\n",
      "[100]\ttraining's multi_logloss: 0.233863\tvalid_1's multi_logloss: 0.245029\n"
     ]
    }
   ],
   "source": [
    "params = {\n",
    "    'objective': 'multiclass',  # ← 多クラス分類なら\n",
    "    'num_class': y.nunique(),   # クラス数\n",
    "    'metric': 'multi_logloss',\n",
    "    'learning_rate': 0.1,\n",
    "    'num_leaves': 31,\n",
    "    'verbose': -1,\n",
    "}\n",
    "\n",
    "from lightgbm import early_stopping, log_evaluation\n",
    "\n",
    "model = lgb.train(\n",
    "    params,\n",
    "    train_data,\n",
    "    valid_sets=[train_data, test_data],\n",
    "    num_boost_round=100,\n",
    "    callbacks=[\n",
    "        early_stopping(stopping_rounds=10),\n",
    "        log_evaluation(period=10)\n",
    "    ]\n",
    ")"
   ]
  },
  {
   "cell_type": "markdown",
   "id": "5ef2e365",
   "metadata": {},
   "source": [
    "予測と評価"
   ]
  },
  {
   "cell_type": "code",
   "execution_count": 11,
   "id": "9abd7786",
   "metadata": {},
   "outputs": [
    {
     "name": "stdout",
     "output_type": "stream",
     "text": [
      "📊 Classification Report\n",
      "              precision    recall  f1-score   support\n",
      "\n",
      "           0       0.92      0.98      0.95     55444\n",
      "           1       0.90      0.98      0.94      8556\n",
      "           2       0.83      0.41      0.55      9293\n",
      "           3       0.93      0.82      0.87       979\n",
      "\n",
      "    accuracy                           0.91     74272\n",
      "   macro avg       0.89      0.80      0.83     74272\n",
      "weighted avg       0.90      0.91      0.90     74272\n",
      "\n",
      "🧩 Confusion Matrix\n",
      "[[54529   186   713    16]\n",
      " [  175  8355     8    18]\n",
      " [ 4821   652  3791    29]\n",
      " [   52    81    45   801]]\n"
     ]
    }
   ],
   "source": [
    "y_pred_proba = model.predict(X_test)\n",
    "y_pred = y_pred_proba.argmax(axis=1)\n",
    "\n",
    "print(\"📊 Classification Report\")\n",
    "print(classification_report(y_test, y_pred))\n",
    "\n",
    "print(\"🧩 Confusion Matrix\")\n",
    "print(confusion_matrix(y_test, y_pred))\n"
   ]
  },
  {
   "cell_type": "markdown",
   "id": "d6c4610d",
   "metadata": {},
   "source": [
    "重要な特徴量を可視化"
   ]
  },
  {
   "cell_type": "code",
   "execution_count": null,
   "id": "14605774",
   "metadata": {},
   "outputs": [
    {
     "data": {
      "text/plain": [
       "<Axes: title={'center': 'Feature importance'}, xlabel='Feature importance', ylabel='Features'>"
      ]
     },
     "execution_count": 13,
     "metadata": {},
     "output_type": "execute_result"
    },
    {
     "data": {
      "image/png": "[encoded data removed]",
      "text/plain": [
       "<Figure size 640x480 with 1 Axes>"
      ]
     },
     "metadata": {},
     "output_type": "display_data"
    }
   ],
   "source": [
    "lgb.plot_importance(model, max_num_features=20)"
   ]
  }
 ],
 "metadata": {
  "kernelspec": {
   "display_name": "Python 3",
   "language": "python",
   "name": "python3"
  },
  "language_info": {
   "codemirror_mode": {
    "name": "ipython",
    "version": 3
   },
   "file_extension": ".py",
   "mimetype": "text/x-python",
   "name": "python",
   "nbconvert_exporter": "python",
   "pygments_lexer": "ipython3",
   "version": "3.10.2"
  }
 },
 "nbformat": 4,
 "nbformat_minor": 5
}
