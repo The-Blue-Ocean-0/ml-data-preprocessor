{
 "cells": [
  {
   "cell_type": "markdown",
   "id": "2e564fa6",
   "metadata": {},
   "source": [
    "## 전처리한 데이터 가지고 오기"
   ]
  },
  {
   "cell_type": "code",
   "execution_count": 8,
   "id": "af611fce",
   "metadata": {},
   "outputs": [
    {
     "name": "stdout",
     "output_type": "stream",
     "text": [
      "Note: you may need to restart the kernel to use updated packages.\n"
     ]
    },
    {
     "name": "stderr",
     "output_type": "stream",
     "text": [
      "ERROR: Could not find a version that satisfies the requirement matplotlib-korean (from versions: none)\n",
      "ERROR: No matching distribution found for matplotlib-korean\n",
      "WARNING: You are using pip version 21.2.4; however, version 25.1.1 is available.\n",
      "You should consider upgrading via the 'c:\\Users\\taka2\\.pyenv\\pyenv-win\\versions\\3.10.2\\python.exe -m pip install --upgrade pip' command.\n"
     ]
    }
   ],
   "source": [
    "%pip install -q lightgbm scikit-learn"
   ]
  },
  {
   "cell_type": "code",
   "execution_count": 11,
   "id": "8ca96dc6",
   "metadata": {},
   "outputs": [],
   "source": [
    "import pandas as pd\n",
    "import lightgbm as lgb\n",
    "import seaborn as sns\n",
    "import matplotlib.pyplot as plt\n",
    "import matplotlib\n",
    "from sklearn.model_selection import train_test_split\n",
    "from sklearn.metrics import classification_report, confusion_matrix"
   ]
  },
  {
   "cell_type": "code",
   "execution_count": 2,
   "id": "f8483f5a",
   "metadata": {},
   "outputs": [],
   "source": [
    "df = pd.read_csv('../data/url_metadata_cleaned.csv')"
   ]
  },
  {
   "cell_type": "code",
   "execution_count": 3,
   "id": "13a959ac",
   "metadata": {},
   "outputs": [
    {
     "name": "stdout",
     "output_type": "stream",
     "text": [
      "<class 'pandas.core.frame.DataFrame'>\n",
      "RangeIndex: 371357 entries, 0 to 371356\n",
      "Data columns (total 24 columns):\n",
      " #   Column                Non-Null Count   Dtype  \n",
      "---  ------                --------------   -----  \n",
      " 0   url                   371357 non-null  object \n",
      " 1   url_type              371357 non-null  int64  \n",
      " 2   url_len               371357 non-null  int64  \n",
      " 3   letters_count         371357 non-null  int64  \n",
      " 4   digits_count          371357 non-null  int64  \n",
      " 5   special_chars_count   371357 non-null  int64  \n",
      " 6   shortened             371357 non-null  int64  \n",
      " 7   is_domain_in_url      371357 non-null  int64  \n",
      " 8   secure_http           371357 non-null  int64  \n",
      " 9   have_ip               371357 non-null  bool   \n",
      " 10  url_region            371357 non-null  object \n",
      " 11  root_domain           371227 non-null  object \n",
      " 12  redirect_count        371357 non-null  int64  \n",
      " 13  timeout               371357 non-null  bool   \n",
      " 14  has_meta_refresh      371357 non-null  bool   \n",
      " 15  duration_sec          371357 non-null  float64\n",
      " 16  meta_count            371357 non-null  float64\n",
      " 17  link_count            371357 non-null  float64\n",
      " 18  title_count           371357 non-null  float64\n",
      " 19  has_title             371357 non-null  bool   \n",
      " 20  has_meta_description  371357 non-null  bool   \n",
      " 21  has_og_image          371357 non-null  bool   \n",
      " 22  has_og_title          371357 non-null  bool   \n",
      " 23  has_link_stylesheet   371357 non-null  bool   \n",
      "dtypes: bool(8), float64(4), int64(9), object(3)\n",
      "memory usage: 48.2+ MB\n"
     ]
    },
    {
     "data": {
      "application/vnd.microsoft.datawrangler.viewer.v0+json": {
       "columns": [
        {
         "name": "index",
         "rawType": "int64",
         "type": "integer"
        },
        {
         "name": "url",
         "rawType": "object",
         "type": "string"
        },
        {
         "name": "url_type",
         "rawType": "int64",
         "type": "integer"
        },
        {
         "name": "url_len",
         "rawType": "int64",
         "type": "integer"
        },
        {
         "name": "letters_count",
         "rawType": "int64",
         "type": "integer"
        },
        {
         "name": "digits_count",
         "rawType": "int64",
         "type": "integer"
        },
        {
         "name": "special_chars_count",
         "rawType": "int64",
         "type": "integer"
        },
        {
         "name": "shortened",
         "rawType": "int64",
         "type": "integer"
        },
        {
         "name": "is_domain_in_url",
         "rawType": "int64",
         "type": "integer"
        },
        {
         "name": "secure_http",
         "rawType": "int64",
         "type": "integer"
        },
        {
         "name": "have_ip",
         "rawType": "bool",
         "type": "boolean"
        },
        {
         "name": "url_region",
         "rawType": "object",
         "type": "string"
        },
        {
         "name": "root_domain",
         "rawType": "object",
         "type": "string"
        },
        {
         "name": "redirect_count",
         "rawType": "int64",
         "type": "integer"
        },
        {
         "name": "timeout",
         "rawType": "bool",
         "type": "boolean"
        },
        {
         "name": "has_meta_refresh",
         "rawType": "bool",
         "type": "boolean"
        },
        {
         "name": "duration_sec",
         "rawType": "float64",
         "type": "float"
        },
        {
         "name": "meta_count",
         "rawType": "float64",
         "type": "float"
        },
        {
         "name": "link_count",
         "rawType": "float64",
         "type": "float"
        },
        {
         "name": "title_count",
         "rawType": "float64",
         "type": "float"
        },
        {
         "name": "has_title",
         "rawType": "bool",
         "type": "boolean"
        },
        {
         "name": "has_meta_description",
         "rawType": "bool",
         "type": "boolean"
        },
        {
         "name": "has_og_image",
         "rawType": "bool",
         "type": "boolean"
        },
        {
         "name": "has_og_title",
         "rawType": "bool",
         "type": "boolean"
        },
        {
         "name": "has_link_stylesheet",
         "rawType": "bool",
         "type": "boolean"
        }
       ],
       "conversionMethod": "pd.DataFrame",
       "ref": "fd678d93-a9d6-4382-a053-d3a147b1da29",
       "rows": [
        [
         "0",
         "bopsecrets.org/rexroth/cr/1.htm",
         "0",
         "31",
         "25",
         "1",
         "5",
         "0",
         "0",
         "0",
         "False",
         "Global",
         "bopsecrets",
         "1",
         "False",
         "False",
         "6.41",
         "7.0",
         "1.0",
         "1.0",
         "True",
         "False",
         "False",
         "False",
         "True"
        ],
        [
         "1",
         "espn.go.com/nba/player/_/id/3457/brandon-rush",
         "0",
         "45",
         "31",
         "4",
         "10",
         "0",
         "0",
         "0",
         "False",
         "Global",
         "go",
         "1",
         "False",
         "False",
         "88.17",
         "31.0",
         "62.0",
         "1.0",
         "True",
         "True",
         "True",
         "True",
         "True"
        ],
        [
         "2",
         "yourbittorrent.com/?q=anthony-hamilton-soulife",
         "0",
         "46",
         "40",
         "0",
         "6",
         "0",
         "0",
         "0",
         "False",
         "Global",
         "yourbittorrent",
         "1",
         "False",
         "False",
         "21.12",
         "4.0",
         "11.0",
         "1.0",
         "True",
         "False",
         "False",
         "False",
         "True"
        ],
        [
         "3",
         "allmusic.com/album/crazy-from-the-heat-r16990",
         "0",
         "45",
         "33",
         "5",
         "7",
         "0",
         "0",
         "0",
         "False",
         "Global",
         "allmusic",
         "5",
         "False",
         "False",
         "131.85",
         "30.0",
         "52.0",
         "1.0",
         "True",
         "True",
         "True",
         "True",
         "True"
        ],
        [
         "4",
         "corporationwiki.com/Ohio/Columbus/frank-s-benson-P3333917.aspx",
         "0",
         "62",
         "47",
         "7",
         "8",
         "0",
         "0",
         "0",
         "False",
         "Global",
         "corporationwiki",
         "3",
         "False",
         "False",
         "170.81",
         "27.0",
         "15.0",
         "1.0",
         "True",
         "True",
         "True",
         "True",
         "True"
        ]
       ],
       "shape": {
        "columns": 24,
        "rows": 5
       }
      },
      "text/html": [
       "<div>\n",
       "<style scoped>\n",
       "    .dataframe tbody tr th:only-of-type {\n",
       "        vertical-align: middle;\n",
       "    }\n",
       "\n",
       "    .dataframe tbody tr th {\n",
       "        vertical-align: top;\n",
       "    }\n",
       "\n",
       "    .dataframe thead th {\n",
       "        text-align: right;\n",
       "    }\n",
       "</style>\n",
       "<table border=\"1\" class=\"dataframe\">\n",
       "  <thead>\n",
       "    <tr style=\"text-align: right;\">\n",
       "      <th></th>\n",
       "      <th>url</th>\n",
       "      <th>url_type</th>\n",
       "      <th>url_len</th>\n",
       "      <th>letters_count</th>\n",
       "      <th>digits_count</th>\n",
       "      <th>special_chars_count</th>\n",
       "      <th>shortened</th>\n",
       "      <th>is_domain_in_url</th>\n",
       "      <th>secure_http</th>\n",
       "      <th>have_ip</th>\n",
       "      <th>...</th>\n",
       "      <th>has_meta_refresh</th>\n",
       "      <th>duration_sec</th>\n",
       "      <th>meta_count</th>\n",
       "      <th>link_count</th>\n",
       "      <th>title_count</th>\n",
       "      <th>has_title</th>\n",
       "      <th>has_meta_description</th>\n",
       "      <th>has_og_image</th>\n",
       "      <th>has_og_title</th>\n",
       "      <th>has_link_stylesheet</th>\n",
       "    </tr>\n",
       "  </thead>\n",
       "  <tbody>\n",
       "    <tr>\n",
       "      <th>0</th>\n",
       "      <td>bopsecrets.org/rexroth/cr/1.htm</td>\n",
       "      <td>0</td>\n",
       "      <td>31</td>\n",
       "      <td>25</td>\n",
       "      <td>1</td>\n",
       "      <td>5</td>\n",
       "      <td>0</td>\n",
       "      <td>0</td>\n",
       "      <td>0</td>\n",
       "      <td>False</td>\n",
       "      <td>...</td>\n",
       "      <td>False</td>\n",
       "      <td>6.41</td>\n",
       "      <td>7.0</td>\n",
       "      <td>1.0</td>\n",
       "      <td>1.0</td>\n",
       "      <td>True</td>\n",
       "      <td>False</td>\n",
       "      <td>False</td>\n",
       "      <td>False</td>\n",
       "      <td>True</td>\n",
       "    </tr>\n",
       "    <tr>\n",
       "      <th>1</th>\n",
       "      <td>espn.go.com/nba/player/_/id/3457/brandon-rush</td>\n",
       "      <td>0</td>\n",
       "      <td>45</td>\n",
       "      <td>31</td>\n",
       "      <td>4</td>\n",
       "      <td>10</td>\n",
       "      <td>0</td>\n",
       "      <td>0</td>\n",
       "      <td>0</td>\n",
       "      <td>False</td>\n",
       "      <td>...</td>\n",
       "      <td>False</td>\n",
       "      <td>88.17</td>\n",
       "      <td>31.0</td>\n",
       "      <td>62.0</td>\n",
       "      <td>1.0</td>\n",
       "      <td>True</td>\n",
       "      <td>True</td>\n",
       "      <td>True</td>\n",
       "      <td>True</td>\n",
       "      <td>True</td>\n",
       "    </tr>\n",
       "    <tr>\n",
       "      <th>2</th>\n",
       "      <td>yourbittorrent.com/?q=anthony-hamilton-soulife</td>\n",
       "      <td>0</td>\n",
       "      <td>46</td>\n",
       "      <td>40</td>\n",
       "      <td>0</td>\n",
       "      <td>6</td>\n",
       "      <td>0</td>\n",
       "      <td>0</td>\n",
       "      <td>0</td>\n",
       "      <td>False</td>\n",
       "      <td>...</td>\n",
       "      <td>False</td>\n",
       "      <td>21.12</td>\n",
       "      <td>4.0</td>\n",
       "      <td>11.0</td>\n",
       "      <td>1.0</td>\n",
       "      <td>True</td>\n",
       "      <td>False</td>\n",
       "      <td>False</td>\n",
       "      <td>False</td>\n",
       "      <td>True</td>\n",
       "    </tr>\n",
       "    <tr>\n",
       "      <th>3</th>\n",
       "      <td>allmusic.com/album/crazy-from-the-heat-r16990</td>\n",
       "      <td>0</td>\n",
       "      <td>45</td>\n",
       "      <td>33</td>\n",
       "      <td>5</td>\n",
       "      <td>7</td>\n",
       "      <td>0</td>\n",
       "      <td>0</td>\n",
       "      <td>0</td>\n",
       "      <td>False</td>\n",
       "      <td>...</td>\n",
       "      <td>False</td>\n",
       "      <td>131.85</td>\n",
       "      <td>30.0</td>\n",
       "      <td>52.0</td>\n",
       "      <td>1.0</td>\n",
       "      <td>True</td>\n",
       "      <td>True</td>\n",
       "      <td>True</td>\n",
       "      <td>True</td>\n",
       "      <td>True</td>\n",
       "    </tr>\n",
       "    <tr>\n",
       "      <th>4</th>\n",
       "      <td>corporationwiki.com/Ohio/Columbus/frank-s-bens...</td>\n",
       "      <td>0</td>\n",
       "      <td>62</td>\n",
       "      <td>47</td>\n",
       "      <td>7</td>\n",
       "      <td>8</td>\n",
       "      <td>0</td>\n",
       "      <td>0</td>\n",
       "      <td>0</td>\n",
       "      <td>False</td>\n",
       "      <td>...</td>\n",
       "      <td>False</td>\n",
       "      <td>170.81</td>\n",
       "      <td>27.0</td>\n",
       "      <td>15.0</td>\n",
       "      <td>1.0</td>\n",
       "      <td>True</td>\n",
       "      <td>True</td>\n",
       "      <td>True</td>\n",
       "      <td>True</td>\n",
       "      <td>True</td>\n",
       "    </tr>\n",
       "  </tbody>\n",
       "</table>\n",
       "<p>5 rows × 24 columns</p>\n",
       "</div>"
      ],
      "text/plain": [
       "                                                 url  url_type  url_len  \\\n",
       "0                    bopsecrets.org/rexroth/cr/1.htm         0       31   \n",
       "1      espn.go.com/nba/player/_/id/3457/brandon-rush         0       45   \n",
       "2     yourbittorrent.com/?q=anthony-hamilton-soulife         0       46   \n",
       "3      allmusic.com/album/crazy-from-the-heat-r16990         0       45   \n",
       "4  corporationwiki.com/Ohio/Columbus/frank-s-bens...         0       62   \n",
       "\n",
       "   letters_count  digits_count  special_chars_count  shortened  \\\n",
       "0             25             1                    5          0   \n",
       "1             31             4                   10          0   \n",
       "2             40             0                    6          0   \n",
       "3             33             5                    7          0   \n",
       "4             47             7                    8          0   \n",
       "\n",
       "   is_domain_in_url  secure_http  have_ip  ... has_meta_refresh duration_sec  \\\n",
       "0                 0            0    False  ...            False         6.41   \n",
       "1                 0            0    False  ...            False        88.17   \n",
       "2                 0            0    False  ...            False        21.12   \n",
       "3                 0            0    False  ...            False       131.85   \n",
       "4                 0            0    False  ...            False       170.81   \n",
       "\n",
       "   meta_count  link_count  title_count  has_title  has_meta_description  \\\n",
       "0         7.0         1.0          1.0       True                 False   \n",
       "1        31.0        62.0          1.0       True                  True   \n",
       "2         4.0        11.0          1.0       True                 False   \n",
       "3        30.0        52.0          1.0       True                  True   \n",
       "4        27.0        15.0          1.0       True                  True   \n",
       "\n",
       "   has_og_image  has_og_title  has_link_stylesheet  \n",
       "0         False         False                 True  \n",
       "1          True          True                 True  \n",
       "2         False         False                 True  \n",
       "3          True          True                 True  \n",
       "4          True          True                 True  \n",
       "\n",
       "[5 rows x 24 columns]"
      ]
     },
     "execution_count": 3,
     "metadata": {},
     "output_type": "execute_result"
    }
   ],
   "source": [
    "df.info()\n",
    "df.head()"
   ]
  },
  {
   "cell_type": "code",
   "execution_count": 4,
   "id": "d4af5a78",
   "metadata": {},
   "outputs": [
    {
     "name": "stdout",
     "output_type": "stream",
     "text": [
      "   url_type   count            label  proportion (%)\n",
      "0         0  277217      benign (정상)           74.65\n",
      "1         2   46462    phishing (피싱)           12.51\n",
      "2         1   42781  defacement (악성)           11.52\n",
      "3         3    4897    malware (멀웨어)            1.32\n"
     ]
    }
   ],
   "source": [
    "label_map = {0: \"benign (정상)\", 1: \"defacement (악성)\", 2: \"phishing (피싱)\", 3: \"malware (멀웨어)\"}\n",
    "\n",
    "type_counts = df[\"url_type\"].value_counts().rename_axis(\"url_type\").reset_index(name=\"count\")\n",
    "type_counts[\"label\"] = type_counts[\"url_type\"].map(label_map)\n",
    "type_counts[\"proportion (%)\"] = (type_counts[\"count\"] / type_counts[\"count\"].sum() * 100).round(2)\n",
    "\n",
    "print(type_counts)\n"
   ]
  },
  {
   "cell_type": "code",
   "execution_count": 12,
   "id": "d1d8ab2d",
   "metadata": {},
   "outputs": [
    {
     "data": {
      "image/png": "[encoded data removed]",
      "text/plain": [
       "<Figure size 800x500 with 1 Axes>"
      ]
     },
     "metadata": {},
     "output_type": "display_data"
    }
   ],
   "source": [
    "# Windows에서 기본 제공되는 한글 폰트 설정\n",
    "matplotlib.rc('font', family='Malgun Gothic')\n",
    "plt.rcParams['axes.unicode_minus'] = False  # 마이너스 기호 깨짐 방지\n",
    "\n",
    "# 예제 그래프\n",
    "plt.figure(figsize=(8, 5))\n",
    "sns.barplot(x=\"label\", y=\"count\", data=type_counts)\n",
    "plt.title(\"각 URL 유형별 데이터 분포 (비율 포함)\")\n",
    "plt.xlabel(\"URL 유형 (라벨)\")\n",
    "plt.ylabel(\"샘플 수\")\n",
    "plt.xticks(rotation=15)\n",
    "plt.tight_layout()\n",
    "plt.show()"
   ]
  },
  {
   "cell_type": "markdown",
   "id": "f7bb9d3d",
   "metadata": {},
   "source": [
    "特徴量とラベルに分割"
   ]
  },
  {
   "cell_type": "markdown",
   "id": "81567fb4",
   "metadata": {},
   "source": [
    "## SMOTEで不均衡を解消し、LightGBMで再学習"
   ]
  },
  {
   "cell_type": "markdown",
   "id": "4e7eacf3",
   "metadata": {},
   "source": [
    "### 1. SMOTE で学習データのバランスを取る"
   ]
  },
  {
   "cell_type": "code",
   "execution_count": null,
   "id": "d1e56f5d",
   "metadata": {},
   "outputs": [
    {
     "name": "stdout",
     "output_type": "stream",
     "text": [
      "Note: you may need to restart the kernel to use updated packages.\n"
     ]
    },
    {
     "name": "stderr",
     "output_type": "stream",
     "text": [
      "WARNING: You are using pip version 21.2.4; however, version 25.1.1 is available.\n",
      "You should consider upgrading via the 'c:\\Users\\taka2\\.pyenv\\pyenv-win\\versions\\3.10.2\\python.exe -m pip install --upgrade pip' command.\n"
     ]
    }
   ],
   "source": [
    "%pip install -q imbalanced-learn"
   ]
  },
  {
   "cell_type": "code",
   "execution_count": 15,
   "id": "d922817d",
   "metadata": {},
   "outputs": [],
   "source": [
    "from imblearn.over_sampling import SMOTE\n",
    "from collections import Counter"
   ]
  },
  {
   "cell_type": "code",
   "execution_count": 13,
   "id": "a3cc8b1f",
   "metadata": {},
   "outputs": [],
   "source": [
    "# 予測対象（目的変数）\n",
    "y = df['url_type']\n",
    "\n",
    "# 特徴量（不要列を除く）\n",
    "X = df.drop(columns=['url_type'])\n",
    "\n",
    "X = X.select_dtypes(exclude=['object'])  # 数値型のみ使用（文字列は除外）"
   ]
  },
  {
   "cell_type": "markdown",
   "id": "92fac6f0",
   "metadata": {},
   "source": [
    "学習・検証データに分割"
   ]
  },
  {
   "cell_type": "code",
   "execution_count": 19,
   "id": "d8a81f2f",
   "metadata": {},
   "outputs": [],
   "source": [
    "X_train, X_test, y_train, y_test = train_test_split(\n",
    "    X, y, test_size=0.2, random_state=42, stratify=y\n",
    ")"
   ]
  },
  {
   "cell_type": "code",
   "execution_count": 20,
   "id": "0ba0cc22",
   "metadata": {},
   "outputs": [
    {
     "name": "stdout",
     "output_type": "stream",
     "text": [
      "📊 元の学習データのクラス分布: Counter({0: 221773, 2: 37169, 1: 34225, 3: 3918})\n"
     ]
    }
   ],
   "source": [
    "# 5. クラス分布の確認（元の）\n",
    "print(\"📊 元の学習データのクラス分布:\", Counter(y_train))"
   ]
  },
  {
   "cell_type": "code",
   "execution_count": 21,
   "id": "fc4f10bd",
   "metadata": {},
   "outputs": [
    {
     "name": "stdout",
     "output_type": "stream",
     "text": [
      "📊 SMOTE適用後のクラス分布: Counter({2: 221773, 0: 221773, 1: 221773, 3: 221773})\n"
     ]
    }
   ],
   "source": [
    "# 6. SMOTEで不均衡を解消\n",
    "smote = SMOTE(random_state=42)\n",
    "X_train_resampled, y_train_resampled = smote.fit_resample(X_train, y_train)\n",
    "\n",
    "# 7. クラス分布の確認（SMOTE後）\n",
    "print(\"📊 SMOTE適用後のクラス分布:\", Counter(y_train_resampled))"
   ]
  },
  {
   "cell_type": "markdown",
   "id": "d6bde9e3",
   "metadata": {},
   "source": [
    "LightGBMデータ形式に変換"
   ]
  },
  {
   "cell_type": "code",
   "execution_count": 22,
   "id": "07aefa3e",
   "metadata": {},
   "outputs": [],
   "source": [
    "# 1. LightGBM 用データセットの準備（SMOTE後のデータで）\n",
    "train_data = lgb.Dataset(X_train_resampled, label=y_train_resampled)\n",
    "test_data = lgb.Dataset(X_test, label=y_test)"
   ]
  },
  {
   "cell_type": "markdown",
   "id": "517afacb",
   "metadata": {},
   "source": [
    "ハイパーパラメータ設定とモデル学習"
   ]
  },
  {
   "cell_type": "code",
   "execution_count": 23,
   "id": "daed9b0f",
   "metadata": {},
   "outputs": [
    {
     "name": "stdout",
     "output_type": "stream",
     "text": [
      "Training until validation scores don't improve for 10 rounds\n",
      "[10]\ttraining's multi_logloss: 0.629366\tvalid_1's multi_logloss: 0.702365\n",
      "[20]\ttraining's multi_logloss: 0.46101\tvalid_1's multi_logloss: 0.539857\n",
      "[30]\ttraining's multi_logloss: 0.394939\tvalid_1's multi_logloss: 0.470405\n",
      "[40]\ttraining's multi_logloss: 0.360405\tvalid_1's multi_logloss: 0.436505\n",
      "[50]\ttraining's multi_logloss: 0.33628\tvalid_1's multi_logloss: 0.411826\n",
      "[60]\ttraining's multi_logloss: 0.31737\tvalid_1's multi_logloss: 0.393342\n",
      "[70]\ttraining's multi_logloss: 0.303586\tvalid_1's multi_logloss: 0.380021\n",
      "[80]\ttraining's multi_logloss: 0.291586\tvalid_1's multi_logloss: 0.369716\n",
      "[90]\ttraining's multi_logloss: 0.27999\tvalid_1's multi_logloss: 0.359568\n",
      "[100]\ttraining's multi_logloss: 0.270181\tvalid_1's multi_logloss: 0.350163\n",
      "Did not meet early stopping. Best iteration is:\n",
      "[100]\ttraining's multi_logloss: 0.270181\tvalid_1's multi_logloss: 0.350163\n"
     ]
    }
   ],
   "source": [
    "# 2. パラメータ設定\n",
    "params = {\n",
    "    'objective': 'multiclass',\n",
    "    'num_class': y.nunique(),  # 4クラス\n",
    "    'metric': 'multi_logloss',\n",
    "    'learning_rate': 0.1,\n",
    "    'num_leaves': 31,\n",
    "    'verbose': -1,\n",
    "}\n",
    "\n",
    "# 3. モデル学習\n",
    "model = lgb.train(\n",
    "    params,\n",
    "    train_data,\n",
    "    valid_sets=[train_data, test_data],\n",
    "    num_boost_round=100,\n",
    "    callbacks=[\n",
    "        lgb.early_stopping(stopping_rounds=10),\n",
    "        lgb.log_evaluation(period=10)\n",
    "    ]\n",
    ")"
   ]
  },
  {
   "cell_type": "markdown",
   "id": "5ef2e365",
   "metadata": {},
   "source": [
    "予測と評価"
   ]
  },
  {
   "cell_type": "code",
   "execution_count": 24,
   "id": "9abd7786",
   "metadata": {},
   "outputs": [
    {
     "name": "stdout",
     "output_type": "stream",
     "text": [
      "📊 Classification Report\n",
      "                 precision    recall  f1-score   support\n",
      "\n",
      "    benign (정상)       0.95      0.88      0.91     55444\n",
      "defacement (악성)       0.86      0.98      0.92      8556\n",
      "  phishing (피싱)       0.51      0.65      0.57      9293\n",
      "  malware (멀웨어)       0.72      0.88      0.79       979\n",
      "\n",
      "       accuracy                           0.86     74272\n",
      "      macro avg       0.76      0.85      0.80     74272\n",
      "   weighted avg       0.88      0.86      0.87     74272\n",
      "\n",
      "🧩 Confusion Matrix\n",
      "[[48804   708  5838    94]\n",
      " [   50  8419    18    69]\n",
      " [ 2417   638  6060   178]\n",
      " [   30    46    37   866]]\n"
     ]
    }
   ],
   "source": [
    "# 4. 予測と評価\n",
    "y_pred_proba = model.predict(X_test)\n",
    "y_pred = y_pred_proba.argmax(axis=1)\n",
    "\n",
    "print(\"📊 Classification Report\")\n",
    "print(classification_report(y_test, y_pred, target_names=[\n",
    "    \"benign (정상)\", \"defacement (악성)\", \"phishing (피싱)\", \"malware (멀웨어)\"\n",
    "]))\n",
    "\n",
    "print(\"🧩 Confusion Matrix\")\n",
    "print(confusion_matrix(y_test, y_pred))\n"
   ]
  },
  {
   "cell_type": "markdown",
   "id": "d6c4610d",
   "metadata": {},
   "source": [
    "重要な特徴量を可視化"
   ]
  },
  {
   "cell_type": "code",
   "execution_count": 25,
   "id": "14605774",
   "metadata": {},
   "outputs": [
    {
     "data": {
      "text/plain": [
       "<Axes: title={'center': 'Feature importance'}, xlabel='Feature importance', ylabel='Features'>"
      ]
     },
     "execution_count": 25,
     "metadata": {},
     "output_type": "execute_result"
    },
    {
     "data": {
      "image/png": "[encoded data removed]",
      "text/plain": [
       "<Figure size 640x480 with 1 Axes>"
      ]
     },
     "metadata": {},
     "output_type": "display_data"
    }
   ],
   "source": [
    "lgb.plot_importance(model, max_num_features=20)"
   ]
  },
  {
   "cell_type": "markdown",
   "id": "b7ceeadc",
   "metadata": {},
   "source": [
    "## Optunaによる自動チューニング"
   ]
  },
  {
   "cell_type": "code",
   "execution_count": 27,
   "id": "d3b9180c",
   "metadata": {},
   "outputs": [
    {
     "name": "stdout",
     "output_type": "stream",
     "text": [
      "Note: you may need to restart the kernel to use updated packages.\n"
     ]
    },
    {
     "name": "stderr",
     "output_type": "stream",
     "text": [
      "WARNING: You are using pip version 21.2.4; however, version 25.1.1 is available.\n",
      "You should consider upgrading via the 'c:\\Users\\taka2\\.pyenv\\pyenv-win\\versions\\3.10.2\\python.exe -m pip install --upgrade pip' command.\n"
     ]
    }
   ],
   "source": [
    "%pip install -q optuna"
   ]
  },
  {
   "cell_type": "code",
   "execution_count": 29,
   "id": "762f01c4",
   "metadata": {},
   "outputs": [
    {
     "name": "stderr",
     "output_type": "stream",
     "text": [
      "[I 2025-05-15 16:57:52,372] A new study created in memory with name: no-name-7c0e5046-d924-4c52-90a8-25ed3640cbd3\n"
     ]
    },
    {
     "name": "stdout",
     "output_type": "stream",
     "text": [
      "Training until validation scores don't improve for 10 rounds\n",
      "Did not meet early stopping. Best iteration is:\n",
      "[100]\tvalid_0's multi_logloss: 0.268129\n"
     ]
    },
    {
     "name": "stderr",
     "output_type": "stream",
     "text": [
      "[I 2025-05-15 16:58:00,600] Trial 0 finished with value: 0.8367150581074094 and parameters: {'learning_rate': 0.20453485776800256, 'num_leaves': 59, 'max_depth': 14, 'min_child_samples': 37, 'subsample': 0.5480713251621585, 'colsample_bytree': 0.6942825361526002}. Best is trial 0 with value: 0.8367150581074094.\n"
     ]
    },
    {
     "name": "stdout",
     "output_type": "stream",
     "text": [
      "Training until validation scores don't improve for 10 rounds\n"
     ]
    },
    {
     "name": "stderr",
     "output_type": "stream",
     "text": [
      "[I 2025-05-15 16:58:04,986] Trial 1 finished with value: 0.7146102344276366 and parameters: {'learning_rate': 0.1873101851900714, 'num_leaves': 92, 'max_depth': 3, 'min_child_samples': 22, 'subsample': 0.5015847534109272, 'colsample_bytree': 0.715967888785696}. Best is trial 0 with value: 0.8367150581074094.\n"
     ]
    },
    {
     "name": "stdout",
     "output_type": "stream",
     "text": [
      "Did not meet early stopping. Best iteration is:\n",
      "[100]\tvalid_0's multi_logloss: 0.461255\n",
      "Training until validation scores don't improve for 10 rounds\n",
      "Did not meet early stopping. Best iteration is:\n",
      "[100]\tvalid_0's multi_logloss: 0.291904\n"
     ]
    },
    {
     "name": "stderr",
     "output_type": "stream",
     "text": [
      "[I 2025-05-15 16:58:15,168] Trial 2 finished with value: 0.8318791908860104 and parameters: {'learning_rate': 0.10541727740645358, 'num_leaves': 81, 'max_depth': 12, 'min_child_samples': 86, 'subsample': 0.842632601805807, 'colsample_bytree': 0.5795653311330335}. Best is trial 0 with value: 0.8367150581074094.\n"
     ]
    },
    {
     "name": "stdout",
     "output_type": "stream",
     "text": [
      "Training until validation scores don't improve for 10 rounds\n",
      "Did not meet early stopping. Best iteration is:\n",
      "[100]\tvalid_0's multi_logloss: 0.240075\n"
     ]
    },
    {
     "name": "stderr",
     "output_type": "stream",
     "text": [
      "[I 2025-05-15 16:58:26,197] Trial 3 finished with value: 0.8546464688156242 and parameters: {'learning_rate': 0.2407340568360851, 'num_leaves': 121, 'max_depth': 13, 'min_child_samples': 52, 'subsample': 0.8664479878518418, 'colsample_bytree': 0.5743206351711007}. Best is trial 3 with value: 0.8546464688156242.\n"
     ]
    },
    {
     "name": "stdout",
     "output_type": "stream",
     "text": [
      "Training until validation scores don't improve for 10 rounds\n",
      "Did not meet early stopping. Best iteration is:\n",
      "[100]\tvalid_0's multi_logloss: 0.525417\n"
     ]
    },
    {
     "name": "stderr",
     "output_type": "stream",
     "text": [
      "[I 2025-05-15 16:58:40,083] Trial 4 finished with value: 0.7735772714716352 and parameters: {'learning_rate': 0.01769265417584629, 'num_leaves': 142, 'max_depth': 10, 'min_child_samples': 99, 'subsample': 0.8440684230319382, 'colsample_bytree': 0.56497743472806}. Best is trial 3 with value: 0.8546464688156242.\n"
     ]
    },
    {
     "name": "stdout",
     "output_type": "stream",
     "text": [
      "Training until validation scores don't improve for 10 rounds\n",
      "Did not meet early stopping. Best iteration is:\n",
      "[100]\tvalid_0's multi_logloss: 0.296971\n"
     ]
    },
    {
     "name": "stderr",
     "output_type": "stream",
     "text": [
      "[I 2025-05-15 16:58:48,523] Trial 5 finished with value: 0.8235582683535927 and parameters: {'learning_rate': 0.13831440221467545, 'num_leaves': 49, 'max_depth': 12, 'min_child_samples': 45, 'subsample': 0.5112069213301569, 'colsample_bytree': 0.6249520422057593}. Best is trial 3 with value: 0.8546464688156242.\n"
     ]
    },
    {
     "name": "stdout",
     "output_type": "stream",
     "text": [
      "Training until validation scores don't improve for 10 rounds\n",
      "Did not meet early stopping. Best iteration is:\n",
      "[100]\tvalid_0's multi_logloss: 0.301947\n"
     ]
    },
    {
     "name": "stderr",
     "output_type": "stream",
     "text": [
      "[I 2025-05-15 16:58:54,532] Trial 6 finished with value: 0.8229636945741357 and parameters: {'learning_rate': 0.15342735335356109, 'num_leaves': 38, 'max_depth': 14, 'min_child_samples': 49, 'subsample': 0.5916621684371295, 'colsample_bytree': 0.8838870820423945}. Best is trial 3 with value: 0.8546464688156242.\n"
     ]
    },
    {
     "name": "stdout",
     "output_type": "stream",
     "text": [
      "Training until validation scores don't improve for 10 rounds\n",
      "Did not meet early stopping. Best iteration is:\n",
      "[100]\tvalid_0's multi_logloss: 0.305687\n"
     ]
    },
    {
     "name": "stderr",
     "output_type": "stream",
     "text": [
      "[I 2025-05-15 16:59:01,368] Trial 7 finished with value: 0.8223689689354661 and parameters: {'learning_rate': 0.1622730392313499, 'num_leaves': 39, 'max_depth': 9, 'min_child_samples': 9, 'subsample': 0.7696401113604723, 'colsample_bytree': 0.6487382270233044}. Best is trial 3 with value: 0.8546464688156242.\n"
     ]
    },
    {
     "name": "stdout",
     "output_type": "stream",
     "text": [
      "Training until validation scores don't improve for 10 rounds\n",
      "Did not meet early stopping. Best iteration is:\n",
      "[100]\tvalid_0's multi_logloss: 0.272146\n"
     ]
    },
    {
     "name": "stderr",
     "output_type": "stream",
     "text": [
      "[I 2025-05-15 16:59:11,556] Trial 8 finished with value: 0.8378560564491652 and parameters: {'learning_rate': 0.15461197262750834, 'num_leaves': 79, 'max_depth': 12, 'min_child_samples': 84, 'subsample': 0.7401022826376837, 'colsample_bytree': 0.507921203822438}. Best is trial 3 with value: 0.8546464688156242.\n"
     ]
    },
    {
     "name": "stdout",
     "output_type": "stream",
     "text": [
      "Training until validation scores don't improve for 10 rounds\n",
      "Did not meet early stopping. Best iteration is:\n",
      "[100]\tvalid_0's multi_logloss: 0.287515\n"
     ]
    },
    {
     "name": "stderr",
     "output_type": "stream",
     "text": [
      "[I 2025-05-15 16:59:21,339] Trial 9 finished with value: 0.8282065306319608 and parameters: {'learning_rate': 0.1803859118758971, 'num_leaves': 45, 'max_depth': 13, 'min_child_samples': 35, 'subsample': 0.5372630403918018, 'colsample_bytree': 0.5912730342024725}. Best is trial 3 with value: 0.8546464688156242.\n"
     ]
    },
    {
     "name": "stdout",
     "output_type": "stream",
     "text": [
      "Training until validation scores don't improve for 10 rounds\n",
      "Did not meet early stopping. Best iteration is:\n",
      "[100]\tvalid_0's multi_logloss: 0.258736\n"
     ]
    },
    {
     "name": "stderr",
     "output_type": "stream",
     "text": [
      "[I 2025-05-15 16:59:29,369] Trial 10 finished with value: 0.845486777573264 and parameters: {'learning_rate': 0.29666522506304854, 'num_leaves': 133, 'max_depth': 7, 'min_child_samples': 66, 'subsample': 0.9600918932888958, 'colsample_bytree': 0.8379628309501393}. Best is trial 3 with value: 0.8546464688156242.\n"
     ]
    },
    {
     "name": "stdout",
     "output_type": "stream",
     "text": [
      "Training until validation scores don't improve for 10 rounds\n",
      "Did not meet early stopping. Best iteration is:\n",
      "[100]\tvalid_0's multi_logloss: 0.280501\n"
     ]
    },
    {
     "name": "stderr",
     "output_type": "stream",
     "text": [
      "[I 2025-05-15 16:59:35,517] Trial 11 finished with value: 0.8301973919831994 and parameters: {'learning_rate': 0.29642806341685496, 'num_leaves': 136, 'max_depth': 6, 'min_child_samples': 66, 'subsample': 0.9964186993180429, 'colsample_bytree': 0.842054903265213}. Best is trial 3 with value: 0.8546464688156242.\n"
     ]
    },
    {
     "name": "stdout",
     "output_type": "stream",
     "text": [
      "Training until validation scores don't improve for 10 rounds\n",
      "Did not meet early stopping. Best iteration is:\n",
      "[100]\tvalid_0's multi_logloss: 0.284625\n"
     ]
    },
    {
     "name": "stderr",
     "output_type": "stream",
     "text": [
      "[I 2025-05-15 16:59:41,877] Trial 12 finished with value: 0.8293478931717526 and parameters: {'learning_rate': 0.2900165094325923, 'num_leaves': 115, 'max_depth': 6, 'min_child_samples': 65, 'subsample': 0.997691356182548, 'colsample_bytree': 0.7922384987740422}. Best is trial 3 with value: 0.8546464688156242.\n"
     ]
    },
    {
     "name": "stdout",
     "output_type": "stream",
     "text": [
      "Training until validation scores don't improve for 10 rounds\n",
      "Did not meet early stopping. Best iteration is:\n",
      "[100]\tvalid_0's multi_logloss: 0.266091\n"
     ]
    },
    {
     "name": "stderr",
     "output_type": "stream",
     "text": [
      "[I 2025-05-15 16:59:49,833] Trial 13 finished with value: 0.8415951896167815 and parameters: {'learning_rate': 0.2468418110876237, 'num_leaves': 114, 'max_depth': 7, 'min_child_samples': 61, 'subsample': 0.9118484438556428, 'colsample_bytree': 0.9910896788513623}. Best is trial 3 with value: 0.8546464688156242.\n"
     ]
    },
    {
     "name": "stdout",
     "output_type": "stream",
     "text": [
      "Training until validation scores don't improve for 10 rounds\n"
     ]
    },
    {
     "name": "stderr",
     "output_type": "stream",
     "text": [
      "[I 2025-05-15 16:59:53,907] Trial 14 finished with value: 0.7293744969632107 and parameters: {'learning_rate': 0.24060533943806206, 'num_leaves': 118, 'max_depth': 3, 'min_child_samples': 78, 'subsample': 0.9100119160628646, 'colsample_bytree': 0.9273275074327596}. Best is trial 3 with value: 0.8546464688156242.\n"
     ]
    },
    {
     "name": "stdout",
     "output_type": "stream",
     "text": [
      "Did not meet early stopping. Best iteration is:\n",
      "[100]\tvalid_0's multi_logloss: 0.439189\n",
      "Training until validation scores don't improve for 10 rounds\n",
      "Did not meet early stopping. Best iteration is:\n",
      "[100]\tvalid_0's multi_logloss: 0.241699\n"
     ]
    },
    {
     "name": "stderr",
     "output_type": "stream",
     "text": [
      "[I 2025-05-15 17:00:02,825] Trial 15 finished with value: 0.8520055168482354 and parameters: {'learning_rate': 0.2486305513349375, 'num_leaves': 129, 'max_depth': 9, 'min_child_samples': 59, 'subsample': 0.9121001332728539, 'colsample_bytree': 0.7961230548114913}. Best is trial 3 with value: 0.8546464688156242.\n"
     ]
    },
    {
     "name": "stdout",
     "output_type": "stream",
     "text": [
      "Training until validation scores don't improve for 10 rounds\n",
      "Did not meet early stopping. Best iteration is:\n",
      "[100]\tvalid_0's multi_logloss: 0.244834\n"
     ]
    },
    {
     "name": "stderr",
     "output_type": "stream",
     "text": [
      "[I 2025-05-15 17:00:11,356] Trial 16 finished with value: 0.8492203892447561 and parameters: {'learning_rate': 0.24287026654404678, 'num_leaves': 100, 'max_depth': 10, 'min_child_samples': 29, 'subsample': 0.7182950189543522, 'colsample_bytree': 0.7688663543471315}. Best is trial 3 with value: 0.8546464688156242.\n"
     ]
    },
    {
     "name": "stdout",
     "output_type": "stream",
     "text": [
      "Training until validation scores don't improve for 10 rounds\n",
      "Did not meet early stopping. Best iteration is:\n",
      "[100]\tvalid_0's multi_logloss: 0.393543\n"
     ]
    },
    {
     "name": "stderr",
     "output_type": "stream",
     "text": [
      "[I 2025-05-15 17:00:18,839] Trial 17 finished with value: 0.7678372325796465 and parameters: {'learning_rate': 0.09746996691756685, 'num_leaves': 21, 'max_depth': 10, 'min_child_samples': 52, 'subsample': 0.8236424100163529, 'colsample_bytree': 0.5037942958517937}. Best is trial 3 with value: 0.8546464688156242.\n"
     ]
    },
    {
     "name": "stdout",
     "output_type": "stream",
     "text": [
      "Training until validation scores don't improve for 10 rounds\n",
      "Did not meet early stopping. Best iteration is:\n",
      "[100]\tvalid_0's multi_logloss: 0.233709\n"
     ]
    },
    {
     "name": "stderr",
     "output_type": "stream",
     "text": [
      "[I 2025-05-15 17:00:29,581] Trial 18 finished with value: 0.8564432971900285 and parameters: {'learning_rate': 0.22145023500321342, 'num_leaves': 147, 'max_depth': 15, 'min_child_samples': 75, 'subsample': 0.6573278816055506, 'colsample_bytree': 0.691194990871715}. Best is trial 18 with value: 0.8564432971900285.\n"
     ]
    },
    {
     "name": "stdout",
     "output_type": "stream",
     "text": [
      "Training until validation scores don't improve for 10 rounds\n",
      "Did not meet early stopping. Best iteration is:\n",
      "[100]\tvalid_0's multi_logloss: 0.233031\n"
     ]
    },
    {
     "name": "stderr",
     "output_type": "stream",
     "text": [
      "[I 2025-05-15 17:00:40,698] Trial 19 finished with value: 0.8555085440951102 and parameters: {'learning_rate': 0.21678015912302864, 'num_leaves': 150, 'max_depth': 15, 'min_child_samples': 74, 'subsample': 0.6630292012364244, 'colsample_bytree': 0.6722499751949929}. Best is trial 18 with value: 0.8564432971900285.\n"
     ]
    },
    {
     "name": "stdout",
     "output_type": "stream",
     "text": [
      "Training until validation scores don't improve for 10 rounds\n",
      "Did not meet early stopping. Best iteration is:\n",
      "[100]\tvalid_0's multi_logloss: 0.233646\n"
     ]
    },
    {
     "name": "stderr",
     "output_type": "stream",
     "text": [
      "[I 2025-05-15 17:00:52,027] Trial 20 finished with value: 0.8544923004053149 and parameters: {'learning_rate': 0.21609680508706455, 'num_leaves': 148, 'max_depth': 15, 'min_child_samples': 100, 'subsample': 0.6546127474576711, 'colsample_bytree': 0.702347170055928}. Best is trial 18 with value: 0.8564432971900285.\n"
     ]
    },
    {
     "name": "stdout",
     "output_type": "stream",
     "text": [
      "Training until validation scores don't improve for 10 rounds\n",
      "Did not meet early stopping. Best iteration is:\n",
      "[100]\tvalid_0's multi_logloss: 0.23414\n"
     ]
    },
    {
     "name": "stderr",
     "output_type": "stream",
     "text": [
      "[I 2025-05-15 17:01:03,775] Trial 21 finished with value: 0.8555392846101203 and parameters: {'learning_rate': 0.21716535310176807, 'num_leaves': 150, 'max_depth': 15, 'min_child_samples': 76, 'subsample': 0.6604150243081633, 'colsample_bytree': 0.6426834130525583}. Best is trial 18 with value: 0.8564432971900285.\n"
     ]
    },
    {
     "name": "stdout",
     "output_type": "stream",
     "text": [
      "Training until validation scores don't improve for 10 rounds\n",
      "Did not meet early stopping. Best iteration is:\n",
      "[100]\tvalid_0's multi_logloss: 0.234033\n"
     ]
    },
    {
     "name": "stderr",
     "output_type": "stream",
     "text": [
      "[I 2025-05-15 17:01:13,773] Trial 22 finished with value: 0.8567484802888685 and parameters: {'learning_rate': 0.21529263310729035, 'num_leaves': 150, 'max_depth': 15, 'min_child_samples': 74, 'subsample': 0.654626294771191, 'colsample_bytree': 0.656706829860911}. Best is trial 22 with value: 0.8567484802888685.\n"
     ]
    },
    {
     "name": "stdout",
     "output_type": "stream",
     "text": [
      "Training until validation scores don't improve for 10 rounds\n",
      "Did not meet early stopping. Best iteration is:\n",
      "[100]\tvalid_0's multi_logloss: 0.23189\n"
     ]
    },
    {
     "name": "stderr",
     "output_type": "stream",
     "text": [
      "[I 2025-05-15 17:01:23,485] Trial 23 finished with value: 0.8587478916251897 and parameters: {'learning_rate': 0.26607181395216234, 'num_leaves': 139, 'max_depth': 15, 'min_child_samples': 91, 'subsample': 0.6257440273173689, 'colsample_bytree': 0.7410663426257897}. Best is trial 23 with value: 0.8587478916251897.\n"
     ]
    },
    {
     "name": "stdout",
     "output_type": "stream",
     "text": [
      "Training until validation scores don't improve for 10 rounds\n",
      "Did not meet early stopping. Best iteration is:\n",
      "[100]\tvalid_0's multi_logloss: 0.237499\n"
     ]
    },
    {
     "name": "stderr",
     "output_type": "stream",
     "text": [
      "[I 2025-05-15 17:01:32,998] Trial 24 finished with value: 0.8532200002286441 and parameters: {'learning_rate': 0.2685736029651022, 'num_leaves': 106, 'max_depth': 14, 'min_child_samples': 90, 'subsample': 0.6063344726990332, 'colsample_bytree': 0.7340551818430474}. Best is trial 23 with value: 0.8587478916251897.\n"
     ]
    },
    {
     "name": "stdout",
     "output_type": "stream",
     "text": [
      "Training until validation scores don't improve for 10 rounds\n",
      "Did not meet early stopping. Best iteration is:\n",
      "[100]\tvalid_0's multi_logloss: 0.232836\n"
     ]
    },
    {
     "name": "stderr",
     "output_type": "stream",
     "text": [
      "[I 2025-05-15 17:01:42,149] Trial 25 finished with value: 0.8561354146257469 and parameters: {'learning_rate': 0.2702318262961831, 'num_leaves': 128, 'max_depth': 13, 'min_child_samples': 92, 'subsample': 0.6964549127817921, 'colsample_bytree': 0.7487384964018898}. Best is trial 23 with value: 0.8587478916251897.\n"
     ]
    },
    {
     "name": "stdout",
     "output_type": "stream",
     "text": [
      "Training until validation scores don't improve for 10 rounds\n",
      "Did not meet early stopping. Best iteration is:\n",
      "[100]\tvalid_0's multi_logloss: 0.230678\n"
     ]
    },
    {
     "name": "stderr",
     "output_type": "stream",
     "text": [
      "[I 2025-05-15 17:01:53,862] Trial 26 finished with value: 0.8576453984528057 and parameters: {'learning_rate': 0.26536373729001606, 'num_leaves': 139, 'max_depth': 15, 'min_child_samples': 72, 'subsample': 0.6263858270902426, 'colsample_bytree': 0.6707493814307928}. Best is trial 23 with value: 0.8587478916251897.\n"
     ]
    },
    {
     "name": "stdout",
     "output_type": "stream",
     "text": [
      "Training until validation scores don't improve for 10 rounds\n",
      "Did not meet early stopping. Best iteration is:\n",
      "[100]\tvalid_0's multi_logloss: 0.233736\n"
     ]
    },
    {
     "name": "stderr",
     "output_type": "stream",
     "text": [
      "[I 2025-05-15 17:02:05,028] Trial 27 finished with value: 0.8572102100183625 and parameters: {'learning_rate': 0.2708123286468255, 'num_leaves': 138, 'max_depth': 14, 'min_child_samples': 83, 'subsample': 0.5945469511492614, 'colsample_bytree': 0.622119906248157}. Best is trial 23 with value: 0.8587478916251897.\n"
     ]
    },
    {
     "name": "stdout",
     "output_type": "stream",
     "text": [
      "Training until validation scores don't improve for 10 rounds\n",
      "Did not meet early stopping. Best iteration is:\n",
      "[100]\tvalid_0's multi_logloss: 0.240152\n"
     ]
    },
    {
     "name": "stderr",
     "output_type": "stream",
     "text": [
      "[I 2025-05-15 17:02:15,014] Trial 28 finished with value: 0.8531044176156921 and parameters: {'learning_rate': 0.26443982655154114, 'num_leaves': 105, 'max_depth': 11, 'min_child_samples': 84, 'subsample': 0.6029051268635752, 'colsample_bytree': 0.6210512533967548}. Best is trial 23 with value: 0.8587478916251897.\n"
     ]
    },
    {
     "name": "stdout",
     "output_type": "stream",
     "text": [
      "Training until validation scores don't improve for 10 rounds\n",
      "Did not meet early stopping. Best iteration is:\n",
      "[100]\tvalid_0's multi_logloss: 0.454933\n"
     ]
    },
    {
     "name": "stderr",
     "output_type": "stream",
     "text": [
      "[I 2025-05-15 17:02:27,124] Trial 29 finished with value: 0.7700453126643041 and parameters: {'learning_rate': 0.027916380396121043, 'num_leaves': 74, 'max_depth': 14, 'min_child_samples': 92, 'subsample': 0.5739812381093055, 'colsample_bytree': 0.534667546463284}. Best is trial 23 with value: 0.8587478916251897.\n"
     ]
    },
    {
     "name": "stdout",
     "output_type": "stream",
     "text": [
      "Best params: {'learning_rate': 0.26607181395216234, 'num_leaves': 139, 'max_depth': 15, 'min_child_samples': 91, 'subsample': 0.6257440273173689, 'colsample_bytree': 0.7410663426257897}\n"
     ]
    }
   ],
   "source": [
    "import optuna\n",
    "from sklearn.metrics import f1_score\n",
    "import lightgbm as lgb\n",
    "\n",
    "def objective(trial):\n",
    "    param = {\n",
    "        'objective': 'multiclass',\n",
    "        'metric': 'multi_logloss',\n",
    "        'num_class': y.nunique(),\n",
    "        'verbosity': -1,\n",
    "        'boosting_type': 'gbdt',\n",
    "        'learning_rate': trial.suggest_float('learning_rate', 0.01, 0.3),\n",
    "        'num_leaves': trial.suggest_int('num_leaves', 20, 150),\n",
    "        'max_depth': trial.suggest_int('max_depth', 3, 15),\n",
    "        'min_child_samples': trial.suggest_int('min_child_samples', 5, 100),\n",
    "        'subsample': trial.suggest_float('subsample', 0.5, 1.0),\n",
    "        'colsample_bytree': trial.suggest_float('colsample_bytree', 0.5, 1.0),\n",
    "    }\n",
    "\n",
    "    dtrain = lgb.Dataset(X_train_resampled, label=y_train_resampled)\n",
    "    dvalid = lgb.Dataset(X_test, label=y_test, reference=dtrain)\n",
    "\n",
    "    model = lgb.train(param, dtrain, valid_sets=[dvalid], num_boost_round=100,\n",
    "                      callbacks=[\n",
    "                          lgb.early_stopping(10),\n",
    "                          lgb.log_evaluation(0)  # ← 表示したいなら 10 にする\n",
    "                      ])\n",
    "\n",
    "    preds = model.predict(X_test).argmax(axis=1)\n",
    "    f1 = f1_score(y_test, preds, average='macro')\n",
    "    return f1\n",
    "\n",
    "\n",
    "study = optuna.create_study(direction='maximize')\n",
    "study.optimize(objective, n_trials=30)  # 試行回数は必要に応じて増やす\n",
    "\n",
    "print(\"Best params:\", study.best_trial.params)\n"
   ]
  },
  {
   "cell_type": "code",
   "execution_count": 30,
   "id": "83ba3fe1",
   "metadata": {},
   "outputs": [
    {
     "name": "stdout",
     "output_type": "stream",
     "text": [
      "Training until validation scores don't improve for 10 rounds\n",
      "[10]\ttraining's multi_logloss: 0.308519\tvalid_1's multi_logloss: 0.394209\n",
      "[20]\ttraining's multi_logloss: 0.217106\tvalid_1's multi_logloss: 0.306871\n",
      "[30]\ttraining's multi_logloss: 0.1816\tvalid_1's multi_logloss: 0.276042\n",
      "[40]\ttraining's multi_logloss: 0.161035\tvalid_1's multi_logloss: 0.261638\n",
      "[50]\ttraining's multi_logloss: 0.147394\tvalid_1's multi_logloss: 0.253529\n",
      "[60]\ttraining's multi_logloss: 0.135146\tvalid_1's multi_logloss: 0.245624\n",
      "[70]\ttraining's multi_logloss: 0.125732\tvalid_1's multi_logloss: 0.240431\n",
      "[80]\ttraining's multi_logloss: 0.118334\tvalid_1's multi_logloss: 0.23664\n",
      "[90]\ttraining's multi_logloss: 0.113001\tvalid_1's multi_logloss: 0.234469\n",
      "[100]\ttraining's multi_logloss: 0.107731\tvalid_1's multi_logloss: 0.23189\n",
      "[110]\ttraining's multi_logloss: 0.10265\tvalid_1's multi_logloss: 0.229795\n",
      "[120]\ttraining's multi_logloss: 0.098603\tvalid_1's multi_logloss: 0.228834\n",
      "[130]\ttraining's multi_logloss: 0.0948122\tvalid_1's multi_logloss: 0.227677\n",
      "[140]\ttraining's multi_logloss: 0.0912036\tvalid_1's multi_logloss: 0.226793\n",
      "[150]\ttraining's multi_logloss: 0.0878964\tvalid_1's multi_logloss: 0.226076\n",
      "[160]\ttraining's multi_logloss: 0.0849984\tvalid_1's multi_logloss: 0.225112\n",
      "[170]\ttraining's multi_logloss: 0.0825747\tvalid_1's multi_logloss: 0.224619\n",
      "[180]\ttraining's multi_logloss: 0.0800498\tvalid_1's multi_logloss: 0.224108\n",
      "[190]\ttraining's multi_logloss: 0.0776519\tvalid_1's multi_logloss: 0.223647\n",
      "[200]\ttraining's multi_logloss: 0.0755568\tvalid_1's multi_logloss: 0.223132\n",
      "Did not meet early stopping. Best iteration is:\n",
      "[199]\ttraining's multi_logloss: 0.0757561\tvalid_1's multi_logloss: 0.223079\n",
      "📊 Classification Report (ベストパラメータ適用後)\n",
      "                 precision    recall  f1-score   support\n",
      "\n",
      "    benign (정상)       0.95      0.94      0.95     55444\n",
      "defacement (악성)       0.94      0.98      0.96      8556\n",
      "  phishing (피싱)       0.65      0.68      0.66      9293\n",
      "  malware (멀웨어)       0.89      0.88      0.89       979\n",
      "\n",
      "       accuracy                           0.91     74272\n",
      "      macro avg       0.86      0.87      0.86     74272\n",
      "   weighted avg       0.91      0.91      0.91     74272\n",
      "\n",
      "🧩 Confusion Matrix\n",
      "[[52130    98  3192    24]\n",
      " [   58  8391    85    22]\n",
      " [ 2546   414  6274    59]\n",
      " [   30    39    45   865]]\n"
     ]
    },
    {
     "data": {
      "text/plain": [
       "<Axes: title={'center': 'Feature importance'}, xlabel='Feature importance', ylabel='Features'>"
      ]
     },
     "execution_count": 30,
     "metadata": {},
     "output_type": "execute_result"
    },
    {
     "data": {
      "image/png": "[encoded data removed]",
      "text/plain": [
       "<Figure size 640x480 with 1 Axes>"
      ]
     },
     "metadata": {},
     "output_type": "display_data"
    }
   ],
   "source": [
    "# 1. ベストパラメータを取得\n",
    "best_params = study.best_trial.params\n",
    "\n",
    "# 2. 必須のパラメータを明示的に追加\n",
    "best_params.update({\n",
    "    'objective': 'multiclass',\n",
    "    'metric': 'multi_logloss',\n",
    "    'num_class': y.nunique(),\n",
    "    'verbosity': -1,\n",
    "})\n",
    "\n",
    "# 3. データセット定義（再利用）\n",
    "dtrain = lgb.Dataset(X_train_resampled, label=y_train_resampled)\n",
    "dtest = lgb.Dataset(X_test, label=y_test)\n",
    "\n",
    "# 4. LightGBM 学習（ベストパラメータで）\n",
    "model = lgb.train(\n",
    "    best_params,\n",
    "    dtrain,\n",
    "    valid_sets=[dtrain, dtest],\n",
    "    num_boost_round=200,\n",
    "    callbacks=[\n",
    "        lgb.early_stopping(10),\n",
    "        lgb.log_evaluation(10)\n",
    "    ]\n",
    ")\n",
    "\n",
    "# 5. 予測と評価\n",
    "y_pred_proba = model.predict(X_test)\n",
    "y_pred = y_pred_proba.argmax(axis=1)\n",
    "\n",
    "print(\"📊 Classification Report (ベストパラメータ適用後)\")\n",
    "print(classification_report(y_test, y_pred, target_names=[\n",
    "    \"benign (정상)\", \"defacement (악성)\", \"phishing (피싱)\", \"malware (멀웨어)\"\n",
    "]))\n",
    "\n",
    "print(\"🧩 Confusion Matrix\")\n",
    "print(confusion_matrix(y_test, y_pred))\n",
    "\n",
    "# 6. 特徴量重要度プロット\n",
    "lgb.plot_importance(model, max_num_features=20)\n"
   ]
  }
 ],
 "metadata": {
  "kernelspec": {
   "display_name": "Python 3",
   "language": "python",
   "name": "python3"
  },
  "language_info": {
   "codemirror_mode": {
    "name": "ipython",
    "version": 3
   },
   "file_extension": ".py",
   "mimetype": "text/x-python",
   "name": "python",
   "nbconvert_exporter": "python",
   "pygments_lexer": "ipython3",
   "version": "3.10.2"
  }
 },
 "nbformat": 4,
 "nbformat_minor": 5
}
