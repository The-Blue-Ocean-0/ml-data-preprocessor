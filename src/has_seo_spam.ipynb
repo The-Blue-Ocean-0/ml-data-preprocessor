{
 "cells": [
  {
   "cell_type": "code",
   "execution_count": 13,
   "id": "47257f5c",
   "metadata": {},
   "outputs": [
    {
     "name": "stderr",
     "output_type": "stream",
     "text": [
      "[nltk_data] Downloading package stopwords to\n",
      "[nltk_data]     C:\\Users\\taka2\\AppData\\Roaming\\nltk_data...\n",
      "[nltk_data]   Package stopwords is already up-to-date!\n"
     ]
    }
   ],
   "source": [
    "import pandas as pd\n",
    "import ast\n",
    "import re\n",
    "from collections import Counter\n",
    "import nltk\n",
    "from nltk.corpus import stopwords\n",
    "nltk.download('stopwords')\n",
    "\n",
    "# 英語のstopwordsセットを用意\n",
    "stop_words = set(stopwords.words('english'))"
   ]
  },
  {
   "cell_type": "code",
   "execution_count": 14,
   "id": "cd50926a",
   "metadata": {},
   "outputs": [
    {
     "name": "stderr",
     "output_type": "stream",
     "text": [
      "C:\\Users\\taka2\\AppData\\Local\\Temp\\ipykernel_20488\\2164475089.py:1: DtypeWarning: Columns (13) have mixed types. Specify dtype option on import or set low_memory=False.\n",
      "  df = pd.read_csv('../data/merged_output.csv')\n"
     ]
    }
   ],
   "source": [
    "df = pd.read_csv('../data/merged_output.csv')"
   ]
  },
  {
   "cell_type": "code",
   "execution_count": 16,
   "id": "99437086",
   "metadata": {},
   "outputs": [
    {
     "data": {
      "application/vnd.microsoft.datawrangler.viewer.v0+json": {
       "columns": [
        {
         "name": "index",
         "rawType": "int64",
         "type": "integer"
        },
        {
         "name": "Unnamed: 0",
         "rawType": "int64",
         "type": "integer"
        },
        {
         "name": "url",
         "rawType": "object",
         "type": "string"
        },
        {
         "name": "type",
         "rawType": "object",
         "type": "string"
        },
        {
         "name": "original_url",
         "rawType": "object",
         "type": "string"
        },
        {
         "name": "url_type",
         "rawType": "int64",
         "type": "integer"
        },
        {
         "name": "url_len",
         "rawType": "int64",
         "type": "integer"
        },
        {
         "name": "pri_domain",
         "rawType": "object",
         "type": "string"
        },
        {
         "name": "letters_count",
         "rawType": "int64",
         "type": "integer"
        },
        {
         "name": "digits_count",
         "rawType": "int64",
         "type": "integer"
        },
        {
         "name": "special_chars_count",
         "rawType": "int64",
         "type": "integer"
        },
        {
         "name": "shortened",
         "rawType": "int64",
         "type": "integer"
        },
        {
         "name": "is_domain_in_url",
         "rawType": "int64",
         "type": "integer"
        },
        {
         "name": "secure_http",
         "rawType": "int64",
         "type": "integer"
        },
        {
         "name": "have_ip",
         "rawType": "object",
         "type": "string"
        },
        {
         "name": "url_region",
         "rawType": "object",
         "type": "string"
        },
        {
         "name": "root_domain",
         "rawType": "object",
         "type": "string"
        },
        {
         "name": "original_url.1",
         "rawType": "object",
         "type": "string"
        },
        {
         "name": "final_url",
         "rawType": "object",
         "type": "string"
        },
        {
         "name": "redirect_chain",
         "rawType": "object",
         "type": "unknown"
        },
        {
         "name": "redirect_count",
         "rawType": "int64",
         "type": "integer"
        },
        {
         "name": "head_elements",
         "rawType": "object",
         "type": "unknown"
        },
        {
         "name": "timeout",
         "rawType": "bool",
         "type": "boolean"
        },
        {
         "name": "has_meta_refresh",
         "rawType": "bool",
         "type": "boolean"
        },
        {
         "name": "meta_refresh_url",
         "rawType": "object",
         "type": "unknown"
        },
        {
         "name": "duration_sec",
         "rawType": "float64",
         "type": "float"
        }
       ],
       "ref": "d60d3700-9179-45ee-9ed3-3abaf21a0d57",
       "rows": [
        [
         "0",
         "0",
         "br-icloud.com.br",
         "phishing",
         "br-icloud.com.br",
         "2",
         "16",
         "br-icloud.com.br",
         "13",
         "0",
         "3",
         "0",
         "0",
         "0",
         "0",
         "Brazil",
         "br-icloud",
         "http://br-icloud.com.br",
         "http://br-icloud.com.br/",
         null,
         "0",
         null,
         "False",
         "False",
         null,
         "4.55"
        ],
        [
         "1",
         "1",
         "mp3raid.com/music/krizz_kaliko.html",
         "benign",
         "mp3raid.com/music/krizz_kaliko.html",
         "0",
         "35",
         "mp3raid.com",
         "29",
         "1",
         "5",
         "0",
         "0",
         "0",
         "0",
         "Global",
         "mp3raid",
         "http://mp3raid.com/music/krizz_kaliko.html",
         "http://mp3raid.com/music/krizz_kaliko.html",
         null,
         "0",
         null,
         "False",
         "False",
         null,
         "2.78"
        ],
        [
         "2",
         "2",
         "bopsecrets.org/rexroth/cr/1.htm",
         "benign",
         "bopsecrets.org/rexroth/cr/1.htm",
         "0",
         "31",
         "bopsecrets.org",
         "25",
         "1",
         "5",
         "0",
         "0",
         "0",
         "0",
         "Global",
         "bopsecrets",
         "http://bopsecrets.org/rexroth/cr/1.htm",
         "https://bopsecrets.org/rexroth/cr/1.htm",
         "[{\"url\": \"http://bopsecrets.org/rexroth/cr/1.htm\", \"status\": 301, \"location\": \"https://bopsecrets.org/rexroth/cr/1.htm\"}]",
         "1",
         "[{'tag': 'meta', 'attributes': {'http-equiv': 'content-type', 'content': 'text/html; charset=utf-8'}, 'text': ''}, {'tag': 'title', 'attributes': {}, 'text': 'Classics Revisited (1)'}, {'tag': 'meta', 'attributes': {'name': 'author', 'content': 'Kenneth Rexroth'}, 'text': ''}, {'tag': 'meta', 'attributes': {'name': 'keywords', 'content': ''}, 'text': ''}, {'tag': 'meta', 'attributes': {'name': 'description', 'content': ''}, 'text': ''}, {'tag': 'meta', 'attributes': {'http-equiv': 'Content-Type', 'content': 'text/html; charset=utf-8'}, 'text': ''}, {'tag': 'meta', 'attributes': {'http-equiv': 'Content-Language', 'content': 'en-us'}, 'text': ''}, {'tag': 'meta', 'attributes': {'name': 'viewport', 'content': 'width=device-width, initial-scale=1.0'}, 'text': ''}, {'tag': 'link', 'attributes': {'rel': 'stylesheet', 'href': '../../css/rexroth.css'}, 'text': ''}]",
         "False",
         "False",
         null,
         "6.41"
        ],
        [
         "3",
         "3",
         "http://garage-pirenne.be/index.php?option=com_content&view=article&id=70&vsig70_0=15",
         "defacement",
         "http://www.garage-pirenne.be/index.php?option=com_content&view=article&id=70&vsig70_0=15",
         "1",
         "77",
         "garage-pirenne.be",
         "60",
         "7",
         "17",
         "0",
         "1",
         "0",
         "0",
         "Belgium",
         "garage-pirenne",
         "http://www.garage-pirenne.be/index.php?option=com_content&view=article&id=70&vsig70_0=15",
         "http://www.garage-pirenne.be/index.php?option=com_content&view=article&id=70&vsig70_0=15",
         null,
         "0",
         null,
         "False",
         "False",
         null,
         "4.71"
        ],
        [
         "4",
         "4",
         "http://adventure-nicaragua.net/index.php?option=com_mailto&tmpl=component&link=aHR0cDovL2FkdmVudHVyZS1uaWNhcmFndWEubmV0L2luZGV4LnBocD9vcHRpb249Y29tX2NvbnRlbnQmdmlldz1hcnRpY2xlJmlkPTQ3OmFib3V0JmNhdGlkPTM2OmRlbW8tYXJ0aWNsZXMmSXRlbWlkPTU0",
         "defacement",
         "http://adventure-nicaragua.net/index.php?option=com_mailto&tmpl=component&link=aHR0cDovL2FkdmVudHVyZS1uaWNhcmFndWEubmV0L2luZGV4LnBocD9vcHRpb249Y29tX2NvbnRlbnQmdmlldz1hcnRpY2xlJmlkPTQ3OmFib3V0JmNhdGlkPTM2OmRlbW8tYXJ0aWNsZXMmSXRlbWlkPTU0",
         "1",
         "228",
         "adventure-nicaragua.net",
         "199",
         "22",
         "14",
         "0",
         "1",
         "0",
         "0",
         "Global",
         "adventure-nicaragua",
         "http://adventure-nicaragua.net/index.php?option=com_mailto&tmpl=component&link=aHR0cDovL2FkdmVudHVyZS1uaWNhcmFndWEubmV0L2luZGV4LnBocD9vcHRpb249Y29tX2NvbnRlbnQmdmlldz1hcnRpY2xlJmlkPTQ3OmFib3V0JmNhdGlkPTM2OmRlbW8tYXJ0aWNsZXMmSXRlbWlkPTU0",
         "http://adventure-nicaragua.net/index.php?option=com_mailto&tmpl=component&link=aHR0cDovL2FkdmVudHVyZS1uaWNhcmFndWEubmV0L2luZGV4LnBocD9vcHRpb249Y29tX2NvbnRlbnQmdmlldz1hcnRpY2xlJmlkPTQ3OmFib3V0JmNhdGlkPTM2OmRlbW8tYXJ0aWNsZXMmSXRlbWlkPTU0",
         null,
         "0",
         null,
         "False",
         "True",
         "http://adventure-nicaragua.net/index.php?option=com_mailto&tmpl=component&link=aHR0cDovL2FkdmVudHVyZS1uaWNhcmFndWEubmV0L2luZGV4LnBocD9vcHRpb249Y29tX2NvbnRlbnQmdmlldz1hcnRpY2xlJmlkPTQ3OmFib3V0JmNhdGlkPTM2OmRlbW8tYXJ0aWNsZXMmSXRlbWlkPTU0&fp=-5",
         "4.51"
        ]
       ],
       "shape": {
        "columns": 25,
        "rows": 5
       }
      },
      "text/html": [
       "<div>\n",
       "<style scoped>\n",
       "    .dataframe tbody tr th:only-of-type {\n",
       "        vertical-align: middle;\n",
       "    }\n",
       "\n",
       "    .dataframe tbody tr th {\n",
       "        vertical-align: top;\n",
       "    }\n",
       "\n",
       "    .dataframe thead th {\n",
       "        text-align: right;\n",
       "    }\n",
       "</style>\n",
       "<table border=\"1\" class=\"dataframe\">\n",
       "  <thead>\n",
       "    <tr style=\"text-align: right;\">\n",
       "      <th></th>\n",
       "      <th>Unnamed: 0</th>\n",
       "      <th>url</th>\n",
       "      <th>type</th>\n",
       "      <th>original_url</th>\n",
       "      <th>url_type</th>\n",
       "      <th>url_len</th>\n",
       "      <th>pri_domain</th>\n",
       "      <th>letters_count</th>\n",
       "      <th>digits_count</th>\n",
       "      <th>special_chars_count</th>\n",
       "      <th>...</th>\n",
       "      <th>root_domain</th>\n",
       "      <th>original_url.1</th>\n",
       "      <th>final_url</th>\n",
       "      <th>redirect_chain</th>\n",
       "      <th>redirect_count</th>\n",
       "      <th>head_elements</th>\n",
       "      <th>timeout</th>\n",
       "      <th>has_meta_refresh</th>\n",
       "      <th>meta_refresh_url</th>\n",
       "      <th>duration_sec</th>\n",
       "    </tr>\n",
       "  </thead>\n",
       "  <tbody>\n",
       "    <tr>\n",
       "      <th>0</th>\n",
       "      <td>0</td>\n",
       "      <td>br-icloud.com.br</td>\n",
       "      <td>phishing</td>\n",
       "      <td>br-icloud.com.br</td>\n",
       "      <td>2</td>\n",
       "      <td>16</td>\n",
       "      <td>br-icloud.com.br</td>\n",
       "      <td>13</td>\n",
       "      <td>0</td>\n",
       "      <td>3</td>\n",
       "      <td>...</td>\n",
       "      <td>br-icloud</td>\n",
       "      <td>http://br-icloud.com.br</td>\n",
       "      <td>http://br-icloud.com.br/</td>\n",
       "      <td>NaN</td>\n",
       "      <td>0</td>\n",
       "      <td>NaN</td>\n",
       "      <td>False</td>\n",
       "      <td>False</td>\n",
       "      <td>NaN</td>\n",
       "      <td>4.55</td>\n",
       "    </tr>\n",
       "    <tr>\n",
       "      <th>1</th>\n",
       "      <td>1</td>\n",
       "      <td>mp3raid.com/music/krizz_kaliko.html</td>\n",
       "      <td>benign</td>\n",
       "      <td>mp3raid.com/music/krizz_kaliko.html</td>\n",
       "      <td>0</td>\n",
       "      <td>35</td>\n",
       "      <td>mp3raid.com</td>\n",
       "      <td>29</td>\n",
       "      <td>1</td>\n",
       "      <td>5</td>\n",
       "      <td>...</td>\n",
       "      <td>mp3raid</td>\n",
       "      <td>http://mp3raid.com/music/krizz_kaliko.html</td>\n",
       "      <td>http://mp3raid.com/music/krizz_kaliko.html</td>\n",
       "      <td>NaN</td>\n",
       "      <td>0</td>\n",
       "      <td>NaN</td>\n",
       "      <td>False</td>\n",
       "      <td>False</td>\n",
       "      <td>NaN</td>\n",
       "      <td>2.78</td>\n",
       "    </tr>\n",
       "    <tr>\n",
       "      <th>2</th>\n",
       "      <td>2</td>\n",
       "      <td>bopsecrets.org/rexroth/cr/1.htm</td>\n",
       "      <td>benign</td>\n",
       "      <td>bopsecrets.org/rexroth/cr/1.htm</td>\n",
       "      <td>0</td>\n",
       "      <td>31</td>\n",
       "      <td>bopsecrets.org</td>\n",
       "      <td>25</td>\n",
       "      <td>1</td>\n",
       "      <td>5</td>\n",
       "      <td>...</td>\n",
       "      <td>bopsecrets</td>\n",
       "      <td>http://bopsecrets.org/rexroth/cr/1.htm</td>\n",
       "      <td>https://bopsecrets.org/rexroth/cr/1.htm</td>\n",
       "      <td>[{\"url\": \"http://bopsecrets.org/rexroth/cr/1.h...</td>\n",
       "      <td>1</td>\n",
       "      <td>[{'tag': 'meta', 'attributes': {'http-equiv': ...</td>\n",
       "      <td>False</td>\n",
       "      <td>False</td>\n",
       "      <td>NaN</td>\n",
       "      <td>6.41</td>\n",
       "    </tr>\n",
       "    <tr>\n",
       "      <th>3</th>\n",
       "      <td>3</td>\n",
       "      <td>http://garage-pirenne.be/index.php?option=com_...</td>\n",
       "      <td>defacement</td>\n",
       "      <td>http://www.garage-pirenne.be/index.php?option=...</td>\n",
       "      <td>1</td>\n",
       "      <td>77</td>\n",
       "      <td>garage-pirenne.be</td>\n",
       "      <td>60</td>\n",
       "      <td>7</td>\n",
       "      <td>17</td>\n",
       "      <td>...</td>\n",
       "      <td>garage-pirenne</td>\n",
       "      <td>http://www.garage-pirenne.be/index.php?option=...</td>\n",
       "      <td>http://www.garage-pirenne.be/index.php?option=...</td>\n",
       "      <td>NaN</td>\n",
       "      <td>0</td>\n",
       "      <td>NaN</td>\n",
       "      <td>False</td>\n",
       "      <td>False</td>\n",
       "      <td>NaN</td>\n",
       "      <td>4.71</td>\n",
       "    </tr>\n",
       "    <tr>\n",
       "      <th>4</th>\n",
       "      <td>4</td>\n",
       "      <td>http://adventure-nicaragua.net/index.php?optio...</td>\n",
       "      <td>defacement</td>\n",
       "      <td>http://adventure-nicaragua.net/index.php?optio...</td>\n",
       "      <td>1</td>\n",
       "      <td>228</td>\n",
       "      <td>adventure-nicaragua.net</td>\n",
       "      <td>199</td>\n",
       "      <td>22</td>\n",
       "      <td>14</td>\n",
       "      <td>...</td>\n",
       "      <td>adventure-nicaragua</td>\n",
       "      <td>http://adventure-nicaragua.net/index.php?optio...</td>\n",
       "      <td>http://adventure-nicaragua.net/index.php?optio...</td>\n",
       "      <td>NaN</td>\n",
       "      <td>0</td>\n",
       "      <td>NaN</td>\n",
       "      <td>False</td>\n",
       "      <td>True</td>\n",
       "      <td>http://adventure-nicaragua.net/index.php?optio...</td>\n",
       "      <td>4.51</td>\n",
       "    </tr>\n",
       "  </tbody>\n",
       "</table>\n",
       "<p>5 rows × 25 columns</p>\n",
       "</div>"
      ],
      "text/plain": [
       "   Unnamed: 0                                                url        type  \\\n",
       "0           0                                   br-icloud.com.br    phishing   \n",
       "1           1                mp3raid.com/music/krizz_kaliko.html      benign   \n",
       "2           2                    bopsecrets.org/rexroth/cr/1.htm      benign   \n",
       "3           3  http://garage-pirenne.be/index.php?option=com_...  defacement   \n",
       "4           4  http://adventure-nicaragua.net/index.php?optio...  defacement   \n",
       "\n",
       "                                        original_url  url_type  url_len  \\\n",
       "0                                   br-icloud.com.br         2       16   \n",
       "1                mp3raid.com/music/krizz_kaliko.html         0       35   \n",
       "2                    bopsecrets.org/rexroth/cr/1.htm         0       31   \n",
       "3  http://www.garage-pirenne.be/index.php?option=...         1       77   \n",
       "4  http://adventure-nicaragua.net/index.php?optio...         1      228   \n",
       "\n",
       "                pri_domain  letters_count  digits_count  special_chars_count  \\\n",
       "0         br-icloud.com.br             13             0                    3   \n",
       "1              mp3raid.com             29             1                    5   \n",
       "2           bopsecrets.org             25             1                    5   \n",
       "3        garage-pirenne.be             60             7                   17   \n",
       "4  adventure-nicaragua.net            199            22                   14   \n",
       "\n",
       "   ...          root_domain  \\\n",
       "0  ...            br-icloud   \n",
       "1  ...              mp3raid   \n",
       "2  ...           bopsecrets   \n",
       "3  ...       garage-pirenne   \n",
       "4  ...  adventure-nicaragua   \n",
       "\n",
       "                                      original_url.1  \\\n",
       "0                            http://br-icloud.com.br   \n",
       "1         http://mp3raid.com/music/krizz_kaliko.html   \n",
       "2             http://bopsecrets.org/rexroth/cr/1.htm   \n",
       "3  http://www.garage-pirenne.be/index.php?option=...   \n",
       "4  http://adventure-nicaragua.net/index.php?optio...   \n",
       "\n",
       "                                           final_url  \\\n",
       "0                           http://br-icloud.com.br/   \n",
       "1         http://mp3raid.com/music/krizz_kaliko.html   \n",
       "2            https://bopsecrets.org/rexroth/cr/1.htm   \n",
       "3  http://www.garage-pirenne.be/index.php?option=...   \n",
       "4  http://adventure-nicaragua.net/index.php?optio...   \n",
       "\n",
       "                                      redirect_chain redirect_count  \\\n",
       "0                                                NaN              0   \n",
       "1                                                NaN              0   \n",
       "2  [{\"url\": \"http://bopsecrets.org/rexroth/cr/1.h...              1   \n",
       "3                                                NaN              0   \n",
       "4                                                NaN              0   \n",
       "\n",
       "                                       head_elements timeout has_meta_refresh  \\\n",
       "0                                                NaN   False            False   \n",
       "1                                                NaN   False            False   \n",
       "2  [{'tag': 'meta', 'attributes': {'http-equiv': ...   False            False   \n",
       "3                                                NaN   False            False   \n",
       "4                                                NaN   False             True   \n",
       "\n",
       "                                    meta_refresh_url  duration_sec  \n",
       "0                                                NaN          4.55  \n",
       "1                                                NaN          2.78  \n",
       "2                                                NaN          6.41  \n",
       "3                                                NaN          4.71  \n",
       "4  http://adventure-nicaragua.net/index.php?optio...          4.51  \n",
       "\n",
       "[5 rows x 25 columns]"
      ]
     },
     "execution_count": 16,
     "metadata": {},
     "output_type": "execute_result"
    }
   ],
   "source": [
    "df.head()"
   ]
  },
  {
   "cell_type": "code",
   "execution_count": 17,
   "id": "381b11c1",
   "metadata": {},
   "outputs": [
    {
     "name": "stdout",
     "output_type": "stream",
     "text": [
      "<class 'pandas.core.frame.DataFrame'>\n",
      "RangeIndex: 617125 entries, 0 to 617124\n",
      "Data columns (total 25 columns):\n",
      " #   Column               Non-Null Count   Dtype  \n",
      "---  ------               --------------   -----  \n",
      " 0   Unnamed: 0           617125 non-null  int64  \n",
      " 1   url                  617125 non-null  object \n",
      " 2   type                 617125 non-null  object \n",
      " 3   original_url         617125 non-null  object \n",
      " 4   url_type             617125 non-null  int64  \n",
      " 5   url_len              617125 non-null  int64  \n",
      " 6   pri_domain           617125 non-null  object \n",
      " 7   letters_count        617125 non-null  int64  \n",
      " 8   digits_count         617125 non-null  int64  \n",
      " 9   special_chars_count  617125 non-null  int64  \n",
      " 10  shortened            617125 non-null  int64  \n",
      " 11  is_domain_in_url     617125 non-null  int64  \n",
      " 12  secure_http          617125 non-null  int64  \n",
      " 13  have_ip              617125 non-null  object \n",
      " 14  url_region           617125 non-null  object \n",
      " 15  root_domain          616979 non-null  object \n",
      " 16  original_url.1       617125 non-null  object \n",
      " 17  final_url            407537 non-null  object \n",
      " 18  redirect_chain       317022 non-null  object \n",
      " 19  redirect_count       617125 non-null  int64  \n",
      " 20  head_elements        371357 non-null  object \n",
      " 21  timeout              617125 non-null  bool   \n",
      " 22  has_meta_refresh     617125 non-null  bool   \n",
      " 23  meta_refresh_url     7639 non-null    object \n",
      " 24  duration_sec         617125 non-null  float64\n",
      "dtypes: bool(2), float64(1), int64(10), object(12)\n",
      "memory usage: 109.5+ MB\n"
     ]
    }
   ],
   "source": [
    "df.info()"
   ]
  },
  {
   "cell_type": "code",
   "execution_count": 18,
   "id": "6ab45a71",
   "metadata": {},
   "outputs": [],
   "source": [
    "# ✅ 1. head_elements列からmetaとtitleを抽出\n",
    "def extract_meta_and_title_tags(head_elements_str):\n",
    "    try:\n",
    "        elements = ast.literal_eval(head_elements_str)\n",
    "        meta_tags = [el for el in elements if el.get(\"tag\") == \"meta\"]\n",
    "        title_text = next((el.get(\"text\", \"\") for el in elements if el.get(\"tag\") == \"title\"), \"\")\n",
    "        return meta_tags, title_text\n",
    "    except Exception:\n",
    "        return [], \"\"\n",
    "\n",
    "df[['meta_tags', 'title_text']] = df['head_elements'].apply(\n",
    "    lambda x: pd.Series(extract_meta_and_title_tags(x))\n",
    ")\n"
   ]
  },
  {
   "cell_type": "code",
   "execution_count": 19,
   "id": "ab76bede",
   "metadata": {},
   "outputs": [],
   "source": [
    "# ✅ 2. metaタグからkeywords, descriptionのcontentを抽出\n",
    "def extract_meta_content(meta_tags, target_name):\n",
    "    for tag in meta_tags:\n",
    "        if not isinstance(tag, dict):\n",
    "            continue\n",
    "        attrs = tag.get(\"attributes\")\n",
    "        if not isinstance(attrs, dict):\n",
    "            continue\n",
    "        if attrs.get(\"name\", \"\").lower() == target_name:\n",
    "            return attrs.get(\"content\", \"\")\n",
    "    return \"\"\n",
    "\n",
    "df['keywords_content'] = df['meta_tags'].apply(lambda tags: extract_meta_content(tags, \"keywords\"))\n",
    "df['description_content'] = df['meta_tags'].apply(lambda tags: extract_meta_content(tags, \"description\"))"
   ]
  },
  {
   "cell_type": "code",
   "execution_count": 20,
   "id": "7b85d717",
   "metadata": {},
   "outputs": [],
   "source": [
    "# ✅ 3. スパム判定ロジック（同じ単語3回以上 or タイトル長すぎ）\n",
    "def detect_spam(text, threshold=3, max_len=None):\n",
    "    if not text:\n",
    "        return False\n",
    "    words = re.findall(r'\\b\\w+\\b', text.lower())\n",
    "    # stopword を除外\n",
    "    filtered_words = [w for w in words if w not in stop_words]\n",
    "    word_counts = Counter(filtered_words)\n",
    "    \n",
    "    if any(count >= threshold for count in word_counts.values()):\n",
    "        return True\n",
    "    if max_len is not None and len(text) > max_len:\n",
    "        return True\n",
    "    return False\n"
   ]
  },
  {
   "cell_type": "code",
   "execution_count": 21,
   "id": "69721c72",
   "metadata": {},
   "outputs": [],
   "source": [
    "# ✅ 4. スパムフラグ判定\n",
    "df['keywords_spam'] = df['keywords_content'].apply(lambda x: detect_spam(x))\n",
    "df['description_spam'] = df['description_content'].apply(lambda x: detect_spam(x))\n",
    "df['title_spam'] = df['title_text'].apply(lambda x: detect_spam(x, max_len=70))"
   ]
  },
  {
   "cell_type": "code",
   "execution_count": 22,
   "id": "2d0177ae",
   "metadata": {},
   "outputs": [],
   "source": [
    "# ✅ 5. 総合フラグ\n",
    "df['has_seo_spam'] = df['keywords_spam'] | df['description_spam'] | df['title_spam']"
   ]
  },
  {
   "cell_type": "code",
   "execution_count": 11,
   "id": "eeb480a8",
   "metadata": {},
   "outputs": [
    {
     "name": "stdout",
     "output_type": "stream",
     "text": [
      "                                                 url  has_seo_spam\n",
      "0                                   br-icloud.com.br         False\n",
      "1                mp3raid.com/music/krizz_kaliko.html         False\n",
      "2                    bopsecrets.org/rexroth/cr/1.htm         False\n",
      "3  http://garage-pirenne.be/index.php?option=com_...         False\n",
      "4  http://adventure-nicaragua.net/index.php?optio...         False\n",
      "5  http://buzzfil.net/m/show-art/ils-etaient-loin...         False\n",
      "6      espn.go.com/nba/player/_/id/3457/brandon-rush         False\n",
      "7     yourbittorrent.com/?q=anthony-hamilton-soulife         False\n",
      "8           http://pashminaonline.com/pure-pashminas         False\n",
      "9      allmusic.com/album/crazy-from-the-heat-r16990         False\n"
     ]
    }
   ],
   "source": [
    "print(df[['url', 'has_seo_spam']].head(10))"
   ]
  },
  {
   "cell_type": "code",
   "execution_count": 26,
   "id": "ca0875d3",
   "metadata": {},
   "outputs": [
    {
     "name": "stdout",
     "output_type": "stream",
     "text": [
      "스팸 판정된 URL 수: 69044\n",
      "전체 URL 수: 617125\n",
      "스팸 비율: 11.19%\n"
     ]
    }
   ],
   "source": [
    "print(\"스팸 판정된 URL 수:\", df['has_seo_spam'].sum())\n",
    "print(\"전체 URL 수:\", len(df))\n",
    "print(\"스팸 비율: {:.2f}%\".format((df['has_seo_spam'].sum() / len(df)) * 100))"
   ]
  },
  {
   "cell_type": "code",
   "execution_count": 27,
   "id": "979f6a0e",
   "metadata": {},
   "outputs": [
    {
     "name": "stdout",
     "output_type": "stream",
     "text": [
      "has_seo_spam\n",
      "False    548081\n",
      "True      69044\n",
      "Name: count, dtype: int64\n"
     ]
    }
   ],
   "source": [
    "print(df['has_seo_spam'].value_counts())"
   ]
  },
  {
   "cell_type": "code",
   "execution_count": 28,
   "id": "a07decb6",
   "metadata": {},
   "outputs": [],
   "source": [
    "df.to_csv('../data/has_seo_spam.csv', index=False)"
   ]
  },
  {
   "cell_type": "code",
   "execution_count": 38,
   "id": "124222e9",
   "metadata": {},
   "outputs": [
    {
     "data": {
      "image/png": "[encoded data removed]",
      "text/plain": [
       "<Figure size 1000x600 with 1 Axes>"
      ]
     },
     "metadata": {},
     "output_type": "display_data"
    }
   ],
   "source": [
    "import matplotlib.pyplot as plt\n",
    "import seaborn as sns\n",
    "import matplotlib\n",
    "\n",
    "# Use a common English font to avoid glyph issues\n",
    "matplotlib.rcParams['font.family'] = 'Arial'\n",
    "\n",
    "# Style setup for readability\n",
    "sns.set(style=\"whitegrid\")\n",
    "\n",
    "# Count True values in each spam detection column\n",
    "spam_counts = {\n",
    "    'Keywords Spam': df['keywords_spam'].sum(),\n",
    "    'Description Spam': df['description_spam'].sum(),\n",
    "    'Title Spam': df['title_spam'].sum(),\n",
    "    'Total Spam Flag': df['has_seo_spam'].sum()\n",
    "}\n",
    "\n",
    "# Convert to DataFrame for plotting\n",
    "spam_df = pd.DataFrame(list(spam_counts.items()), columns=[\"Spam Type\", \"Count\"])\n",
    "\n",
    "# 割合追加\n",
    "total = len(df)\n",
    "spam_df['Ratio (%)'] = spam_df['Count'] / total * 100\n",
    "\n",
    "# 棒グラフ描画（値付き）\n",
    "plt.figure(figsize=(10, 6))\n",
    "barplot = sns.barplot(x=\"Spam Type\", y=\"Count\", data=spam_df)\n",
    "\n",
    "# 上に数値と割合表示\n",
    "for index, row in spam_df.iterrows():\n",
    "    barplot.text(index, row['Count'] + 1, f\"{row['Count']} ({row['Ratio (%)']:.1f}%)\", ha='center')\n",
    "\n",
    "plt.title(\"SEO Spam Detection - Count and Percentage\", fontsize=16)\n",
    "plt.xlabel(\"Spam Type\", fontsize=12)\n",
    "plt.ylabel(\"Number of Records\", fontsize=12)\n",
    "plt.xticks(rotation=10)\n",
    "plt.tight_layout()\n",
    "plt.show()\n"
   ]
  },
  {
   "cell_type": "code",
   "execution_count": 36,
   "id": "6423e11e",
   "metadata": {},
   "outputs": [
    {
     "data": {
      "image/png": "[encoded data removed]",
      "text/plain": [
       "<Figure size 800x600 with 1 Axes>"
      ]
     },
     "metadata": {},
     "output_type": "display_data"
    }
   ],
   "source": [
    "from matplotlib_venn import venn3\n",
    "\n",
    "# 各条件に該当する集合を構成\n",
    "set_keywords = set(df[df['keywords_spam']].index)\n",
    "set_description = set(df[df['description_spam']].index)\n",
    "set_title = set(df[df['title_spam']].index)\n",
    "\n",
    "plt.figure(figsize=(8, 6))\n",
    "venn3([set_keywords, set_description, set_title], set_labels=('Keywords', 'Description', 'Title'))\n",
    "plt.title(\"Overlap of Spam Types\")\n",
    "plt.show()\n"
   ]
  },
  {
   "cell_type": "code",
   "execution_count": 34,
   "id": "2f3baf43",
   "metadata": {},
   "outputs": [
    {
     "name": "stdout",
     "output_type": "stream",
     "text": [
      "          Spam Type  Count  Ratio (%)\n",
      "0     Keywords Spam  27068   4.386145\n",
      "1  Description Spam  21734   3.521815\n",
      "2        Title Spam  39242   6.358841\n",
      "3   Total Spam Flag  69044  11.188009\n"
     ]
    }
   ],
   "source": [
    "total = len(df)\n",
    "spam_df['Ratio (%)'] = spam_df['Count'] / total * 100\n",
    "print(spam_df)\n"
   ]
  }
 ],
 "metadata": {
  "kernelspec": {
   "display_name": "Python 3",
   "language": "python",
   "name": "python3"
  },
  "language_info": {
   "codemirror_mode": {
    "name": "ipython",
    "version": 3
   },
   "file_extension": ".py",
   "mimetype": "text/x-python",
   "name": "python",
   "nbconvert_exporter": "python",
   "pygments_lexer": "ipython3",
   "version": "3.10.2"
  }
 },
 "nbformat": 4,
 "nbformat_minor": 5
}
