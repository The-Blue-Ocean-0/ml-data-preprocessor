{
 "cells": [
  {
   "cell_type": "code",
   "execution_count": 9,
   "id": "da9d6062",
   "metadata": {},
   "outputs": [],
   "source": [
    "import pandas as pd\n",
    "import re\n",
    "import base64\n",
    "from urllib.parse import unquote, urlparse"
   ]
  },
  {
   "cell_type": "code",
   "execution_count": 10,
   "id": "1864d718",
   "metadata": {},
   "outputs": [
    {
     "name": "stderr",
     "output_type": "stream",
     "text": [
      "C:\\Users\\gkswl\\AppData\\Local\\Temp\\ipykernel_22952\\167397402.py:2: DtypeWarning: Columns (13) have mixed types. Specify dtype option on import or set low_memory=False.\n",
      "  df = pd.read_csv(\"../data/merged_output.csv\")\n"
     ]
    }
   ],
   "source": [
    "# 🔹 1. CSV 불러오기\n",
    "df = pd.read_csv(\"../data/merged_output.csv\")"
   ]
  },
  {
   "cell_type": "code",
   "execution_count": 11,
   "id": "17d1240e",
   "metadata": {},
   "outputs": [],
   "source": [
    "# 🔸 사용할 컬럼명 정의\n",
    "expected_cols = {\n",
    "    'has_redirect_keyword': False,\n",
    "    'has_base64_redirect': False,\n",
    "    'has_fake_brand_domain': False,\n",
    "    'is_short_url': False\n",
    "}\n",
    "\n",
    "# 🔸 분석 기준\n",
    "redirect_keywords = ['redirect', 'url', 'next', 'target']\n",
    "short_url_domains = ['bit.ly', 't.co', 'tinyurl.com', 'goo.gl', 'is.gd', 'ow.ly']\n",
    "fake_brand_patterns = ['naver', 'kakao', 'google', 'apple', 'bank', 'login', 'secure']\n",
    "\n",
    "# 🔸 분석 함수 정의\n",
    "def analyze_url(url):\n",
    "    if not isinstance(url, str):\n",
    "        return pd.Series([False] * 4)\n",
    "\n",
    "    parsed = urlparse(url)\n",
    "    domain = parsed.netloc.lower()\n",
    "    query = parsed.query.lower()\n",
    "\n",
    "    has_redirect_keyword = any(kw in url.lower() for kw in redirect_keywords)\n",
    "\n",
    "    decoded_query = unquote(query)\n",
    "    looks_like_base64 = False\n",
    "    try:\n",
    "        decoded_value = base64.b64decode(decoded_query).decode('utf-8', errors='ignore')\n",
    "        if 'http' in decoded_value:\n",
    "            looks_like_base64 = True\n",
    "    except:\n",
    "        pass\n",
    "\n",
    "    suspicious_domain = any(pattern in domain and not domain.endswith(f\"{pattern}.com\") for pattern in fake_brand_patterns)\n",
    "\n",
    "    is_short_url = any(short in domain for short in short_url_domains)\n",
    "\n",
    "    return pd.Series([\n",
    "        has_redirect_keyword,\n",
    "        looks_like_base64,\n",
    "        suspicious_domain,\n",
    "        is_short_url\n",
    "    ])"
   ]
  },
  {
   "cell_type": "code",
   "execution_count": 13,
   "id": "3707a170",
   "metadata": {},
   "outputs": [
    {
     "name": "stdout",
     "output_type": "stream",
     "text": [
      "<class 'pandas.core.frame.DataFrame'>\n",
      "RangeIndex: 617125 entries, 0 to 617124\n",
      "Data columns (total 25 columns):\n",
      " #   Column               Non-Null Count   Dtype  \n",
      "---  ------               --------------   -----  \n",
      " 0   Unnamed: 0           617125 non-null  int64  \n",
      " 1   url                  617125 non-null  object \n",
      " 2   type                 617125 non-null  object \n",
      " 3   original_url         617125 non-null  object \n",
      " 4   url_type             617125 non-null  int64  \n",
      " 5   url_len              617125 non-null  int64  \n",
      " 6   pri_domain           617125 non-null  object \n",
      " 7   letters_count        617125 non-null  int64  \n",
      " 8   digits_count         617125 non-null  int64  \n",
      " 9   special_chars_count  617125 non-null  int64  \n",
      " 10  shortened            617125 non-null  int64  \n",
      " 11  is_domain_in_url     617125 non-null  int64  \n",
      " 12  secure_http          617125 non-null  int64  \n",
      " 13  have_ip              617125 non-null  object \n",
      " 14  url_region           617125 non-null  object \n",
      " 15  root_domain          616979 non-null  object \n",
      " 16  original_url.1       617125 non-null  object \n",
      " 17  final_url            407537 non-null  object \n",
      " 18  redirect_chain       317022 non-null  object \n",
      " 19  redirect_count       617125 non-null  int64  \n",
      " 20  head_elements        371357 non-null  object \n",
      " 21  timeout              617125 non-null  bool   \n",
      " 22  has_meta_refresh     617125 non-null  bool   \n",
      " 23  meta_refresh_url     7639 non-null    object \n",
      " 24  duration_sec         617125 non-null  float64\n",
      "dtypes: bool(2), float64(1), int64(10), object(12)\n",
      "memory usage: 109.5+ MB\n"
     ]
    }
   ],
   "source": [
    "df.info()"
   ]
  },
  {
   "cell_type": "code",
   "execution_count": 15,
   "id": "5f4f6bb8",
   "metadata": {},
   "outputs": [
    {
     "name": "stdout",
     "output_type": "stream",
     "text": [
      "\n",
      "🔍 조건 기반 요약:\n",
      "✔️ 단축 URL (shortened): 168개\n",
      "✔️ meta refresh 존재: 7639개\n",
      "✔️ 둘 다 해당: 1개\n",
      "✔️ 둘 중 하나라도 해당 (의심 URL): 7806개\n"
     ]
    }
   ],
   "source": [
    "# 2️⃣ 리디렉션 기반 조건 생성\n",
    "df['is_short_url'] = df['shortened'] == 1\n",
    "df['has_meta_refresh'] = df['meta_refresh_url'].notnull()\n",
    "\n",
    "# 3️⃣ 두 조건 중 하나라도 해당되는 경우\n",
    "df['is_redirection_suspect'] = df['is_short_url'] | df['has_meta_refresh']\n",
    "\n",
    "# 4️⃣ 모든 조건이 다 해당되는 경우 (현재는 2가지 조건만 사용)\n",
    "df['is_both'] = df['is_short_url'] & df['has_meta_refresh']\n",
    "\n",
    "# 5️⃣ 개수 출력\n",
    "print(\"\\n🔍 조건 기반 요약:\")\n",
    "print(f\"✔️ 단축 URL (shortened): {df['is_short_url'].sum()}개\")\n",
    "print(f\"✔️ meta refresh 존재: {df['has_meta_refresh'].sum()}개\")\n",
    "print(f\"✔️ 둘 다 해당: {df['is_both'].sum()}개\")\n",
    "print(f\"✔️ 둘 중 하나라도 해당 (의심 URL): {df['is_redirection_suspect'].sum()}개\")\n",
    "\n",
    "# 6️⃣ 저장 (선택사항)\n",
    "df.to_csv(\"../data/redirection_flagged.csv\", index=False)\n"
   ]
  },
  {
   "cell_type": "code",
   "execution_count": null,
   "id": "36bfc30e",
   "metadata": {},
   "outputs": [],
   "source": []
  },
  {
   "cell_type": "code",
   "execution_count": null,
   "id": "d20f7153",
   "metadata": {},
   "outputs": [],
   "source": [
    "# 6️⃣ 저장 (선택사항)\n",
    "df.to_csv(\"../data/redirection_flagged.csv\", index=False)"
   ]
  }
 ],
 "metadata": {
  "kernelspec": {
   "display_name": "Python 3",
   "language": "python",
   "name": "python3"
  },
  "language_info": {
   "codemirror_mode": {
    "name": "ipython",
    "version": 3
   },
   "file_extension": ".py",
   "mimetype": "text/x-python",
   "name": "python",
   "nbconvert_exporter": "python",
   "pygments_lexer": "ipython3",
   "version": "3.10.11"
  }
 },
 "nbformat": 4,
 "nbformat_minor": 5
}
