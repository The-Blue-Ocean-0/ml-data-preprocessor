{
 "cells": [
  {
   "cell_type": "code",
   "execution_count": 2,
   "metadata": {},
   "outputs": [
    {
     "name": "stdout",
     "output_type": "stream",
     "text": [
      "샘플링된 데이터가 저장되었습니다\n"
     ]
    }
   ],
   "source": [
    "# src/select_samples.py\n",
    "\n",
    "import pandas as pd\n",
    "\n",
    "# 데이터 불러오기\n",
    "df = pd.read_csv('../data/url_metadata_cleaned.csv')\n",
    "\n",
    "# url_type이 3인 행 제거\n",
    "df = df[df[\"url_type\"] != 3]\n",
    "\n",
    "# url_type 0에서 50,000개 샘플링\n",
    "df_0 = df[df[\"url_type\"] == 0].sample(n=50000, random_state=100)\n",
    "\n",
    "# url_type 1, 2는 그대로 유지\n",
    "df_1_2 = df[df[\"url_type\"].isin([1, 2])]\n",
    "\n",
    "# 병합 및 인덱스 초기화\n",
    "sampled_df = pd.concat([df_0, df_1_2]).reset_index(drop=True)\n",
    "\n",
    "# 새로운 CSV로 저장\n",
    "sampled_df.to_csv('../data/final_reduction.csv', index=False)\n",
    "\n",
    "print(\"샘플링된 데이터가 저장되었습니다\")\n"
   ]
  }
 ],
 "metadata": {
  "kernelspec": {
   "display_name": "study",
   "language": "python",
   "name": "python3"
  },
  "language_info": {
   "codemirror_mode": {
    "name": "ipython",
    "version": 3
   },
   "file_extension": ".py",
   "mimetype": "text/x-python",
   "name": "python",
   "nbconvert_exporter": "python",
   "pygments_lexer": "ipython3",
   "version": "3.12.8"
  }
 },
 "nbformat": 4,
 "nbformat_minor": 2
}
