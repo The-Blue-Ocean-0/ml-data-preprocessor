{
 "cells": [
  {
   "cell_type": "markdown",
   "id": "2e564fa6",
   "metadata": {},
   "source": [
    "## 전처리한 데이터 가지고 오기"
   ]
  },
  {
   "cell_type": "code",
   "execution_count": 2,
   "id": "af611fce",
   "metadata": {},
   "outputs": [
    {
     "name": "stdout",
     "output_type": "stream",
     "text": [
      "Note: you may need to restart the kernel to use updated packages.\n"
     ]
    },
    {
     "name": "stderr",
     "output_type": "stream",
     "text": [
      "\n",
      "[notice] A new release of pip is available: 23.3.1 -> 25.1.1\n",
      "[notice] To update, run: python.exe -m pip install --upgrade pip\n"
     ]
    }
   ],
   "source": [
    "%pip install -q lightgbm scikit-learn optuna shap"
   ]
  },
  {
   "cell_type": "code",
   "execution_count": 3,
   "id": "8ca96dc6",
   "metadata": {},
   "outputs": [],
   "source": [
    "# ライブラリのインポート\n",
    "import pandas as pd\n",
    "import shap\n",
    "import lightgbm as lgb\n",
    "import optuna\n",
    "import numpy as np\n",
    "import matplotlib.pyplot as plt\n",
    "from sklearn.model_selection import train_test_split\n",
    "from sklearn.metrics import classification_report, confusion_matrix\n",
    "from lightgbm import early_stopping, log_evaluation \n",
    "# from imblearn.over_sampling import SMOTE"
   ]
  },
  {
   "cell_type": "code",
   "execution_count": 4,
   "id": "f8483f5a",
   "metadata": {},
   "outputs": [],
   "source": [
    "# データ読み込み\n",
    "df = pd.read_csv('../data/combined_batches_domain_age_clean_5.csv')\n",
    "\n",
    "best_params = {\n",
    "    'boosting_type': 'goss',\n",
    "    'learning_rate': 0.06327841043353384,\n",
    "    'num_leaves': 146,\n",
    "    'max_depth': 8,\n",
    "    'min_data_in_leaf': 10,\n",
    "    'feature_fraction': 0.7030308338054174,\n",
    "    'lambda_l1': 2.675004037577347,\n",
    "    'lambda_l2': 3.6723765368381396,\n",
    "    'min_gain_to_split': 0.016110568656384494,\n",
    "    'max_bin': 131\n",
    "}"
   ]
  },
  {
   "cell_type": "markdown",
   "id": "f7bb9d3d",
   "metadata": {},
   "source": [
    "特徴量とラベルに分割"
   ]
  },
  {
   "cell_type": "code",
   "execution_count": 5,
   "id": "d8b2ed9f",
   "metadata": {},
   "outputs": [
    {
     "name": "stdout",
     "output_type": "stream",
     "text": [
      "전체 클래스 분포:\n",
      " url_type\n",
      "1    51408\n",
      "0    28726\n",
      "Name: count, dtype: int64\n"
     ]
    }
   ],
   "source": [
    "df['url_type'] = df['url_type'].replace({2: 1})\n",
    "\n",
    "print(\"전체 클래스 분포:\\n\", df['url_type'].value_counts())\n",
    "\n",
    "df['digit_ratio'] = df['digits_count'] / (df['url_len'] + 1e-5)\n",
    "df['meta_density'] = df['meta_count'] / (df['duration_sec'] + 1e-5)\n",
    "df['performance_ratio'] = df['SpeedIndex'] / (df['duration_sec'] + 1e-5)\n",
    "\n",
    "# log変換対象\n",
    "df['TTFB_log'] = np.log1p(df['TTFB'])\n",
    "df['LCP_log'] = np.log1p(df['LCP'])\n",
    "df['FCP_log'] = np.log1p(df['FCP'])\n",
    "# df['TBT_log'] = np.log1p(df['TBT'])  # ただし0の多さには注意\n",
    "\n",
    "# 元の列は除外して、log変換版のみ使用\n",
    "drop_cols = ['TTFB', 'LCP', 'FCP']\n",
    "df = df.drop(columns=drop_cols)\n",
    "\n",
    "# ターゲットと特徴量の分離\n",
    "y = df['url_type']\n",
    "X = df.drop(columns=['url_type'])\n",
    "\n",
    "# X = df.drop(columns=['url_type', 'url_len', 'letters_count','performance_score','title_count','is_domain_in_url'])\n",
    "\n",
    "X['meta_count_high'] = (X['meta_count'] > 10).astype(int)\n",
    "X['digit_ratio_bin'] = pd.cut(X['digit_ratio'], bins=[0, 0.02, 0.05, 0.1, 0.4], labels=False)\n",
    "X['performance_ratio_log'] = np.log1p(X['performance_ratio'])\n",
    "\n",
    "X = X.select_dtypes(include=['int64', 'float64', 'bool'])"
   ]
  },
  {
   "cell_type": "code",
   "execution_count": 6,
   "id": "f9956b62",
   "metadata": {},
   "outputs": [
    {
     "name": "stdout",
     "output_type": "stream",
     "text": [
      "<class 'pandas.core.frame.DataFrame'>\n",
      "RangeIndex: 80134 entries, 0 to 80133\n",
      "Data columns (total 30 columns):\n",
      " #   Column                Non-Null Count  Dtype  \n",
      "---  ------                --------------  -----  \n",
      " 0   url                   80134 non-null  object \n",
      " 1   url_type              80134 non-null  int64  \n",
      " 2   url_len               80134 non-null  int64  \n",
      " 3   letters_count         80134 non-null  int64  \n",
      " 4   digits_count          80134 non-null  int64  \n",
      " 5   special_chars_count   80134 non-null  int64  \n",
      " 6   shortened             80134 non-null  int64  \n",
      " 7   is_domain_in_url      80134 non-null  int64  \n",
      " 8   secure_http           80134 non-null  int64  \n",
      " 9   redirect_count        80134 non-null  int64  \n",
      " 10  duration_sec          80134 non-null  float64\n",
      " 11  meta_count            80134 non-null  float64\n",
      " 12  link_count            80134 non-null  float64\n",
      " 13  title_count           80134 non-null  float64\n",
      " 14  has_title             80134 non-null  bool   \n",
      " 15  has_meta_description  80134 non-null  bool   \n",
      " 16  has_og_image          80134 non-null  bool   \n",
      " 17  has_og_title          80134 non-null  bool   \n",
      " 18  has_link_stylesheet   80134 non-null  bool   \n",
      " 19  performance_score     80134 non-null  float64\n",
      " 20  CLS                   80134 non-null  float64\n",
      " 21  SpeedIndex            80134 non-null  float64\n",
      " 22  TBT                   80134 non-null  float64\n",
      " 23  domain_age            80134 non-null  float64\n",
      " 24  digit_ratio           80134 non-null  float64\n",
      " 25  meta_density          80134 non-null  float64\n",
      " 26  performance_ratio     80134 non-null  float64\n",
      " 27  TTFB_log              80134 non-null  float64\n",
      " 28  LCP_log               80134 non-null  float64\n",
      " 29  FCP_log               80134 non-null  float64\n",
      "dtypes: bool(5), float64(15), int64(9), object(1)\n",
      "memory usage: 15.7+ MB\n"
     ]
    }
   ],
   "source": [
    "df.info()"
   ]
  },
  {
   "cell_type": "markdown",
   "id": "92fac6f0",
   "metadata": {},
   "source": [
    "学習・検証データに分割"
   ]
  },
  {
   "cell_type": "code",
   "execution_count": 7,
   "id": "d8a81f2f",
   "metadata": {},
   "outputs": [
    {
     "name": "stdout",
     "output_type": "stream",
     "text": [
      "학습셋 클래스 분포:\n",
      " url_type\n",
      "1    41126\n",
      "0    22981\n",
      "Name: count, dtype: int64\n"
     ]
    }
   ],
   "source": [
    "X_train, X_test, y_train, y_test = train_test_split(\n",
    "    X, y, test_size=0.2, random_state=42, stratify=y\n",
    ")\n",
    "\n",
    "print(\"학습셋 클래스 분포:\\n\", y_train.value_counts())\n"
   ]
  },
  {
   "cell_type": "markdown",
   "id": "d6bde9e3",
   "metadata": {},
   "source": [
    "LightGBMデータ形式に変換"
   ]
  },
  {
   "cell_type": "code",
   "execution_count": 8,
   "id": "07aefa3e",
   "metadata": {},
   "outputs": [],
   "source": [
    "train_data = lgb.Dataset(X_train, label=y_train)\n",
    "test_data = lgb.Dataset(X_test, label=y_test)"
   ]
  },
  {
   "cell_type": "markdown",
   "id": "517afacb",
   "metadata": {},
   "source": [
    "ハイパーパラメータ設定とモデル学習"
   ]
  },
  {
   "cell_type": "code",
   "execution_count": 9,
   "id": "daed9b0f",
   "metadata": {},
   "outputs": [
    {
     "name": "stdout",
     "output_type": "stream",
     "text": [
      "Training until validation scores don't improve for 30 rounds\n",
      "[10]\ttraining's binary_logloss: 0.428046\tvalid_1's binary_logloss: 0.427665\n",
      "[20]\ttraining's binary_logloss: 0.334886\tvalid_1's binary_logloss: 0.336274\n",
      "[30]\ttraining's binary_logloss: 0.282772\tvalid_1's binary_logloss: 0.285722\n",
      "[40]\ttraining's binary_logloss: 0.254254\tvalid_1's binary_logloss: 0.25882\n",
      "[50]\ttraining's binary_logloss: 0.232731\tvalid_1's binary_logloss: 0.239446\n",
      "[60]\ttraining's binary_logloss: 0.216534\tvalid_1's binary_logloss: 0.225124\n",
      "[70]\ttraining's binary_logloss: 0.206171\tvalid_1's binary_logloss: 0.21677\n",
      "[80]\ttraining's binary_logloss: 0.196869\tvalid_1's binary_logloss: 0.209139\n",
      "[90]\ttraining's binary_logloss: 0.190772\tvalid_1's binary_logloss: 0.204842\n",
      "[100]\ttraining's binary_logloss: 0.184846\tvalid_1's binary_logloss: 0.200884\n",
      "[110]\ttraining's binary_logloss: 0.179188\tvalid_1's binary_logloss: 0.197211\n",
      "[120]\ttraining's binary_logloss: 0.174441\tvalid_1's binary_logloss: 0.194354\n",
      "[130]\ttraining's binary_logloss: 0.170408\tvalid_1's binary_logloss: 0.192052\n",
      "[140]\ttraining's binary_logloss: 0.166595\tvalid_1's binary_logloss: 0.189971\n",
      "[150]\ttraining's binary_logloss: 0.163214\tvalid_1's binary_logloss: 0.188274\n",
      "[160]\ttraining's binary_logloss: 0.160274\tvalid_1's binary_logloss: 0.186824\n",
      "[170]\ttraining's binary_logloss: 0.156833\tvalid_1's binary_logloss: 0.185214\n",
      "[180]\ttraining's binary_logloss: 0.153963\tvalid_1's binary_logloss: 0.183727\n",
      "[190]\ttraining's binary_logloss: 0.150861\tvalid_1's binary_logloss: 0.182329\n",
      "[200]\ttraining's binary_logloss: 0.147923\tvalid_1's binary_logloss: 0.181257\n",
      "[210]\ttraining's binary_logloss: 0.145212\tvalid_1's binary_logloss: 0.180257\n",
      "[220]\ttraining's binary_logloss: 0.142123\tvalid_1's binary_logloss: 0.178983\n",
      "[230]\ttraining's binary_logloss: 0.139475\tvalid_1's binary_logloss: 0.177868\n",
      "[240]\ttraining's binary_logloss: 0.137449\tvalid_1's binary_logloss: 0.177098\n",
      "[250]\ttraining's binary_logloss: 0.134966\tvalid_1's binary_logloss: 0.17613\n",
      "[260]\ttraining's binary_logloss: 0.133045\tvalid_1's binary_logloss: 0.175594\n",
      "[270]\ttraining's binary_logloss: 0.131421\tvalid_1's binary_logloss: 0.175181\n",
      "[280]\ttraining's binary_logloss: 0.129118\tvalid_1's binary_logloss: 0.174643\n",
      "[290]\ttraining's binary_logloss: 0.127072\tvalid_1's binary_logloss: 0.174049\n",
      "[300]\ttraining's binary_logloss: 0.125047\tvalid_1's binary_logloss: 0.173472\n",
      "[310]\ttraining's binary_logloss: 0.123225\tvalid_1's binary_logloss: 0.172999\n",
      "[320]\ttraining's binary_logloss: 0.121223\tvalid_1's binary_logloss: 0.172469\n",
      "[330]\ttraining's binary_logloss: 0.119279\tvalid_1's binary_logloss: 0.171971\n",
      "[340]\ttraining's binary_logloss: 0.117679\tvalid_1's binary_logloss: 0.171556\n",
      "[350]\ttraining's binary_logloss: 0.115764\tvalid_1's binary_logloss: 0.171179\n",
      "[360]\ttraining's binary_logloss: 0.113996\tvalid_1's binary_logloss: 0.170769\n",
      "[370]\ttraining's binary_logloss: 0.112329\tvalid_1's binary_logloss: 0.170401\n",
      "[380]\ttraining's binary_logloss: 0.110715\tvalid_1's binary_logloss: 0.170086\n",
      "[390]\ttraining's binary_logloss: 0.108981\tvalid_1's binary_logloss: 0.169683\n",
      "[400]\ttraining's binary_logloss: 0.107383\tvalid_1's binary_logloss: 0.169317\n",
      "[410]\ttraining's binary_logloss: 0.106124\tvalid_1's binary_logloss: 0.168958\n",
      "[420]\ttraining's binary_logloss: 0.10455\tvalid_1's binary_logloss: 0.168591\n",
      "[430]\ttraining's binary_logloss: 0.10306\tvalid_1's binary_logloss: 0.168308\n",
      "[440]\ttraining's binary_logloss: 0.101562\tvalid_1's binary_logloss: 0.167924\n",
      "[450]\ttraining's binary_logloss: 0.100019\tvalid_1's binary_logloss: 0.167633\n",
      "[460]\ttraining's binary_logloss: 0.0988073\tvalid_1's binary_logloss: 0.16749\n",
      "[470]\ttraining's binary_logloss: 0.0976534\tvalid_1's binary_logloss: 0.167253\n",
      "[480]\ttraining's binary_logloss: 0.0965197\tvalid_1's binary_logloss: 0.167113\n",
      "[490]\ttraining's binary_logloss: 0.0953498\tvalid_1's binary_logloss: 0.167024\n",
      "[500]\ttraining's binary_logloss: 0.0941333\tvalid_1's binary_logloss: 0.166921\n",
      "[510]\ttraining's binary_logloss: 0.0929887\tvalid_1's binary_logloss: 0.166634\n",
      "[520]\ttraining's binary_logloss: 0.0918243\tvalid_1's binary_logloss: 0.166486\n",
      "[530]\ttraining's binary_logloss: 0.0905445\tvalid_1's binary_logloss: 0.166169\n",
      "[540]\ttraining's binary_logloss: 0.0892615\tvalid_1's binary_logloss: 0.166043\n",
      "[550]\ttraining's binary_logloss: 0.0880734\tvalid_1's binary_logloss: 0.165765\n",
      "[560]\ttraining's binary_logloss: 0.0869784\tvalid_1's binary_logloss: 0.165522\n",
      "[570]\ttraining's binary_logloss: 0.0859027\tvalid_1's binary_logloss: 0.165352\n",
      "[580]\ttraining's binary_logloss: 0.0848867\tvalid_1's binary_logloss: 0.165193\n",
      "[590]\ttraining's binary_logloss: 0.0838417\tvalid_1's binary_logloss: 0.165012\n",
      "[600]\ttraining's binary_logloss: 0.0828748\tvalid_1's binary_logloss: 0.164816\n",
      "[610]\ttraining's binary_logloss: 0.0819255\tvalid_1's binary_logloss: 0.164666\n",
      "[620]\ttraining's binary_logloss: 0.0810343\tvalid_1's binary_logloss: 0.164531\n",
      "[630]\ttraining's binary_logloss: 0.0799336\tvalid_1's binary_logloss: 0.164357\n",
      "[640]\ttraining's binary_logloss: 0.0790944\tvalid_1's binary_logloss: 0.164235\n",
      "[650]\ttraining's binary_logloss: 0.0782489\tvalid_1's binary_logloss: 0.164201\n",
      "[660]\ttraining's binary_logloss: 0.0773071\tvalid_1's binary_logloss: 0.16418\n",
      "[670]\ttraining's binary_logloss: 0.0764332\tvalid_1's binary_logloss: 0.164009\n",
      "[680]\ttraining's binary_logloss: 0.0754713\tvalid_1's binary_logloss: 0.163913\n",
      "[690]\ttraining's binary_logloss: 0.074617\tvalid_1's binary_logloss: 0.163836\n",
      "[700]\ttraining's binary_logloss: 0.0737663\tvalid_1's binary_logloss: 0.163778\n",
      "[710]\ttraining's binary_logloss: 0.072961\tvalid_1's binary_logloss: 0.16379\n",
      "[720]\ttraining's binary_logloss: 0.0721717\tvalid_1's binary_logloss: 0.163697\n",
      "[730]\ttraining's binary_logloss: 0.0714755\tvalid_1's binary_logloss: 0.16359\n",
      "[740]\ttraining's binary_logloss: 0.0707951\tvalid_1's binary_logloss: 0.163595\n",
      "[750]\ttraining's binary_logloss: 0.0700729\tvalid_1's binary_logloss: 0.163557\n",
      "[760]\ttraining's binary_logloss: 0.0693331\tvalid_1's binary_logloss: 0.163575\n",
      "[770]\ttraining's binary_logloss: 0.0686086\tvalid_1's binary_logloss: 0.163564\n",
      "[780]\ttraining's binary_logloss: 0.0677957\tvalid_1's binary_logloss: 0.16361\n",
      "[790]\ttraining's binary_logloss: 0.0671248\tvalid_1's binary_logloss: 0.163564\n",
      "[800]\ttraining's binary_logloss: 0.066455\tvalid_1's binary_logloss: 0.1635\n",
      "[810]\ttraining's binary_logloss: 0.065797\tvalid_1's binary_logloss: 0.163553\n",
      "[820]\ttraining's binary_logloss: 0.065137\tvalid_1's binary_logloss: 0.163582\n",
      "Early stopping, best iteration is:\n",
      "[797]\ttraining's binary_logloss: 0.0666732\tvalid_1's binary_logloss: 0.163468\n"
     ]
    }
   ],
   "source": [
    "# GOSS の場合は bagging 系のパラメータ削除（GOSSは使えない）\n",
    "# if best_params.get(\"boosting_type\") == \"goss\":\n",
    "best_params.pop(\"bagging_fraction\", None)\n",
    "best_params.pop(\"bagging_freq\", None)\n",
    "\n",
    "# 固定設定を追記\n",
    "best_params.update({\n",
    "    'objective': 'binary',\n",
    "    # 'num_class': y.nunique(),\n",
    "    'metric': 'binary_logloss',\n",
    "    'verbosity': -1,\n",
    "    'feature_pre_filter': False,\n",
    "    'device': 'gpu',\n",
    "    'gpu_platform_id': 0,\n",
    "    'gpu_device_id': 0\n",
    "})\n",
    "\n",
    "# データセットの再構築\n",
    "train_dataset = lgb.Dataset(X_train, label=y_train)\n",
    "valid_dataset = lgb.Dataset(X_test, label=y_test)\n",
    "\n",
    "# num_boost_round は早期終了されるので大きめにしておく（Optunaでの記録がない場合）\n",
    "model = lgb.train(\n",
    "    best_params,\n",
    "    train_dataset,\n",
    "    valid_sets=[train_dataset, valid_dataset],\n",
    "    num_boost_round=1000,\n",
    "    callbacks=[\n",
    "        early_stopping(stopping_rounds=30),\n",
    "        log_evaluation(period=10)\n",
    "    ]\n",
    ")"
   ]
  },
  {
   "cell_type": "markdown",
   "id": "5ef2e365",
   "metadata": {},
   "source": [
    "予測と評価"
   ]
  },
  {
   "cell_type": "code",
   "execution_count": 10,
   "id": "9abd7786",
   "metadata": {},
   "outputs": [
    {
     "name": "stdout",
     "output_type": "stream",
     "text": [
      "📊 Classification Report\n",
      "              precision    recall  f1-score   support\n",
      "\n",
      "           0       0.91      0.90      0.90      5745\n",
      "           1       0.95      0.95      0.95     10282\n",
      "\n",
      "    accuracy                           0.93     16027\n",
      "   macro avg       0.93      0.93      0.93     16027\n",
      "weighted avg       0.93      0.93      0.93     16027\n",
      "\n",
      "🧩 Confusion Matrix\n",
      "[[5187  558]\n",
      " [ 536 9746]]\n",
      "\n",
      "🧩 전체 클래스 간 오분류 분석\n",
      "\n",
      "🔍 클래스 0 → 클래스 1 로 오분류된 인스턴스 수: 558\n",
      "          url_len  letters_count  digits_count  special_chars_count  \\\n",
      "count  558.000000     558.000000    558.000000           558.000000   \n",
      "mean    34.302867      29.069892      0.953405             4.564516   \n",
      "std     15.416761      13.195279      2.451244             2.704865   \n",
      "min     11.000000       8.000000      0.000000             2.000000   \n",
      "25%     25.000000      21.000000      0.000000             3.000000   \n",
      "50%     32.000000      27.000000      0.000000             4.000000   \n",
      "75%     40.000000      35.000000      0.000000             5.000000   \n",
      "max    134.000000     111.000000     23.000000            24.000000   \n",
      "\n",
      "       shortened  is_domain_in_url  secure_http  redirect_count  duration_sec  \\\n",
      "count      558.0        558.000000   558.000000      558.000000    558.000000   \n",
      "mean         0.0          0.039427     0.008961        1.304659     17.268817   \n",
      "std          0.0          0.194782     0.094320        1.423203     17.081793   \n",
      "min          0.0          0.000000     0.000000        0.000000      2.870000   \n",
      "25%          0.0          0.000000     0.000000        0.000000      5.882500   \n",
      "50%          0.0          0.000000     0.000000        1.000000     11.495000   \n",
      "75%          0.0          0.000000     0.000000        2.000000     23.495000   \n",
      "max          0.0          1.000000     1.000000       13.000000    177.620000   \n",
      "\n",
      "       meta_count  ...           TBT    domain_age  digit_ratio  meta_density  \\\n",
      "count  558.000000  ...    558.000000    558.000000   558.000000    558.000000   \n",
      "mean     7.851254  ...    150.556648   8551.256272     0.022356      0.428517   \n",
      "std      8.247589  ...    678.292258   2920.228292     0.051405      0.306040   \n",
      "min      0.000000  ...      0.000000     66.000000     0.000000      0.000000   \n",
      "25%      2.000000  ...      0.000000   8084.250000     0.000000      0.211492   \n",
      "50%      5.000000  ...      0.000000   9353.500000     0.000000      0.383877   \n",
      "75%     12.000000  ...     88.125000  10276.750000     0.000000      0.601594   \n",
      "max     58.000000  ...  13436.462400  14548.000000     0.333333      1.572241   \n",
      "\n",
      "       performance_ratio    TTFB_log     LCP_log     FCP_log  digit_ratio_bin  \\\n",
      "count         558.000000  558.000000  558.000000  558.000000       133.000000   \n",
      "mean          196.530016    5.880172    6.754119    6.451378         2.007519   \n",
      "std           196.234510    0.968091    0.861780    0.697335         0.857200   \n",
      "min             6.616442    2.079442    5.117994    5.117994         0.000000   \n",
      "25%            96.242685    5.258794    6.069006    5.912148         1.000000   \n",
      "50%           142.785934    5.712080    6.859238    6.600029         2.000000   \n",
      "75%           227.292283    6.485376    7.371863    6.962902         3.000000   \n",
      "max          1604.389817    8.903679    9.098639    8.407636         3.000000   \n",
      "\n",
      "       performance_ratio_log  \n",
      "count             558.000000  \n",
      "mean                5.008094  \n",
      "std                 0.709597  \n",
      "min                 2.030309  \n",
      "25%                 4.577208  \n",
      "50%                 4.968326  \n",
      "75%                 5.430626  \n",
      "max                 7.381122  \n",
      "\n",
      "[8 rows x 25 columns]\n",
      "\n",
      "🔍 클래스 1 → 클래스 0 로 오분류된 인스턴스 수: 536\n",
      "          url_len  letters_count  digits_count  special_chars_count  \\\n",
      "count  536.000000     536.000000    536.000000           536.000000   \n",
      "mean    40.606343      33.158582      2.132463             5.408582   \n",
      "std     19.614697      15.067420      7.017681             3.155627   \n",
      "min     10.000000       7.000000      0.000000             2.000000   \n",
      "25%     28.750000      23.000000      0.000000             3.000000   \n",
      "50%     38.000000      31.000000      0.000000             5.000000   \n",
      "75%     48.000000      39.000000      3.000000             6.250000   \n",
      "max    178.000000     106.000000    144.000000            26.000000   \n",
      "\n",
      "       shortened  is_domain_in_url  secure_http  redirect_count  duration_sec  \\\n",
      "count      536.0        536.000000   536.000000      536.000000    536.000000   \n",
      "mean         0.0          0.018657     0.001866        1.656716     23.044067   \n",
      "std          0.0          0.135436     0.043193        1.956936     21.883934   \n",
      "min          0.0          0.000000     0.000000        0.000000      2.750000   \n",
      "25%          0.0          0.000000     0.000000        1.000000      7.500000   \n",
      "50%          0.0          0.000000     0.000000        1.000000     18.555000   \n",
      "75%          0.0          0.000000     0.000000        2.000000     29.010000   \n",
      "max          0.0          1.000000     1.000000       29.000000    179.750000   \n",
      "\n",
      "       meta_count  ...           TBT    domain_age  digit_ratio  meta_density  \\\n",
      "count  536.000000  ...    536.000000    536.000000   536.000000    536.000000   \n",
      "mean    11.113806  ...    275.891080   7799.447761     0.042455      0.465408   \n",
      "std     10.709421  ...    726.935607   2940.786850     0.076960      0.311358   \n",
      "min      0.000000  ...      0.000000     49.000000     0.000000      0.000000   \n",
      "25%      3.000000  ...      0.000000   6872.750000     0.000000      0.255773   \n",
      "50%      8.000000  ...     27.000000   8553.000000     0.000000      0.405327   \n",
      "75%     18.000000  ...    279.625000   9821.500000     0.071429      0.626518   \n",
      "max     82.000000  ...  12142.000000  13835.000000     0.808989      1.851850   \n",
      "\n",
      "       performance_ratio    TTFB_log     LCP_log     FCP_log  digit_ratio_bin  \\\n",
      "count         536.000000  536.000000  536.000000  536.000000       200.000000   \n",
      "mean          173.932370    5.887429    7.048018    6.614873         2.195000   \n",
      "std           179.929301    0.958503    0.803601    0.597962         0.812574   \n",
      "min            18.811850    1.791759    5.147494    5.122678         0.000000   \n",
      "25%            82.943592    5.338720    6.545413    6.258655         2.000000   \n",
      "50%           132.822372    5.899897    7.058781    6.725502         2.000000   \n",
      "75%           197.422296    6.510614    7.583441    7.015014         3.000000   \n",
      "max          1736.340211    8.812397    9.143933    8.315933         3.000000   \n",
      "\n",
      "       performance_ratio_log  \n",
      "count             536.000000  \n",
      "mean                4.884860  \n",
      "std                 0.710555  \n",
      "min                 2.986280  \n",
      "25%                 4.430145  \n",
      "50%                 4.896511  \n",
      "75%                 5.290397  \n",
      "max                 7.460111  \n",
      "\n",
      "[8 rows x 25 columns]\n"
     ]
    }
   ],
   "source": [
    "y_pred_proba = model.predict(X_test)\n",
    "# y_pred = y_pred_proba.argmax(axis=1)\n",
    "y_pred = (y_pred_proba > 0.5).astype(int)\n",
    "print(\"📊 Classification Report\")\n",
    "print(classification_report(y_test, y_pred))\n",
    "\n",
    "print(\"🧩 Confusion Matrix\")\n",
    "print(confusion_matrix(y_test, y_pred))\n",
    "\n",
    "print(\"\\n🧩 전체 클래스 간 오분류 분석\")\n",
    "\n",
    "# 클래스 목록 가져오기 (0,1,2 외의 클래스도 대응 가능)\n",
    "classes = sorted(set(y_test) | set(y_pred))\n",
    "\n",
    "# y_test와 y_pred가 시리즈일 경우를 고려하여 numpy 배열로 변환\n",
    "y_true = y_test.values if isinstance(y_test, pd.Series) else y_test\n",
    "y_pred_np = y_pred if not isinstance(y_pred, pd.Series) else y_pred.values\n",
    "\n",
    "# 모든 클래스 쌍 (i ≠ j)에 대해 루프\n",
    "for i in classes:\n",
    "    for j in classes:\n",
    "        if i == j:\n",
    "            continue  # 정답인 경우는 건너뜀 (오분류만 분석)\n",
    "\n",
    "        # i → j로 오분류된 인스턴스를 찾음\n",
    "        misclassified_mask = (y_true == i) & (y_pred_np == j)\n",
    "\n",
    "        if misclassified_mask.sum() > 0:\n",
    "            print(f\"\\n🔍 클래스 {i} → 클래스 {j} 로 오분류된 인스턴스 수: {misclassified_mask.sum()}\")\n",
    "            print(X_test[misclassified_mask].describe())\n",
    "        else:\n",
    "            print(f\"\\n✅ 클래스 {i} → 클래스 {j} 오분류 없음\")"
   ]
  },
  {
   "cell_type": "markdown",
   "id": "d6c4610d",
   "metadata": {},
   "source": [
    "重要な特徴量を可視化"
   ]
  },
  {
   "cell_type": "code",
   "execution_count": null,
   "id": "69974e58",
   "metadata": {},
   "outputs": [
    {
     "name": "stderr",
     "output_type": "stream",
     "text": [
      "c:\\Users\\gkswl\\AppData\\Local\\Programs\\Python\\Python310\\lib\\site-packages\\shap\\explainers\\_tree.py:583: UserWarning: LightGBM binary classifier with TreeExplainer shap values output has changed to a list of ndarray\n",
      "  warnings.warn(\n"
     ]
    },
    {
     "ename": "IndexError",
     "evalue": "index 71 is out of bounds for axis 0 with size 30",
     "output_type": "error",
     "traceback": [
      "\u001b[1;31m---------------------------------------------------------------------------\u001b[0m",
      "\u001b[1;31mIndexError\u001b[0m                                Traceback (most recent call last)",
      "Cell \u001b[1;32mIn[17], line 24\u001b[0m\n\u001b[0;32m     19\u001b[0m \u001b[38;5;28;01mif\u001b[39;00m wrong_mask\u001b[38;5;241m.\u001b[39msum() \u001b[38;5;241m>\u001b[39m \u001b[38;5;241m0\u001b[39m:\n\u001b[0;32m     20\u001b[0m     \u001b[38;5;66;03m# 위치 기반 인덱스 얻기 (iloc용)\u001b[39;00m\n\u001b[0;32m     21\u001b[0m     wrong_iloc \u001b[38;5;241m=\u001b[39m np\u001b[38;5;241m.\u001b[39mwhere(wrong_mask)[\u001b[38;5;241m0\u001b[39m][\u001b[38;5;241m0\u001b[39m]\n\u001b[0;32m     23\u001b[0m     shap\u001b[38;5;241m.\u001b[39mplots\u001b[38;5;241m.\u001b[39mwaterfall(shap\u001b[38;5;241m.\u001b[39mExplanation(\n\u001b[1;32m---> 24\u001b[0m         values\u001b[38;5;241m=\u001b[39m\u001b[43mshap_vals\u001b[49m\u001b[43m[\u001b[49m\u001b[43mwrong_iloc\u001b[49m\u001b[43m]\u001b[49m,\n\u001b[0;32m     25\u001b[0m         base_values\u001b[38;5;241m=\u001b[39mexplainer\u001b[38;5;241m.\u001b[39mexpected_value[\u001b[38;5;241m0\u001b[39m],\n\u001b[0;32m     26\u001b[0m         data\u001b[38;5;241m=\u001b[39mX_test\u001b[38;5;241m.\u001b[39miloc[wrong_iloc],\n\u001b[0;32m     27\u001b[0m         feature_names\u001b[38;5;241m=\u001b[39mX_test\u001b[38;5;241m.\u001b[39mcolumns\u001b[38;5;241m.\u001b[39mtolist()\n\u001b[0;32m     28\u001b[0m     ))\n\u001b[0;32m     29\u001b[0m \u001b[38;5;28;01melse\u001b[39;00m:\n\u001b[0;32m     30\u001b[0m     \u001b[38;5;28mprint\u001b[39m(\u001b[38;5;124m\"\u001b[39m\u001b[38;5;124m❗ クラス2→クラス0 の誤分類サンプルが見つかりませんでした。\u001b[39m\u001b[38;5;124m\"\u001b[39m)\n",
      "\u001b[1;31mIndexError\u001b[0m: index 71 is out of bounds for axis 0 with size 30"
     ]
    }
   ],
   "source": [
    "# -----------------------------\n",
    "# ✅ SHAP 可視化\n",
    "# -----------------------------\n",
    "explainer = shap.TreeExplainer(model)\n",
    "shap_values = explainer.shap_values(X_test)\n",
    "\n",
    "# クラス2 → クラス0の誤分類サンプルに対する SHAP waterfall plot\n",
    "wrong_mask = (y_test == 1) & (y_pred == 0)\n",
    "\n",
    "if wrong_mask.sum() > 0:\n",
    "    idx = np.where(wrong_mask)[0][0]\n",
    "    shap.plots.waterfall(shap.Explanation(\n",
    "        values=shap_values[2][idx],\n",
    "        base_values=explainer.expected_value[2],\n",
    "        data=X_test.iloc[idx],\n",
    "        feature_names=X_test.columns.tolist()\n",
    "    ))\n",
    "else:\n",
    "    print(\"❗ クラス2→クラス0 の誤分類サンプルが見つかりませんでした。\")\n",
    "\n",
    "lgb.plot_importance(model, max_num_features=25)"
   ]
  },
  {
   "cell_type": "code",
   "execution_count": 12,
   "id": "14605774",
   "metadata": {},
   "outputs": [
    {
     "data": {
      "text/plain": [
       "<Axes: title={'center': 'Feature importance'}, xlabel='Feature importance', ylabel='Features'>"
      ]
     },
     "execution_count": 12,
     "metadata": {},
     "output_type": "execute_result"
    },
    {
     "data": {
      "image/png": "[encoded data removed]",
      "text/plain": [
       "<Figure size 640x480 with 1 Axes>"
      ]
     },
     "metadata": {},
     "output_type": "display_data"
    }
   ],
   "source": [
    "lgb.plot_importance(model, max_num_features=25)"
   ]
  }
 ],
 "metadata": {
  "kernelspec": {
   "display_name": "Python 3",
   "language": "python",
   "name": "python3"
  },
  "language_info": {
   "codemirror_mode": {
    "name": "ipython",
    "version": 3
   },
   "file_extension": ".py",
   "mimetype": "text/x-python",
   "name": "python",
   "nbconvert_exporter": "python",
   "pygments_lexer": "ipython3",
   "version": "3.10.11"
  }
 },
 "nbformat": 4,
 "nbformat_minor": 5
}
